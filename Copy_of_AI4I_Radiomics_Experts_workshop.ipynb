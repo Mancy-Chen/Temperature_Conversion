{
  "cells": [
    {
      "cell_type": "markdown",
      "metadata": {
        "id": "view-in-github",
        "colab_type": "text"
      },
      "source": [
        "<a href=\"https://colab.research.google.com/github/Mancy-Chen/Temperature_Conversion/blob/main/Copy_of_AI4I_Radiomics_Experts_workshop.ipynb\" target=\"_parent\"><img src=\"https://colab.research.google.com/assets/colab-badge.svg\" alt=\"Open In Colab\"/></a>"
      ]
    },
    {
      "cell_type": "markdown",
      "metadata": {
        "id": "XiGMHG8iYoWV"
      },
      "source": [
        "# Radiomics for experts\n",
        "  \n",
        "<b>'Building a radiomics classifier that distinguishes between benign and malignant lesions will certainly improve clinical handling of suspicious lesions, and minimize the need for invasive procedures' - the aim of all the radiomics researchers.</b>\n",
        "\n",
        "## Introduction\n",
        "\n",
        "In this script, you will use a privately collected contrast enhanced spectral mammography (CESM) of 1058 patients at Maastricht University Medical Center (MUMC). You will build a classifier to differentiate between malignant and benign breast lesions. Such a model will reduce the necessity for invasive tissue biopsies. If you find this task, or parts of it, too hard, you can \"cheat\" by looking at the beginners notebook, as most tasks are very similar.\n",
        "\n",
        "<b>Note:</b> this dataset is private and allowed to be used only for the purpose of this course! Nevertheless, for this notebook, we provide you with the features extracted from the data as an invert transformation is not possible. If you want to extract the features yourself, you will receive the dedicated instructions at the practical. In this case, please make sure you delete imaging data after the workshop. For this, you can use a precision-medicine-toolbox: https://github.com/primakov/precision-medicine-toolbox. For the hints, you can have a look at the beginners notebook: https://colab.research.google.com/drive/1K-sg8g2Po6Czq5utFS2F6CtetXcrwpIt?usp=sharing.\n",
        "\n",
        "<b>Brief description</b>\n",
        "\n",
        "Mammography is the standard imaging tool for breast-cancer screening, but is prone to false positives and lowered sensitivity in high-density breasts. Contrast enhanced spectral mammography (CESM) depicts breast lesions with more accuracy and with higher sensitivity than regular mammograms. This technique uses an iodine contrast agent in addition to a high energy and low energy mammogram to cancel out background noise and enhance the tumor. The advantage of CESM compared to regular mammography is that breast density does not affect image quality, and it boasts a sensitivity of 93-100%, compared to 75-85% of mammography on regular breasts, and lower than 50% in dense breasts.   \n",
        "\n",
        "![picture](https://drive.google.com/uc?export=view&id=1GRt1gWtxPDXGycX6TpDAbH1XAieMQc0t)      \n",
        "A typical contrast-enhanced spectral mammography (CESM) examination (only right mediolateral oblique view shown), consisting of a low-energy (a), high-energy (b) and recombined (c) image. A suspicious lesion is seen on the low-energy image, showing enhancement on the recombined image (white arrows). Histopathology showed invasive ductal carcinoma. The high-energy image is not for diagnostic purposes but is used for construction of the recombined image (Lalji, U.C., Jeukens, C.R.L.P.N., Houben, I. et al. Evaluation of low-energy contrast-enhanced spectral mammography images by comparing them to full-field digital mammography using EUREF image quality criteria. Eur Radiol 25, 2813–2820 (2015). https://doi.org/10.1007/s00330-015-3695-2)\n",
        "\n",
        "<b>Problem</b>  \n",
        "\n",
        "Though CESM improves the detection of breast lesions, there is still a challenge in distinguishing between benign and malignant lesions, as the specificity of CESM is estimated to be 70%. This stands to improve using machine learning (ML) algorithms.\n",
        "\n",
        "<b>Notebook structure</b>  \n",
        "\n",
        "The Python script will take you through the following steps:  \n",
        " - Installing packages and importing libraries,\n",
        " - Reading the data and assigning the outcomes,\n",
        " - Removing redundant features and selecting predictive features,\n",
        " - Creating the classification models.\n",
        "If you still have time, go back and try balancing your data, and fine-tune your models.\n",
        "\n",
        "## Getting started\n",
        "\n",
        "This is an interactive Python notebook. To run it, you don't need to install anything on your PC since the script is executed in the cloud. On the left tab, you can see the 'Files' folder, that contains the data. Results of the script execution will be saved in this folder.  \n",
        "  \n",
        "The information about the curated imaging dataset will be distributed separately. To open DICOM files, you can use 3D Slicer (https://www.slicer.org/), RadiAnt viewer (https://www.radiantviewer.com/), or MicroDicom viewer (https://www.microdicom.com/downloads.html). As feature extraction process takes time, we prepared the Excel tables with the pre-extracted features to work with. All the data will be pulled from the shared Google Drive to the temporary environment of this notebook. Further it is explained how to get these data.\n",
        "\n",
        "Please note, that all the files you pull or upload to this notebook, as well as the files, produced while executing the script, are automatically deleted as soon as you end the session.\n",
        "\n",
        "First of all, the needed Python packages have to be uploaded. Some of them are not installed in the environment of this notebook, so the installation is needed with '!pip install <i>name-of-the-package</i>' command. We recommend you get acquainted with getting documentation and help on these packages. For example, google 'python sklearn' and you will get to the documentation quickly. Importing libraries is a necessary step with most progamming languages, not only Python."
      ]
    },
    {
      "cell_type": "code",
      "execution_count": null,
      "metadata": {
        "colab": {
          "base_uri": "https://localhost:8080/"
        },
        "id": "60z4gB0WdAnj",
        "outputId": "8080d110-1e01-44cd-ff50-2ead0c3242e2"
      },
      "outputs": [
        {
          "output_type": "stream",
          "name": "stdout",
          "text": [
            "Collecting precision-medicine-toolbox\n",
            "  Downloading precision_medicine_toolbox-0.11-py3-none-any.whl (29 kB)\n",
            "Collecting SimpleITK (from precision-medicine-toolbox)\n",
            "  Downloading SimpleITK-2.2.1-cp310-cp310-manylinux_2_17_x86_64.manylinux2014_x86_64.whl (52.7 MB)\n",
            "\u001b[2K     \u001b[90m━━━━━━━━━━━━━━━━━━━━━━━━━━━━━━━━━━━━━━━━\u001b[0m \u001b[32m52.7/52.7 MB\u001b[0m \u001b[31m12.9 MB/s\u001b[0m eta \u001b[36m0:00:00\u001b[0m\n",
            "\u001b[?25hRequirement already satisfied: PyWavelets in /usr/local/lib/python3.10/dist-packages (from precision-medicine-toolbox) (1.4.1)\n",
            "Collecting pykwalify (from precision-medicine-toolbox)\n",
            "  Downloading pykwalify-1.8.0-py2.py3-none-any.whl (24 kB)\n",
            "Requirement already satisfied: six in /usr/local/lib/python3.10/dist-packages (from precision-medicine-toolbox) (1.16.0)\n",
            "Requirement already satisfied: tqdm in /usr/local/lib/python3.10/dist-packages (from precision-medicine-toolbox) (4.65.0)\n",
            "Collecting pydicom (from precision-medicine-toolbox)\n",
            "  Downloading pydicom-2.4.1-py3-none-any.whl (1.8 MB)\n",
            "\u001b[2K     \u001b[90m━━━━━━━━━━━━━━━━━━━━━━━━━━━━━━━━━━━━━━━━\u001b[0m \u001b[32m1.8/1.8 MB\u001b[0m \u001b[31m87.9 MB/s\u001b[0m eta \u001b[36m0:00:00\u001b[0m\n",
            "\u001b[?25hRequirement already satisfied: pandas in /usr/local/lib/python3.10/dist-packages (from precision-medicine-toolbox) (1.5.3)\n",
            "Collecting pyradiomics (from precision-medicine-toolbox)\n",
            "  Downloading pyradiomics-3.1.0.tar.gz (34.5 MB)\n",
            "\u001b[2K     \u001b[90m━━━━━━━━━━━━━━━━━━━━━━━━━━━━━━━━━━━━━━━━\u001b[0m \u001b[32m34.5/34.5 MB\u001b[0m \u001b[31m59.5 MB/s\u001b[0m eta \u001b[36m0:00:00\u001b[0m\n",
            "\u001b[?25h  Installing build dependencies ... \u001b[?25l\u001b[?25hdone\n",
            "  Getting requirements to build wheel ... \u001b[?25l\u001b[?25hdone\n",
            "  Installing backend dependencies ... \u001b[?25l\u001b[?25hdone\n",
            "  Preparing metadata (pyproject.toml) ... \u001b[?25l\u001b[?25hdone\n",
            "Discarding \u001b[4;34mhttps://files.pythonhosted.org/packages/03/c1/20fc2c50ab1e3304da36d866042a1905a2b05a1431ece35448ab6b4578f2/pyradiomics-3.1.0.tar.gz (from https://pypi.org/simple/pyradiomics/)\u001b[0m: \u001b[33mRequested pyradiomics from https://files.pythonhosted.org/packages/03/c1/20fc2c50ab1e3304da36d866042a1905a2b05a1431ece35448ab6b4578f2/pyradiomics-3.1.0.tar.gz (from precision-medicine-toolbox) has inconsistent version: expected '3.1.0', but metadata has '3.0.1a1'\u001b[0m\n",
            "  Downloading pyradiomics-3.0.1.tar.gz (34.5 MB)\n",
            "\u001b[2K     \u001b[90m━━━━━━━━━━━━━━━━━━━━━━━━━━━━━━━━━━━━━━━━\u001b[0m \u001b[32m34.5/34.5 MB\u001b[0m \u001b[31m54.8 MB/s\u001b[0m eta \u001b[36m0:00:00\u001b[0m\n",
            "\u001b[?25h  Preparing metadata (setup.py) ... \u001b[?25l\u001b[?25hdone\n",
            "Requirement already satisfied: scikit-image in /usr/local/lib/python3.10/dist-packages (from precision-medicine-toolbox) (0.19.3)\n",
            "Requirement already satisfied: ipywidgets in /usr/local/lib/python3.10/dist-packages (from precision-medicine-toolbox) (7.7.1)\n",
            "Requirement already satisfied: matplotlib in /usr/local/lib/python3.10/dist-packages (from precision-medicine-toolbox) (3.7.1)\n",
            "Requirement already satisfied: Pillow in /usr/local/lib/python3.10/dist-packages (from precision-medicine-toolbox) (8.4.0)\n",
            "Requirement already satisfied: scikit-learn in /usr/local/lib/python3.10/dist-packages (from precision-medicine-toolbox) (1.2.2)\n",
            "Requirement already satisfied: scipy in /usr/local/lib/python3.10/dist-packages (from precision-medicine-toolbox) (1.10.1)\n",
            "Requirement already satisfied: plotly in /usr/local/lib/python3.10/dist-packages (from precision-medicine-toolbox) (5.13.1)\n",
            "Collecting mkdocstrings (from precision-medicine-toolbox)\n",
            "  Downloading mkdocstrings-0.22.0-py3-none-any.whl (26 kB)\n",
            "Requirement already satisfied: statsmodels in /usr/local/lib/python3.10/dist-packages (from precision-medicine-toolbox) (0.13.5)\n",
            "Requirement already satisfied: opencv-python in /usr/local/lib/python3.10/dist-packages (from precision-medicine-toolbox) (4.7.0.72)\n",
            "Collecting pickle-mixin (from precision-medicine-toolbox)\n",
            "  Downloading pickle-mixin-1.0.2.tar.gz (5.1 kB)\n",
            "  Preparing metadata (setup.py) ... \u001b[?25l\u001b[?25hdone\n",
            "Requirement already satisfied: ipykernel>=4.5.1 in /usr/local/lib/python3.10/dist-packages (from ipywidgets->precision-medicine-toolbox) (5.5.6)\n",
            "Requirement already satisfied: ipython-genutils~=0.2.0 in /usr/local/lib/python3.10/dist-packages (from ipywidgets->precision-medicine-toolbox) (0.2.0)\n",
            "Requirement already satisfied: traitlets>=4.3.1 in /usr/local/lib/python3.10/dist-packages (from ipywidgets->precision-medicine-toolbox) (5.7.1)\n",
            "Requirement already satisfied: widgetsnbextension~=3.6.0 in /usr/local/lib/python3.10/dist-packages (from ipywidgets->precision-medicine-toolbox) (3.6.4)\n",
            "Requirement already satisfied: ipython>=4.0.0 in /usr/local/lib/python3.10/dist-packages (from ipywidgets->precision-medicine-toolbox) (7.34.0)\n",
            "Requirement already satisfied: jupyterlab-widgets>=1.0.0 in /usr/local/lib/python3.10/dist-packages (from ipywidgets->precision-medicine-toolbox) (3.0.7)\n",
            "Requirement already satisfied: contourpy>=1.0.1 in /usr/local/lib/python3.10/dist-packages (from matplotlib->precision-medicine-toolbox) (1.1.0)\n",
            "Requirement already satisfied: cycler>=0.10 in /usr/local/lib/python3.10/dist-packages (from matplotlib->precision-medicine-toolbox) (0.11.0)\n",
            "Requirement already satisfied: fonttools>=4.22.0 in /usr/local/lib/python3.10/dist-packages (from matplotlib->precision-medicine-toolbox) (4.40.0)\n",
            "Requirement already satisfied: kiwisolver>=1.0.1 in /usr/local/lib/python3.10/dist-packages (from matplotlib->precision-medicine-toolbox) (1.4.4)\n",
            "Requirement already satisfied: numpy>=1.20 in /usr/local/lib/python3.10/dist-packages (from matplotlib->precision-medicine-toolbox) (1.22.4)\n",
            "Requirement already satisfied: packaging>=20.0 in /usr/local/lib/python3.10/dist-packages (from matplotlib->precision-medicine-toolbox) (23.1)\n",
            "Requirement already satisfied: pyparsing>=2.3.1 in /usr/local/lib/python3.10/dist-packages (from matplotlib->precision-medicine-toolbox) (3.1.0)\n",
            "Requirement already satisfied: python-dateutil>=2.7 in /usr/local/lib/python3.10/dist-packages (from matplotlib->precision-medicine-toolbox) (2.8.2)\n",
            "Requirement already satisfied: Jinja2>=2.11.1 in /usr/local/lib/python3.10/dist-packages (from mkdocstrings->precision-medicine-toolbox) (3.1.2)\n",
            "Requirement already satisfied: Markdown>=3.3 in /usr/local/lib/python3.10/dist-packages (from mkdocstrings->precision-medicine-toolbox) (3.4.3)\n",
            "Requirement already satisfied: MarkupSafe>=1.1 in /usr/local/lib/python3.10/dist-packages (from mkdocstrings->precision-medicine-toolbox) (2.1.3)\n",
            "Collecting mkdocs>=1.2 (from mkdocstrings->precision-medicine-toolbox)\n",
            "  Downloading mkdocs-1.4.3-py3-none-any.whl (3.7 MB)\n",
            "\u001b[2K     \u001b[90m━━━━━━━━━━━━━━━━━━━━━━━━━━━━━━━━━━━━━━━━\u001b[0m \u001b[32m3.7/3.7 MB\u001b[0m \u001b[31m124.4 MB/s\u001b[0m eta \u001b[36m0:00:00\u001b[0m\n",
            "\u001b[?25hCollecting mkdocs-autorefs>=0.3.1 (from mkdocstrings->precision-medicine-toolbox)\n",
            "  Downloading mkdocs_autorefs-0.4.1-py3-none-any.whl (9.8 kB)\n",
            "Collecting pymdown-extensions>=6.3 (from mkdocstrings->precision-medicine-toolbox)\n",
            "  Downloading pymdown_extensions-10.0.1-py3-none-any.whl (240 kB)\n",
            "\u001b[2K     \u001b[90m━━━━━━━━━━━━━━━━━━━━━━━━━━━━━━━━━━━━━━\u001b[0m \u001b[32m240.1/240.1 kB\u001b[0m \u001b[31m25.1 MB/s\u001b[0m eta \u001b[36m0:00:00\u001b[0m\n",
            "\u001b[?25hRequirement already satisfied: pytz>=2020.1 in /usr/local/lib/python3.10/dist-packages (from pandas->precision-medicine-toolbox) (2022.7.1)\n",
            "Requirement already satisfied: tenacity>=6.2.0 in /usr/local/lib/python3.10/dist-packages (from plotly->precision-medicine-toolbox) (8.2.2)\n",
            "Collecting docopt>=0.6.2 (from pykwalify->precision-medicine-toolbox)\n",
            "  Downloading docopt-0.6.2.tar.gz (25 kB)\n",
            "  Preparing metadata (setup.py) ... \u001b[?25l\u001b[?25hdone\n",
            "Collecting ruamel.yaml>=0.16.0 (from pykwalify->precision-medicine-toolbox)\n",
            "  Downloading ruamel.yaml-0.17.32-py3-none-any.whl (112 kB)\n",
            "\u001b[2K     \u001b[90m━━━━━━━━━━━━━━━━━━━━━━━━━━━━━━━━━━━━━━\u001b[0m \u001b[32m112.2/112.2 kB\u001b[0m \u001b[31m13.7 MB/s\u001b[0m eta \u001b[36m0:00:00\u001b[0m\n",
            "\u001b[?25hRequirement already satisfied: networkx>=2.2 in /usr/local/lib/python3.10/dist-packages (from scikit-image->precision-medicine-toolbox) (3.1)\n",
            "Requirement already satisfied: imageio>=2.4.1 in /usr/local/lib/python3.10/dist-packages (from scikit-image->precision-medicine-toolbox) (2.25.1)\n",
            "Requirement already satisfied: tifffile>=2019.7.26 in /usr/local/lib/python3.10/dist-packages (from scikit-image->precision-medicine-toolbox) (2023.4.12)\n",
            "Requirement already satisfied: joblib>=1.1.1 in /usr/local/lib/python3.10/dist-packages (from scikit-learn->precision-medicine-toolbox) (1.2.0)\n",
            "Requirement already satisfied: threadpoolctl>=2.0.0 in /usr/local/lib/python3.10/dist-packages (from scikit-learn->precision-medicine-toolbox) (3.1.0)\n",
            "Requirement already satisfied: patsy>=0.5.2 in /usr/local/lib/python3.10/dist-packages (from statsmodels->precision-medicine-toolbox) (0.5.3)\n",
            "Requirement already satisfied: jupyter-client in /usr/local/lib/python3.10/dist-packages (from ipykernel>=4.5.1->ipywidgets->precision-medicine-toolbox) (6.1.12)\n",
            "Requirement already satisfied: tornado>=4.2 in /usr/local/lib/python3.10/dist-packages (from ipykernel>=4.5.1->ipywidgets->precision-medicine-toolbox) (6.3.1)\n",
            "Requirement already satisfied: setuptools>=18.5 in /usr/local/lib/python3.10/dist-packages (from ipython>=4.0.0->ipywidgets->precision-medicine-toolbox) (67.7.2)\n",
            "Collecting jedi>=0.16 (from ipython>=4.0.0->ipywidgets->precision-medicine-toolbox)\n",
            "  Downloading jedi-0.18.2-py2.py3-none-any.whl (1.6 MB)\n",
            "\u001b[2K     \u001b[90m━━━━━━━━━━━━━━━━━━━━━━━━━━━━━━━━━━━━━━━━\u001b[0m \u001b[32m1.6/1.6 MB\u001b[0m \u001b[31m91.3 MB/s\u001b[0m eta \u001b[36m0:00:00\u001b[0m\n",
            "\u001b[?25hRequirement already satisfied: decorator in /usr/local/lib/python3.10/dist-packages (from ipython>=4.0.0->ipywidgets->precision-medicine-toolbox) (4.4.2)\n",
            "Requirement already satisfied: pickleshare in /usr/local/lib/python3.10/dist-packages (from ipython>=4.0.0->ipywidgets->precision-medicine-toolbox) (0.7.5)\n",
            "Requirement already satisfied: prompt-toolkit!=3.0.0,!=3.0.1,<3.1.0,>=2.0.0 in /usr/local/lib/python3.10/dist-packages (from ipython>=4.0.0->ipywidgets->precision-medicine-toolbox) (3.0.38)\n",
            "Requirement already satisfied: pygments in /usr/local/lib/python3.10/dist-packages (from ipython>=4.0.0->ipywidgets->precision-medicine-toolbox) (2.14.0)\n",
            "Requirement already satisfied: backcall in /usr/local/lib/python3.10/dist-packages (from ipython>=4.0.0->ipywidgets->precision-medicine-toolbox) (0.2.0)\n",
            "Requirement already satisfied: matplotlib-inline in /usr/local/lib/python3.10/dist-packages (from ipython>=4.0.0->ipywidgets->precision-medicine-toolbox) (0.1.6)\n",
            "Requirement already satisfied: pexpect>4.3 in /usr/local/lib/python3.10/dist-packages (from ipython>=4.0.0->ipywidgets->precision-medicine-toolbox) (4.8.0)\n",
            "Requirement already satisfied: click>=7.0 in /usr/local/lib/python3.10/dist-packages (from mkdocs>=1.2->mkdocstrings->precision-medicine-toolbox) (8.1.3)\n",
            "Collecting ghp-import>=1.0 (from mkdocs>=1.2->mkdocstrings->precision-medicine-toolbox)\n",
            "  Downloading ghp_import-2.1.0-py3-none-any.whl (11 kB)\n",
            "Collecting Markdown>=3.3 (from mkdocstrings->precision-medicine-toolbox)\n",
            "  Downloading Markdown-3.3.7-py3-none-any.whl (97 kB)\n",
            "\u001b[2K     \u001b[90m━━━━━━━━━━━━━━━━━━━━━━━━━━━━━━━━━━━━━━━━\u001b[0m \u001b[32m97.8/97.8 kB\u001b[0m \u001b[31m10.3 MB/s\u001b[0m eta \u001b[36m0:00:00\u001b[0m\n",
            "\u001b[?25hCollecting mergedeep>=1.3.4 (from mkdocs>=1.2->mkdocstrings->precision-medicine-toolbox)\n",
            "  Downloading mergedeep-1.3.4-py3-none-any.whl (6.4 kB)\n",
            "Collecting pyyaml-env-tag>=0.1 (from mkdocs>=1.2->mkdocstrings->precision-medicine-toolbox)\n",
            "  Downloading pyyaml_env_tag-0.1-py3-none-any.whl (3.9 kB)\n",
            "Requirement already satisfied: pyyaml>=5.1 in /usr/local/lib/python3.10/dist-packages (from mkdocs>=1.2->mkdocstrings->precision-medicine-toolbox) (6.0)\n",
            "Collecting watchdog>=2.0 (from mkdocs>=1.2->mkdocstrings->precision-medicine-toolbox)\n",
            "  Downloading watchdog-3.0.0-py3-none-manylinux2014_x86_64.whl (82 kB)\n",
            "\u001b[2K     \u001b[90m━━━━━━━━━━━━━━━━━━━━━━━━━━━━━━━━━━━━━━━━\u001b[0m \u001b[32m82.1/82.1 kB\u001b[0m \u001b[31m11.0 MB/s\u001b[0m eta \u001b[36m0:00:00\u001b[0m\n",
            "\u001b[?25hCollecting ruamel.yaml.clib>=0.2.7 (from ruamel.yaml>=0.16.0->pykwalify->precision-medicine-toolbox)\n",
            "  Downloading ruamel.yaml.clib-0.2.7-cp310-cp310-manylinux_2_17_x86_64.manylinux2014_x86_64.manylinux_2_24_x86_64.whl (485 kB)\n",
            "\u001b[2K     \u001b[90m━━━━━━━━━━━━━━━━━━━━━━━━━━━━━━━━━━━━━━\u001b[0m \u001b[32m485.6/485.6 kB\u001b[0m \u001b[31m41.9 MB/s\u001b[0m eta \u001b[36m0:00:00\u001b[0m\n",
            "\u001b[?25hRequirement already satisfied: notebook>=4.4.1 in /usr/local/lib/python3.10/dist-packages (from widgetsnbextension~=3.6.0->ipywidgets->precision-medicine-toolbox) (6.4.8)\n",
            "Requirement already satisfied: parso<0.9.0,>=0.8.0 in /usr/local/lib/python3.10/dist-packages (from jedi>=0.16->ipython>=4.0.0->ipywidgets->precision-medicine-toolbox) (0.8.3)\n",
            "Requirement already satisfied: pyzmq>=17 in /usr/local/lib/python3.10/dist-packages (from notebook>=4.4.1->widgetsnbextension~=3.6.0->ipywidgets->precision-medicine-toolbox) (23.2.1)\n",
            "Requirement already satisfied: argon2-cffi in /usr/local/lib/python3.10/dist-packages (from notebook>=4.4.1->widgetsnbextension~=3.6.0->ipywidgets->precision-medicine-toolbox) (21.3.0)\n",
            "Requirement already satisfied: jupyter-core>=4.6.1 in /usr/local/lib/python3.10/dist-packages (from notebook>=4.4.1->widgetsnbextension~=3.6.0->ipywidgets->precision-medicine-toolbox) (5.3.1)\n",
            "Requirement already satisfied: nbformat in /usr/local/lib/python3.10/dist-packages (from notebook>=4.4.1->widgetsnbextension~=3.6.0->ipywidgets->precision-medicine-toolbox) (5.9.0)\n",
            "Requirement already satisfied: nbconvert in /usr/local/lib/python3.10/dist-packages (from notebook>=4.4.1->widgetsnbextension~=3.6.0->ipywidgets->precision-medicine-toolbox) (6.5.4)\n",
            "Requirement already satisfied: nest-asyncio>=1.5 in /usr/local/lib/python3.10/dist-packages (from notebook>=4.4.1->widgetsnbextension~=3.6.0->ipywidgets->precision-medicine-toolbox) (1.5.6)\n",
            "Requirement already satisfied: Send2Trash>=1.8.0 in /usr/local/lib/python3.10/dist-packages (from notebook>=4.4.1->widgetsnbextension~=3.6.0->ipywidgets->precision-medicine-toolbox) (1.8.2)\n",
            "Requirement already satisfied: terminado>=0.8.3 in /usr/local/lib/python3.10/dist-packages (from notebook>=4.4.1->widgetsnbextension~=3.6.0->ipywidgets->precision-medicine-toolbox) (0.17.1)\n",
            "Requirement already satisfied: prometheus-client in /usr/local/lib/python3.10/dist-packages (from notebook>=4.4.1->widgetsnbextension~=3.6.0->ipywidgets->precision-medicine-toolbox) (0.17.0)\n",
            "Requirement already satisfied: ptyprocess>=0.5 in /usr/local/lib/python3.10/dist-packages (from pexpect>4.3->ipython>=4.0.0->ipywidgets->precision-medicine-toolbox) (0.7.0)\n",
            "Requirement already satisfied: wcwidth in /usr/local/lib/python3.10/dist-packages (from prompt-toolkit!=3.0.0,!=3.0.1,<3.1.0,>=2.0.0->ipython>=4.0.0->ipywidgets->precision-medicine-toolbox) (0.2.6)\n",
            "Requirement already satisfied: platformdirs>=2.5 in /usr/local/lib/python3.10/dist-packages (from jupyter-core>=4.6.1->notebook>=4.4.1->widgetsnbextension~=3.6.0->ipywidgets->precision-medicine-toolbox) (3.7.0)\n",
            "Requirement already satisfied: argon2-cffi-bindings in /usr/local/lib/python3.10/dist-packages (from argon2-cffi->notebook>=4.4.1->widgetsnbextension~=3.6.0->ipywidgets->precision-medicine-toolbox) (21.2.0)\n",
            "Requirement already satisfied: lxml in /usr/local/lib/python3.10/dist-packages (from nbconvert->notebook>=4.4.1->widgetsnbextension~=3.6.0->ipywidgets->precision-medicine-toolbox) (4.9.2)\n",
            "Requirement already satisfied: beautifulsoup4 in /usr/local/lib/python3.10/dist-packages (from nbconvert->notebook>=4.4.1->widgetsnbextension~=3.6.0->ipywidgets->precision-medicine-toolbox) (4.11.2)\n",
            "Requirement already satisfied: bleach in /usr/local/lib/python3.10/dist-packages (from nbconvert->notebook>=4.4.1->widgetsnbextension~=3.6.0->ipywidgets->precision-medicine-toolbox) (6.0.0)\n",
            "Requirement already satisfied: defusedxml in /usr/local/lib/python3.10/dist-packages (from nbconvert->notebook>=4.4.1->widgetsnbextension~=3.6.0->ipywidgets->precision-medicine-toolbox) (0.7.1)\n",
            "Requirement already satisfied: entrypoints>=0.2.2 in /usr/local/lib/python3.10/dist-packages (from nbconvert->notebook>=4.4.1->widgetsnbextension~=3.6.0->ipywidgets->precision-medicine-toolbox) (0.4)\n",
            "Requirement already satisfied: jupyterlab-pygments in /usr/local/lib/python3.10/dist-packages (from nbconvert->notebook>=4.4.1->widgetsnbextension~=3.6.0->ipywidgets->precision-medicine-toolbox) (0.2.2)\n",
            "Requirement already satisfied: mistune<2,>=0.8.1 in /usr/local/lib/python3.10/dist-packages (from nbconvert->notebook>=4.4.1->widgetsnbextension~=3.6.0->ipywidgets->precision-medicine-toolbox) (0.8.4)\n",
            "Requirement already satisfied: nbclient>=0.5.0 in /usr/local/lib/python3.10/dist-packages (from nbconvert->notebook>=4.4.1->widgetsnbextension~=3.6.0->ipywidgets->precision-medicine-toolbox) (0.8.0)\n",
            "Requirement already satisfied: pandocfilters>=1.4.1 in /usr/local/lib/python3.10/dist-packages (from nbconvert->notebook>=4.4.1->widgetsnbextension~=3.6.0->ipywidgets->precision-medicine-toolbox) (1.5.0)\n",
            "Requirement already satisfied: tinycss2 in /usr/local/lib/python3.10/dist-packages (from nbconvert->notebook>=4.4.1->widgetsnbextension~=3.6.0->ipywidgets->precision-medicine-toolbox) (1.2.1)\n",
            "Requirement already satisfied: fastjsonschema in /usr/local/lib/python3.10/dist-packages (from nbformat->notebook>=4.4.1->widgetsnbextension~=3.6.0->ipywidgets->precision-medicine-toolbox) (2.17.1)\n",
            "Requirement already satisfied: jsonschema>=2.6 in /usr/local/lib/python3.10/dist-packages (from nbformat->notebook>=4.4.1->widgetsnbextension~=3.6.0->ipywidgets->precision-medicine-toolbox) (4.3.3)\n",
            "Requirement already satisfied: attrs>=17.4.0 in /usr/local/lib/python3.10/dist-packages (from jsonschema>=2.6->nbformat->notebook>=4.4.1->widgetsnbextension~=3.6.0->ipywidgets->precision-medicine-toolbox) (23.1.0)\n",
            "Requirement already satisfied: pyrsistent!=0.17.0,!=0.17.1,!=0.17.2,>=0.14.0 in /usr/local/lib/python3.10/dist-packages (from jsonschema>=2.6->nbformat->notebook>=4.4.1->widgetsnbextension~=3.6.0->ipywidgets->precision-medicine-toolbox) (0.19.3)\n",
            "Requirement already satisfied: cffi>=1.0.1 in /usr/local/lib/python3.10/dist-packages (from argon2-cffi-bindings->argon2-cffi->notebook>=4.4.1->widgetsnbextension~=3.6.0->ipywidgets->precision-medicine-toolbox) (1.15.1)\n",
            "Requirement already satisfied: soupsieve>1.2 in /usr/local/lib/python3.10/dist-packages (from beautifulsoup4->nbconvert->notebook>=4.4.1->widgetsnbextension~=3.6.0->ipywidgets->precision-medicine-toolbox) (2.4.1)\n",
            "Requirement already satisfied: webencodings in /usr/local/lib/python3.10/dist-packages (from bleach->nbconvert->notebook>=4.4.1->widgetsnbextension~=3.6.0->ipywidgets->precision-medicine-toolbox) (0.5.1)\n",
            "Requirement already satisfied: pycparser in /usr/local/lib/python3.10/dist-packages (from cffi>=1.0.1->argon2-cffi-bindings->argon2-cffi->notebook>=4.4.1->widgetsnbextension~=3.6.0->ipywidgets->precision-medicine-toolbox) (2.21)\n",
            "Building wheels for collected packages: pickle-mixin, pyradiomics, docopt\n",
            "  Building wheel for pickle-mixin (setup.py) ... \u001b[?25l\u001b[?25hdone\n",
            "  Created wheel for pickle-mixin: filename=pickle_mixin-1.0.2-py3-none-any.whl size=5990 sha256=82c26bdafcd2324acd750782882aeb22177cfc5d6c4c995e728314c56740282d\n",
            "  Stored in directory: /root/.cache/pip/wheels/3e/c6/e9/d1b0a34e1efc6c3ec9c086623972c6de6317faddb2af0a619c\n",
            "  Building wheel for pyradiomics (setup.py) ... \u001b[?25l\u001b[?25hdone\n",
            "  Created wheel for pyradiomics: filename=pyradiomics-3.0.1-cp310-cp310-linux_x86_64.whl size=186224 sha256=994cbf5c3f509a61904a127f44287b2510470cc99265cfed3077580a42606d4c\n",
            "  Stored in directory: /root/.cache/pip/wheels/91/c5/13/c5fd4c5ad3edf4062bb3855bd66fad25871c9c6dc0b3fda544\n",
            "  Building wheel for docopt (setup.py) ... \u001b[?25l\u001b[?25hdone\n",
            "  Created wheel for docopt: filename=docopt-0.6.2-py2.py3-none-any.whl size=13707 sha256=66b086f6edd5ab4d3506fc9f008df491ab821a1a6fc4ac21aa5c477c3bf5233f\n",
            "  Stored in directory: /root/.cache/pip/wheels/fc/ab/d4/5da2067ac95b36618c629a5f93f809425700506f72c9732fac\n",
            "Successfully built pickle-mixin pyradiomics docopt\n",
            "Installing collected packages: SimpleITK, pickle-mixin, docopt, watchdog, ruamel.yaml.clib, pyyaml-env-tag, pydicom, mergedeep, Markdown, jedi, ruamel.yaml, pymdown-extensions, ghp-import, pykwalify, mkdocs, pyradiomics, mkdocs-autorefs, mkdocstrings, precision-medicine-toolbox\n",
            "  Attempting uninstall: Markdown\n",
            "    Found existing installation: Markdown 3.4.3\n",
            "    Uninstalling Markdown-3.4.3:\n",
            "      Successfully uninstalled Markdown-3.4.3\n",
            "Successfully installed Markdown-3.3.7 SimpleITK-2.2.1 docopt-0.6.2 ghp-import-2.1.0 jedi-0.18.2 mergedeep-1.3.4 mkdocs-1.4.3 mkdocs-autorefs-0.4.1 mkdocstrings-0.22.0 pickle-mixin-1.0.2 precision-medicine-toolbox-0.11 pydicom-2.4.1 pykwalify-1.8.0 pymdown-extensions-10.0.1 pyradiomics-3.0.1 pyyaml-env-tag-0.1 ruamel.yaml-0.17.32 ruamel.yaml.clib-0.2.7 watchdog-3.0.0\n"
          ]
        }
      ],
      "source": [
        "# installing some packages, which are not part of the present Google Collab environment\n",
        "\n",
        "!pip install precision-medicine-toolbox"
      ]
    },
    {
      "cell_type": "code",
      "execution_count": null,
      "metadata": {
        "id": "AwuI_iH4UELF"
      },
      "outputs": [],
      "source": [
        "import os\n",
        "import numpy as np\n",
        "import pandas as pd\n",
        "from pmtool.AnalysisBox import AnalysisBox\n",
        "from pmtool.ToolBox import ToolBox\n",
        "import matplotlib.pyplot as plt\n",
        "import seaborn as sns\n",
        "from sklearn.feature_selection import RFE\n",
        "from sklearn.ensemble import RandomForestClassifier\n",
        "from sklearn.metrics import balanced_accuracy_score, classification_report, confusion_matrix, roc_curve, roc_auc_score\n",
        "import seaborn as sns\n",
        "import xgboost as xgb\n",
        "\n"
      ]
    },
    {
      "cell_type": "markdown",
      "metadata": {
        "id": "ueLgxNn08Rgz"
      },
      "source": [
        "Pulling the shared files and unzipping (pay attention at 'Files' tab of this notebook):"
      ]
    },
    {
      "cell_type": "code",
      "execution_count": null,
      "metadata": {
        "colab": {
          "base_uri": "https://localhost:8080/"
        },
        "id": "kxo0JwAZ_jh_",
        "outputId": "ddc872a5-0cd7-4195-dc12-22102e216966"
      },
      "outputs": [
        {
          "output_type": "stream",
          "name": "stdout",
          "text": [
            "/usr/local/lib/python3.10/dist-packages/gdown/cli.py:121: FutureWarning: Option `--id` was deprecated in version 4.3.1 and will be removed in 5.0. You don't need to pass it anymore to use a file ID.\n",
            "  warnings.warn(\n",
            "Downloading...\n",
            "From: https://drive.google.com/uc?id=1hrVNUSWmqEgLcX2slkENoCzPA9aqKy16\n",
            "To: /content/AI4I_Radiomics_Experts_Data.zip\n",
            "100% 5.08M/5.08M [00:00<00:00, 33.8MB/s]\n",
            "Archive:  AI4I_Radiomics_Experts_Data.zip\n",
            "   creating: AI4I_Radiomics_Experts_Data/\n",
            "   creating: AI4I_Radiomics_Experts_Data/data_features/\n",
            "  inflating: AI4I_Radiomics_Experts_Data/data_features/WS2022_Experts_training.xlsx  \n",
            "  inflating: AI4I_Radiomics_Experts_Data/data_features/WS2022_Experts_validation.xlsx  \n",
            "  inflating: AI4I_Radiomics_Experts_Data/example_ct_parameters.yaml  \n"
          ]
        }
      ],
      "source": [
        "!gdown --id 1hrVNUSWmqEgLcX2slkENoCzPA9aqKy16\n",
        "!unzip AI4I_Radiomics_Experts_Data.zip"
      ]
    },
    {
      "cell_type": "markdown",
      "metadata": {
        "id": "LzuYSO_Nmn43"
      },
      "source": [
        "## Feature extraction\n",
        "There are many softwares to perform this step, each with their strengths and weaknesses. Features extraction step takes the longest time, so we are happy to help you with it. We will supply you with \"something we prepared earlier\", the lists of features already extracted with Radiomics software, and outcomes (benign/malignant). The data is already split into train and validation sets. Therefore, you can skip this step or return to it later. If you want to skip this step, please move to 'Reading the data' step.  \n",
        "\n",
        "If you want to extract the features by yourself anyway, you can adapt the code from the beginners notebook: https://colab.research.google.com/drive/1K-sg8g2Po6Czq5utFS2F6CtetXcrwpIt?usp=sharing. Here we perform features extraction with PyRadiomics software (https://pyradiomics.readthedocs.io/en/latest/) with the precision-medicine-toolbox (https://github.com/primakov/precision-medicine-toolbox) interface. These are the open-source Python packages. The key difference is that the present script is using Pyradiomics for feature extraction whereas in the prepared files, Radiomics software (https://radiomics.bio/) was used."
      ]
    },
    {
      "cell_type": "markdown",
      "metadata": {
        "id": "yja8CdFGvy4b"
      },
      "source": [
        "## Reading the data\n",
        "\n",
        "For this step, you will need to specify the path to the files containing the features and outcomes (in this case 0 or 1 for benign or malignant). It is important that apart from initial dataset cleaning, all the work is only performed in the training dataset and the test set remains untouched.\n",
        "\n",
        "<b>NOTE: the separator character, text quotation, decimal point character change depending on your country settings. If this step fails, add those settings into read_excel function. Also, the outputs from different radiomics softwares can differ wildly, so some thought is necessary when doing this at home.</b>  \n",
        "\n"
      ]
    },
    {
      "cell_type": "code",
      "execution_count": null,
      "metadata": {
        "colab": {
          "base_uri": "https://localhost:8080/",
          "height": 661
        },
        "id": "EQ-YoYDCwJXo",
        "outputId": "40018ec1-a647-4810-b06a-9b1ace4b2d2b"
      },
      "outputs": [
        {
          "output_type": "execute_result",
          "data": {
            "text/plain": [
              "                                                    ID LesionID  \\\n",
              "0    B:\\CESM Radiomics\\Radiomics\\Radiomics_Data_CES...  les0001   \n",
              "1    B:\\CESM Radiomics\\Radiomics\\Radiomics_Data_CES...  les0002   \n",
              "2    B:\\CESM Radiomics\\Radiomics\\Radiomics_Data_CES...  les0003   \n",
              "3    B:\\CESM Radiomics\\Radiomics\\Radiomics_Data_CES...  les0004   \n",
              "4    B:\\CESM Radiomics\\Radiomics\\Radiomics_Data_CES...  les0005   \n",
              "..                                                 ...      ...   \n",
              "800  B:\\CESM Radiomics\\Radiomics\\Radiomics_Data_CES...  les0801   \n",
              "801  B:\\CESM Radiomics\\Radiomics\\Radiomics_Data_CES...  les0802   \n",
              "802  B:\\CESM Radiomics\\Radiomics\\Radiomics_Data_CES...  les0803   \n",
              "803  B:\\CESM Radiomics\\Radiomics\\Radiomics_Data_CES...  les0804   \n",
              "804  B:\\CESM Radiomics\\Radiomics\\Radiomics_Data_CES...  les0805   \n",
              "\n",
              "    discretization_method  discretization_value modality  pixel_spacing_1  \\\n",
              "0                  binnum                   100     CESM             0.01   \n",
              "1                  binnum                   100     CESM             0.01   \n",
              "2                  binnum                   100     CESM             0.01   \n",
              "3                  binnum                   100     CESM             0.01   \n",
              "4                  binnum                   100     CESM             0.01   \n",
              "..                    ...                   ...      ...              ...   \n",
              "800                binnum                   100     CESM             0.01   \n",
              "801                binnum                   100     CESM             0.01   \n",
              "802                binnum                   100     CESM             0.01   \n",
              "803                binnum                   100     CESM             0.01   \n",
              "804                binnum                   100     CESM             0.01   \n",
              "\n",
              "     pixel_spacing_2 resample_method resample_voxel_size structure_name  ...  \\\n",
              "0               0.01   no resampling       no resampling     tumor_mask  ...   \n",
              "1               0.01   no resampling       no resampling     tumor_mask  ...   \n",
              "2               0.01   no resampling       no resampling     tumor_mask  ...   \n",
              "3               0.01   no resampling       no resampling     tumor_mask  ...   \n",
              "4               0.01   no resampling       no resampling     tumor_mask  ...   \n",
              "..               ...             ...                 ...            ...  ...   \n",
              "800             0.01   no resampling       no resampling     tumor_mask  ...   \n",
              "801             0.01   no resampling       no resampling     tumor_mask  ...   \n",
              "802             0.01   no resampling       no resampling     tumor_mask  ...   \n",
              "803             0.01   no resampling       no resampling     tumor_mask  ...   \n",
              "804             0.01   no resampling       no resampling     tumor_mask  ...   \n",
              "\n",
              "     Stats_p90  Stats_qcod  Stats_rMeanD  Stats_range    Stats_rms  \\\n",
              "0       2023.0    0.004737      7.835342          100  2005.338150   \n",
              "1       2011.0    0.004514      7.665868          102  1993.833826   \n",
              "2       2019.0    0.006267     10.396572          175  1995.360045   \n",
              "3       2123.0    0.008126     13.983447          194  2091.914783   \n",
              "4       2046.0    0.005184      9.049624          115  2025.861009   \n",
              "..         ...         ...           ...          ...          ...   \n",
              "800     2083.0    0.010304     17.825790          317  2039.996588   \n",
              "801     2046.0    0.005429      8.995643          109  2025.917942   \n",
              "802     2065.0    0.007375     12.912480          310  2034.450398   \n",
              "803     2059.0    0.007890     13.156583          158  2028.638479   \n",
              "804     2035.0    0.005210      8.700867          119  2015.596677   \n",
              "\n",
              "     Stats_skewness  Stats_std    Stats_var  Outcome  outcome  \n",
              "0          0.130638  13.878243   192.605617        0        0  \n",
              "1          0.297342  13.992306   195.784623        0        0  \n",
              "2          0.341317  19.170986   367.526705        0        0  \n",
              "3         -0.078105  24.588163   604.577753        1        1  \n",
              "4          0.247619  15.863846   251.661626        1        1  \n",
              "..              ...        ...          ...      ...      ...  \n",
              "800        0.595439  32.443675  1052.592020        1        1  \n",
              "801        0.066771  15.670572   245.566812        1        1  \n",
              "802        0.232657  24.818542   615.960038        1        1  \n",
              "803        0.132928  23.448686   549.840857        1        1  \n",
              "804       -0.027576  15.326713   234.908137        1        1  \n",
              "\n",
              "[805 rows x 491 columns]"
            ],
            "text/html": [
              "\n",
              "  <div id=\"df-364d07a1-6ac8-470e-aa76-068dc022f95e\">\n",
              "    <div class=\"colab-df-container\">\n",
              "      <div>\n",
              "<style scoped>\n",
              "    .dataframe tbody tr th:only-of-type {\n",
              "        vertical-align: middle;\n",
              "    }\n",
              "\n",
              "    .dataframe tbody tr th {\n",
              "        vertical-align: top;\n",
              "    }\n",
              "\n",
              "    .dataframe thead th {\n",
              "        text-align: right;\n",
              "    }\n",
              "</style>\n",
              "<table border=\"1\" class=\"dataframe\">\n",
              "  <thead>\n",
              "    <tr style=\"text-align: right;\">\n",
              "      <th></th>\n",
              "      <th>ID</th>\n",
              "      <th>LesionID</th>\n",
              "      <th>discretization_method</th>\n",
              "      <th>discretization_value</th>\n",
              "      <th>modality</th>\n",
              "      <th>pixel_spacing_1</th>\n",
              "      <th>pixel_spacing_2</th>\n",
              "      <th>resample_method</th>\n",
              "      <th>resample_voxel_size</th>\n",
              "      <th>structure_name</th>\n",
              "      <th>...</th>\n",
              "      <th>Stats_p90</th>\n",
              "      <th>Stats_qcod</th>\n",
              "      <th>Stats_rMeanD</th>\n",
              "      <th>Stats_range</th>\n",
              "      <th>Stats_rms</th>\n",
              "      <th>Stats_skewness</th>\n",
              "      <th>Stats_std</th>\n",
              "      <th>Stats_var</th>\n",
              "      <th>Outcome</th>\n",
              "      <th>outcome</th>\n",
              "    </tr>\n",
              "  </thead>\n",
              "  <tbody>\n",
              "    <tr>\n",
              "      <th>0</th>\n",
              "      <td>B:\\CESM Radiomics\\Radiomics\\Radiomics_Data_CES...</td>\n",
              "      <td>les0001</td>\n",
              "      <td>binnum</td>\n",
              "      <td>100</td>\n",
              "      <td>CESM</td>\n",
              "      <td>0.01</td>\n",
              "      <td>0.01</td>\n",
              "      <td>no resampling</td>\n",
              "      <td>no resampling</td>\n",
              "      <td>tumor_mask</td>\n",
              "      <td>...</td>\n",
              "      <td>2023.0</td>\n",
              "      <td>0.004737</td>\n",
              "      <td>7.835342</td>\n",
              "      <td>100</td>\n",
              "      <td>2005.338150</td>\n",
              "      <td>0.130638</td>\n",
              "      <td>13.878243</td>\n",
              "      <td>192.605617</td>\n",
              "      <td>0</td>\n",
              "      <td>0</td>\n",
              "    </tr>\n",
              "    <tr>\n",
              "      <th>1</th>\n",
              "      <td>B:\\CESM Radiomics\\Radiomics\\Radiomics_Data_CES...</td>\n",
              "      <td>les0002</td>\n",
              "      <td>binnum</td>\n",
              "      <td>100</td>\n",
              "      <td>CESM</td>\n",
              "      <td>0.01</td>\n",
              "      <td>0.01</td>\n",
              "      <td>no resampling</td>\n",
              "      <td>no resampling</td>\n",
              "      <td>tumor_mask</td>\n",
              "      <td>...</td>\n",
              "      <td>2011.0</td>\n",
              "      <td>0.004514</td>\n",
              "      <td>7.665868</td>\n",
              "      <td>102</td>\n",
              "      <td>1993.833826</td>\n",
              "      <td>0.297342</td>\n",
              "      <td>13.992306</td>\n",
              "      <td>195.784623</td>\n",
              "      <td>0</td>\n",
              "      <td>0</td>\n",
              "    </tr>\n",
              "    <tr>\n",
              "      <th>2</th>\n",
              "      <td>B:\\CESM Radiomics\\Radiomics\\Radiomics_Data_CES...</td>\n",
              "      <td>les0003</td>\n",
              "      <td>binnum</td>\n",
              "      <td>100</td>\n",
              "      <td>CESM</td>\n",
              "      <td>0.01</td>\n",
              "      <td>0.01</td>\n",
              "      <td>no resampling</td>\n",
              "      <td>no resampling</td>\n",
              "      <td>tumor_mask</td>\n",
              "      <td>...</td>\n",
              "      <td>2019.0</td>\n",
              "      <td>0.006267</td>\n",
              "      <td>10.396572</td>\n",
              "      <td>175</td>\n",
              "      <td>1995.360045</td>\n",
              "      <td>0.341317</td>\n",
              "      <td>19.170986</td>\n",
              "      <td>367.526705</td>\n",
              "      <td>0</td>\n",
              "      <td>0</td>\n",
              "    </tr>\n",
              "    <tr>\n",
              "      <th>3</th>\n",
              "      <td>B:\\CESM Radiomics\\Radiomics\\Radiomics_Data_CES...</td>\n",
              "      <td>les0004</td>\n",
              "      <td>binnum</td>\n",
              "      <td>100</td>\n",
              "      <td>CESM</td>\n",
              "      <td>0.01</td>\n",
              "      <td>0.01</td>\n",
              "      <td>no resampling</td>\n",
              "      <td>no resampling</td>\n",
              "      <td>tumor_mask</td>\n",
              "      <td>...</td>\n",
              "      <td>2123.0</td>\n",
              "      <td>0.008126</td>\n",
              "      <td>13.983447</td>\n",
              "      <td>194</td>\n",
              "      <td>2091.914783</td>\n",
              "      <td>-0.078105</td>\n",
              "      <td>24.588163</td>\n",
              "      <td>604.577753</td>\n",
              "      <td>1</td>\n",
              "      <td>1</td>\n",
              "    </tr>\n",
              "    <tr>\n",
              "      <th>4</th>\n",
              "      <td>B:\\CESM Radiomics\\Radiomics\\Radiomics_Data_CES...</td>\n",
              "      <td>les0005</td>\n",
              "      <td>binnum</td>\n",
              "      <td>100</td>\n",
              "      <td>CESM</td>\n",
              "      <td>0.01</td>\n",
              "      <td>0.01</td>\n",
              "      <td>no resampling</td>\n",
              "      <td>no resampling</td>\n",
              "      <td>tumor_mask</td>\n",
              "      <td>...</td>\n",
              "      <td>2046.0</td>\n",
              "      <td>0.005184</td>\n",
              "      <td>9.049624</td>\n",
              "      <td>115</td>\n",
              "      <td>2025.861009</td>\n",
              "      <td>0.247619</td>\n",
              "      <td>15.863846</td>\n",
              "      <td>251.661626</td>\n",
              "      <td>1</td>\n",
              "      <td>1</td>\n",
              "    </tr>\n",
              "    <tr>\n",
              "      <th>...</th>\n",
              "      <td>...</td>\n",
              "      <td>...</td>\n",
              "      <td>...</td>\n",
              "      <td>...</td>\n",
              "      <td>...</td>\n",
              "      <td>...</td>\n",
              "      <td>...</td>\n",
              "      <td>...</td>\n",
              "      <td>...</td>\n",
              "      <td>...</td>\n",
              "      <td>...</td>\n",
              "      <td>...</td>\n",
              "      <td>...</td>\n",
              "      <td>...</td>\n",
              "      <td>...</td>\n",
              "      <td>...</td>\n",
              "      <td>...</td>\n",
              "      <td>...</td>\n",
              "      <td>...</td>\n",
              "      <td>...</td>\n",
              "      <td>...</td>\n",
              "    </tr>\n",
              "    <tr>\n",
              "      <th>800</th>\n",
              "      <td>B:\\CESM Radiomics\\Radiomics\\Radiomics_Data_CES...</td>\n",
              "      <td>les0801</td>\n",
              "      <td>binnum</td>\n",
              "      <td>100</td>\n",
              "      <td>CESM</td>\n",
              "      <td>0.01</td>\n",
              "      <td>0.01</td>\n",
              "      <td>no resampling</td>\n",
              "      <td>no resampling</td>\n",
              "      <td>tumor_mask</td>\n",
              "      <td>...</td>\n",
              "      <td>2083.0</td>\n",
              "      <td>0.010304</td>\n",
              "      <td>17.825790</td>\n",
              "      <td>317</td>\n",
              "      <td>2039.996588</td>\n",
              "      <td>0.595439</td>\n",
              "      <td>32.443675</td>\n",
              "      <td>1052.592020</td>\n",
              "      <td>1</td>\n",
              "      <td>1</td>\n",
              "    </tr>\n",
              "    <tr>\n",
              "      <th>801</th>\n",
              "      <td>B:\\CESM Radiomics\\Radiomics\\Radiomics_Data_CES...</td>\n",
              "      <td>les0802</td>\n",
              "      <td>binnum</td>\n",
              "      <td>100</td>\n",
              "      <td>CESM</td>\n",
              "      <td>0.01</td>\n",
              "      <td>0.01</td>\n",
              "      <td>no resampling</td>\n",
              "      <td>no resampling</td>\n",
              "      <td>tumor_mask</td>\n",
              "      <td>...</td>\n",
              "      <td>2046.0</td>\n",
              "      <td>0.005429</td>\n",
              "      <td>8.995643</td>\n",
              "      <td>109</td>\n",
              "      <td>2025.917942</td>\n",
              "      <td>0.066771</td>\n",
              "      <td>15.670572</td>\n",
              "      <td>245.566812</td>\n",
              "      <td>1</td>\n",
              "      <td>1</td>\n",
              "    </tr>\n",
              "    <tr>\n",
              "      <th>802</th>\n",
              "      <td>B:\\CESM Radiomics\\Radiomics\\Radiomics_Data_CES...</td>\n",
              "      <td>les0803</td>\n",
              "      <td>binnum</td>\n",
              "      <td>100</td>\n",
              "      <td>CESM</td>\n",
              "      <td>0.01</td>\n",
              "      <td>0.01</td>\n",
              "      <td>no resampling</td>\n",
              "      <td>no resampling</td>\n",
              "      <td>tumor_mask</td>\n",
              "      <td>...</td>\n",
              "      <td>2065.0</td>\n",
              "      <td>0.007375</td>\n",
              "      <td>12.912480</td>\n",
              "      <td>310</td>\n",
              "      <td>2034.450398</td>\n",
              "      <td>0.232657</td>\n",
              "      <td>24.818542</td>\n",
              "      <td>615.960038</td>\n",
              "      <td>1</td>\n",
              "      <td>1</td>\n",
              "    </tr>\n",
              "    <tr>\n",
              "      <th>803</th>\n",
              "      <td>B:\\CESM Radiomics\\Radiomics\\Radiomics_Data_CES...</td>\n",
              "      <td>les0804</td>\n",
              "      <td>binnum</td>\n",
              "      <td>100</td>\n",
              "      <td>CESM</td>\n",
              "      <td>0.01</td>\n",
              "      <td>0.01</td>\n",
              "      <td>no resampling</td>\n",
              "      <td>no resampling</td>\n",
              "      <td>tumor_mask</td>\n",
              "      <td>...</td>\n",
              "      <td>2059.0</td>\n",
              "      <td>0.007890</td>\n",
              "      <td>13.156583</td>\n",
              "      <td>158</td>\n",
              "      <td>2028.638479</td>\n",
              "      <td>0.132928</td>\n",
              "      <td>23.448686</td>\n",
              "      <td>549.840857</td>\n",
              "      <td>1</td>\n",
              "      <td>1</td>\n",
              "    </tr>\n",
              "    <tr>\n",
              "      <th>804</th>\n",
              "      <td>B:\\CESM Radiomics\\Radiomics\\Radiomics_Data_CES...</td>\n",
              "      <td>les0805</td>\n",
              "      <td>binnum</td>\n",
              "      <td>100</td>\n",
              "      <td>CESM</td>\n",
              "      <td>0.01</td>\n",
              "      <td>0.01</td>\n",
              "      <td>no resampling</td>\n",
              "      <td>no resampling</td>\n",
              "      <td>tumor_mask</td>\n",
              "      <td>...</td>\n",
              "      <td>2035.0</td>\n",
              "      <td>0.005210</td>\n",
              "      <td>8.700867</td>\n",
              "      <td>119</td>\n",
              "      <td>2015.596677</td>\n",
              "      <td>-0.027576</td>\n",
              "      <td>15.326713</td>\n",
              "      <td>234.908137</td>\n",
              "      <td>1</td>\n",
              "      <td>1</td>\n",
              "    </tr>\n",
              "  </tbody>\n",
              "</table>\n",
              "<p>805 rows × 491 columns</p>\n",
              "</div>\n",
              "      <button class=\"colab-df-convert\" onclick=\"convertToInteractive('df-364d07a1-6ac8-470e-aa76-068dc022f95e')\"\n",
              "              title=\"Convert this dataframe to an interactive table.\"\n",
              "              style=\"display:none;\">\n",
              "        \n",
              "  <svg xmlns=\"http://www.w3.org/2000/svg\" height=\"24px\"viewBox=\"0 0 24 24\"\n",
              "       width=\"24px\">\n",
              "    <path d=\"M0 0h24v24H0V0z\" fill=\"none\"/>\n",
              "    <path d=\"M18.56 5.44l.94 2.06.94-2.06 2.06-.94-2.06-.94-.94-2.06-.94 2.06-2.06.94zm-11 1L8.5 8.5l.94-2.06 2.06-.94-2.06-.94L8.5 2.5l-.94 2.06-2.06.94zm10 10l.94 2.06.94-2.06 2.06-.94-2.06-.94-.94-2.06-.94 2.06-2.06.94z\"/><path d=\"M17.41 7.96l-1.37-1.37c-.4-.4-.92-.59-1.43-.59-.52 0-1.04.2-1.43.59L10.3 9.45l-7.72 7.72c-.78.78-.78 2.05 0 2.83L4 21.41c.39.39.9.59 1.41.59.51 0 1.02-.2 1.41-.59l7.78-7.78 2.81-2.81c.8-.78.8-2.07 0-2.86zM5.41 20L4 18.59l7.72-7.72 1.47 1.35L5.41 20z\"/>\n",
              "  </svg>\n",
              "      </button>\n",
              "      \n",
              "  <style>\n",
              "    .colab-df-container {\n",
              "      display:flex;\n",
              "      flex-wrap:wrap;\n",
              "      gap: 12px;\n",
              "    }\n",
              "\n",
              "    .colab-df-convert {\n",
              "      background-color: #E8F0FE;\n",
              "      border: none;\n",
              "      border-radius: 50%;\n",
              "      cursor: pointer;\n",
              "      display: none;\n",
              "      fill: #1967D2;\n",
              "      height: 32px;\n",
              "      padding: 0 0 0 0;\n",
              "      width: 32px;\n",
              "    }\n",
              "\n",
              "    .colab-df-convert:hover {\n",
              "      background-color: #E2EBFA;\n",
              "      box-shadow: 0px 1px 2px rgba(60, 64, 67, 0.3), 0px 1px 3px 1px rgba(60, 64, 67, 0.15);\n",
              "      fill: #174EA6;\n",
              "    }\n",
              "\n",
              "    [theme=dark] .colab-df-convert {\n",
              "      background-color: #3B4455;\n",
              "      fill: #D2E3FC;\n",
              "    }\n",
              "\n",
              "    [theme=dark] .colab-df-convert:hover {\n",
              "      background-color: #434B5C;\n",
              "      box-shadow: 0px 1px 3px 1px rgba(0, 0, 0, 0.15);\n",
              "      filter: drop-shadow(0px 1px 2px rgba(0, 0, 0, 0.3));\n",
              "      fill: #FFFFFF;\n",
              "    }\n",
              "  </style>\n",
              "\n",
              "      <script>\n",
              "        const buttonEl =\n",
              "          document.querySelector('#df-364d07a1-6ac8-470e-aa76-068dc022f95e button.colab-df-convert');\n",
              "        buttonEl.style.display =\n",
              "          google.colab.kernel.accessAllowed ? 'block' : 'none';\n",
              "\n",
              "        async function convertToInteractive(key) {\n",
              "          const element = document.querySelector('#df-364d07a1-6ac8-470e-aa76-068dc022f95e');\n",
              "          const dataTable =\n",
              "            await google.colab.kernel.invokeFunction('convertToInteractive',\n",
              "                                                     [key], {});\n",
              "          if (!dataTable) return;\n",
              "\n",
              "          const docLinkHtml = 'Like what you see? Visit the ' +\n",
              "            '<a target=\"_blank\" href=https://colab.research.google.com/notebooks/data_table.ipynb>data table notebook</a>'\n",
              "            + ' to learn more about interactive tables.';\n",
              "          element.innerHTML = '';\n",
              "          dataTable['output_type'] = 'display_data';\n",
              "          await google.colab.output.renderOutput(dataTable, element);\n",
              "          const docLink = document.createElement('div');\n",
              "          docLink.innerHTML = docLinkHtml;\n",
              "          element.appendChild(docLink);\n",
              "        }\n",
              "      </script>\n",
              "    </div>\n",
              "  </div>\n",
              "  "
            ]
          },
          "metadata": {},
          "execution_count": 58
        }
      ],
      "source": [
        "data_train = pd.read_excel(\"/content/AI4I_Radiomics_Experts_Data/data_features/WS2022_Experts_training.xlsx\")\n",
        "data_test = pd.read_excel(\"/content/AI4I_Radiomics_Experts_Data/data_features/WS2022_Experts_validation.xlsx\")\n",
        "\n",
        "# let's have a look at our dataframe:\n",
        "data_train\n"
      ]
    },
    {
      "cell_type": "markdown",
      "metadata": {
        "id": "_FoSexoRwOm8"
      },
      "source": [
        "<b>Getting the features and defining the outcome</b>\n",
        "\n",
        "It's a good time to look at the .csv files using Google Tables or similar software. Ask a helper if you need assistance with this. Let's have a look at the columns and get a lis of the features from there:"
      ]
    },
    {
      "cell_type": "code",
      "execution_count": null,
      "metadata": {
        "colab": {
          "base_uri": "https://localhost:8080/"
        },
        "id": "-NbbS-JbwePK",
        "outputId": "2f514f29-616a-4783-f52a-42324b178ec8"
      },
      "outputs": [
        {
          "output_type": "stream",
          "name": "stdout",
          "text": [
            "0 ID\n",
            "1 LesionID\n",
            "2 discretization_method\n",
            "3 discretization_value\n",
            "4 modality\n",
            "5 pixel_spacing_1\n",
            "6 pixel_spacing_2\n",
            "7 resample_method\n",
            "8 resample_voxel_size\n",
            "9 structure_name\n",
            "10 voxel_distance\n",
            "11 Fractal_average\n",
            "12 Fractal_lacunarity\n",
            "13 Fractal_sd\n",
            "14 GLCM_autocorr\n",
            "15 GLCM_average\n",
            "16 GLCM_clusProm\n",
            "17 GLCM_clusShade\n",
            "18 GLCM_clusTend\n",
            "19 GLCM_contrast\n",
            "20 GLCM_correl1\n",
            "21 GLCM_diffAvrg\n",
            "22 GLCM_diffEntro\n",
            "23 GLCM_diffVar\n",
            "24 GLCM_dissimilar\n",
            "25 GLCM_energy\n",
            "26 GLCM_entrop2\n",
            "27 GLCM_homogeneity1\n",
            "28 GLCM_homogeneity2\n",
            "29 GLCM_infoCorr1\n",
            "30 GLCM_infoCorr2\n",
            "31 GLCM_invDiffMomNor\n",
            "32 GLCM_invDiffNorm\n",
            "33 GLCM_inverseVar\n",
            "34 GLCM_maxCorr\n",
            "35 GLCM_maxProb\n",
            "36 GLCM_sumAvg\n",
            "37 GLCM_sumEntro\n",
            "38 GLCM_sumSquares\n",
            "39 GLCM_sumVar\n",
            "40 GLDZM_DZE\n",
            "41 GLDZM_DZN\n",
            "42 GLDZM_DZNN\n",
            "43 GLDZM_DZV\n",
            "44 GLDZM_HIE\n",
            "45 GLDZM_HILDE\n",
            "46 GLDZM_HISDE\n",
            "47 GLDZM_IN\n",
            "48 GLDZM_INN\n",
            "49 GLDZM_IV\n",
            "50 GLDZM_LDE\n",
            "51 GLDZM_LIE\n",
            "52 GLDZM_LILDE\n",
            "53 GLDZM_LISDE\n",
            "54 GLDZM_SDE\n",
            "55 GLDZM_ZP\n",
            "56 GLRLM_GLN\n",
            "57 GLRLM_GLNN\n",
            "58 GLRLM_GLV\n",
            "59 GLRLM_HGRE\n",
            "60 GLRLM_LGRE\n",
            "61 GLRLM_LRE\n",
            "62 GLRLM_LRHGE\n",
            "63 GLRLM_LRLGE\n",
            "64 GLRLM_RE\n",
            "65 GLRLM_RLN\n",
            "66 GLRLM_RLNN\n",
            "67 GLRLM_RLV\n",
            "68 GLRLM_RP\n",
            "69 GLRLM_SRE\n",
            "70 GLRLM_SRHGE\n",
            "71 GLRLM_SRLGE\n",
            "72 GLSZM_HIE\n",
            "73 GLSZM_HILAE\n",
            "74 GLSZM_HISAE\n",
            "75 GLSZM_IN\n",
            "76 GLSZM_INN\n",
            "77 GLSZM_IV\n",
            "78 GLSZM_LAE\n",
            "79 GLSZM_LIE\n",
            "80 GLSZM_LILAE\n",
            "81 GLSZM_LISAE\n",
            "82 GLSZM_SAE\n",
            "83 GLSZM_SZN\n",
            "84 GLSZM_SZNN\n",
            "85 GLSZM_SZV\n",
            "86 GLSZM_ZE\n",
            "87 GLSZM_ZP\n",
            "88 LoG_sigma_0_1_mm_2D_IH_cov\n",
            "89 LoG_sigma_0_1_mm_2D_IH_energy\n",
            "90 LoG_sigma_0_1_mm_2D_IH_entropy\n",
            "91 LoG_sigma_0_1_mm_2D_IH_iqr\n",
            "92 LoG_sigma_0_1_mm_2D_IH_kurtosis\n",
            "93 LoG_sigma_0_1_mm_2D_IH_max\n",
            "94 LoG_sigma_0_1_mm_2D_IH_maxGrad\n",
            "95 LoG_sigma_0_1_mm_2D_IH_maxGradI\n",
            "96 LoG_sigma_0_1_mm_2D_IH_mean\n",
            "97 LoG_sigma_0_1_mm_2D_IH_meanD\n",
            "98 LoG_sigma_0_1_mm_2D_IH_median\n",
            "99 LoG_sigma_0_1_mm_2D_IH_medianD\n",
            "100 LoG_sigma_0_1_mm_2D_IH_min\n",
            "101 LoG_sigma_0_1_mm_2D_IH_minGrad\n",
            "102 LoG_sigma_0_1_mm_2D_IH_minGradI\n",
            "103 LoG_sigma_0_1_mm_2D_IH_mode\n",
            "104 LoG_sigma_0_1_mm_2D_IH_p10\n",
            "105 LoG_sigma_0_1_mm_2D_IH_p90\n",
            "106 LoG_sigma_0_1_mm_2D_IH_qcod\n",
            "107 LoG_sigma_0_1_mm_2D_IH_rMeanD\n",
            "108 LoG_sigma_0_1_mm_2D_IH_range\n",
            "109 LoG_sigma_0_1_mm_2D_IH_rms\n",
            "110 LoG_sigma_0_1_mm_2D_IH_skewness\n",
            "111 LoG_sigma_0_1_mm_2D_IH_std\n",
            "112 LoG_sigma_0_1_mm_2D_IH_uniformity\n",
            "113 LoG_sigma_0_1_mm_2D_IH_var\n",
            "114 LoG_sigma_0_1_mm_2D_Stats_cov\n",
            "115 LoG_sigma_0_1_mm_2D_Stats_energy\n",
            "116 LoG_sigma_0_1_mm_2D_Stats_iqr\n",
            "117 LoG_sigma_0_1_mm_2D_Stats_kurtosis\n",
            "118 LoG_sigma_0_1_mm_2D_Stats_max\n",
            "119 LoG_sigma_0_1_mm_2D_Stats_mean\n",
            "120 LoG_sigma_0_1_mm_2D_Stats_meanD\n",
            "121 LoG_sigma_0_1_mm_2D_Stats_median\n",
            "122 LoG_sigma_0_1_mm_2D_Stats_medianD\n",
            "123 LoG_sigma_0_1_mm_2D_Stats_min\n",
            "124 LoG_sigma_0_1_mm_2D_Stats_p10\n",
            "125 LoG_sigma_0_1_mm_2D_Stats_p90\n",
            "126 LoG_sigma_0_1_mm_2D_Stats_qcod\n",
            "127 LoG_sigma_0_1_mm_2D_Stats_rMeanD\n",
            "128 LoG_sigma_0_1_mm_2D_Stats_range\n",
            "129 LoG_sigma_0_1_mm_2D_Stats_rms\n",
            "130 LoG_sigma_0_1_mm_2D_Stats_skewness\n",
            "131 LoG_sigma_0_1_mm_2D_Stats_std\n",
            "132 LoG_sigma_0_1_mm_2D_Stats_var\n",
            "133 LoG_sigma_0_1_mm_2D_pos_IH_cov\n",
            "134 LoG_sigma_0_1_mm_2D_pos_IH_energy\n",
            "135 LoG_sigma_0_1_mm_2D_pos_IH_entropy\n",
            "136 LoG_sigma_0_1_mm_2D_pos_IH_iqr\n",
            "137 LoG_sigma_0_1_mm_2D_pos_IH_kurtosis\n",
            "138 LoG_sigma_0_1_mm_2D_pos_IH_max\n",
            "139 LoG_sigma_0_1_mm_2D_pos_IH_maxGrad\n",
            "140 LoG_sigma_0_1_mm_2D_pos_IH_maxGradI\n",
            "141 LoG_sigma_0_1_mm_2D_pos_IH_mean\n",
            "142 LoG_sigma_0_1_mm_2D_pos_IH_meanD\n",
            "143 LoG_sigma_0_1_mm_2D_pos_IH_median\n",
            "144 LoG_sigma_0_1_mm_2D_pos_IH_medianD\n",
            "145 LoG_sigma_0_1_mm_2D_pos_IH_min\n",
            "146 LoG_sigma_0_1_mm_2D_pos_IH_minGrad\n",
            "147 LoG_sigma_0_1_mm_2D_pos_IH_minGradI\n",
            "148 LoG_sigma_0_1_mm_2D_pos_IH_mode\n",
            "149 LoG_sigma_0_1_mm_2D_pos_IH_p10\n",
            "150 LoG_sigma_0_1_mm_2D_pos_IH_p90\n",
            "151 LoG_sigma_0_1_mm_2D_pos_IH_qcod\n",
            "152 LoG_sigma_0_1_mm_2D_pos_IH_rMeanD\n",
            "153 LoG_sigma_0_1_mm_2D_pos_IH_range\n",
            "154 LoG_sigma_0_1_mm_2D_pos_IH_rms\n",
            "155 LoG_sigma_0_1_mm_2D_pos_IH_skewness\n",
            "156 LoG_sigma_0_1_mm_2D_pos_IH_std\n",
            "157 LoG_sigma_0_1_mm_2D_pos_IH_uniformity\n",
            "158 LoG_sigma_0_1_mm_2D_pos_IH_var\n",
            "159 LoG_sigma_0_1_mm_2D_pos_Stats_cov\n",
            "160 LoG_sigma_0_1_mm_2D_pos_Stats_energy\n",
            "161 LoG_sigma_0_1_mm_2D_pos_Stats_iqr\n",
            "162 LoG_sigma_0_1_mm_2D_pos_Stats_kurtosis\n",
            "163 LoG_sigma_0_1_mm_2D_pos_Stats_max\n",
            "164 LoG_sigma_0_1_mm_2D_pos_Stats_mean\n",
            "165 LoG_sigma_0_1_mm_2D_pos_Stats_meanD\n",
            "166 LoG_sigma_0_1_mm_2D_pos_Stats_median\n",
            "167 LoG_sigma_0_1_mm_2D_pos_Stats_medianD\n",
            "168 LoG_sigma_0_1_mm_2D_pos_Stats_min\n",
            "169 LoG_sigma_0_1_mm_2D_pos_Stats_p10\n",
            "170 LoG_sigma_0_1_mm_2D_pos_Stats_p90\n",
            "171 LoG_sigma_0_1_mm_2D_pos_Stats_qcod\n",
            "172 LoG_sigma_0_1_mm_2D_pos_Stats_rMeanD\n",
            "173 LoG_sigma_0_1_mm_2D_pos_Stats_range\n",
            "174 LoG_sigma_0_1_mm_2D_pos_Stats_rms\n",
            "175 LoG_sigma_0_1_mm_2D_pos_Stats_skewness\n",
            "176 LoG_sigma_0_1_mm_2D_pos_Stats_std\n",
            "177 LoG_sigma_0_1_mm_2D_pos_Stats_var\n",
            "178 LoG_sigma_0_4_mm_2D_IH_cov\n",
            "179 LoG_sigma_0_4_mm_2D_IH_energy\n",
            "180 LoG_sigma_0_4_mm_2D_IH_entropy\n",
            "181 LoG_sigma_0_4_mm_2D_IH_iqr\n",
            "182 LoG_sigma_0_4_mm_2D_IH_kurtosis\n",
            "183 LoG_sigma_0_4_mm_2D_IH_max\n",
            "184 LoG_sigma_0_4_mm_2D_IH_maxGrad\n",
            "185 LoG_sigma_0_4_mm_2D_IH_maxGradI\n",
            "186 LoG_sigma_0_4_mm_2D_IH_mean\n",
            "187 LoG_sigma_0_4_mm_2D_IH_meanD\n",
            "188 LoG_sigma_0_4_mm_2D_IH_median\n",
            "189 LoG_sigma_0_4_mm_2D_IH_medianD\n",
            "190 LoG_sigma_0_4_mm_2D_IH_min\n",
            "191 LoG_sigma_0_4_mm_2D_IH_minGrad\n",
            "192 LoG_sigma_0_4_mm_2D_IH_minGradI\n",
            "193 LoG_sigma_0_4_mm_2D_IH_mode\n",
            "194 LoG_sigma_0_4_mm_2D_IH_p10\n",
            "195 LoG_sigma_0_4_mm_2D_IH_p90\n",
            "196 LoG_sigma_0_4_mm_2D_IH_qcod\n",
            "197 LoG_sigma_0_4_mm_2D_IH_rMeanD\n",
            "198 LoG_sigma_0_4_mm_2D_IH_range\n",
            "199 LoG_sigma_0_4_mm_2D_IH_rms\n",
            "200 LoG_sigma_0_4_mm_2D_IH_skewness\n",
            "201 LoG_sigma_0_4_mm_2D_IH_std\n",
            "202 LoG_sigma_0_4_mm_2D_IH_uniformity\n",
            "203 LoG_sigma_0_4_mm_2D_IH_var\n",
            "204 LoG_sigma_0_4_mm_2D_Stats_cov\n",
            "205 LoG_sigma_0_4_mm_2D_Stats_energy\n",
            "206 LoG_sigma_0_4_mm_2D_Stats_iqr\n",
            "207 LoG_sigma_0_4_mm_2D_Stats_kurtosis\n",
            "208 LoG_sigma_0_4_mm_2D_Stats_max\n",
            "209 LoG_sigma_0_4_mm_2D_Stats_mean\n",
            "210 LoG_sigma_0_4_mm_2D_Stats_meanD\n",
            "211 LoG_sigma_0_4_mm_2D_Stats_median\n",
            "212 LoG_sigma_0_4_mm_2D_Stats_medianD\n",
            "213 LoG_sigma_0_4_mm_2D_Stats_min\n",
            "214 LoG_sigma_0_4_mm_2D_Stats_p10\n",
            "215 LoG_sigma_0_4_mm_2D_Stats_p90\n",
            "216 LoG_sigma_0_4_mm_2D_Stats_qcod\n",
            "217 LoG_sigma_0_4_mm_2D_Stats_rMeanD\n",
            "218 LoG_sigma_0_4_mm_2D_Stats_range\n",
            "219 LoG_sigma_0_4_mm_2D_Stats_rms\n",
            "220 LoG_sigma_0_4_mm_2D_Stats_skewness\n",
            "221 LoG_sigma_0_4_mm_2D_Stats_std\n",
            "222 LoG_sigma_0_4_mm_2D_Stats_var\n",
            "223 LoG_sigma_0_4_mm_2D_pos_IH_cov\n",
            "224 LoG_sigma_0_4_mm_2D_pos_IH_energy\n",
            "225 LoG_sigma_0_4_mm_2D_pos_IH_entropy\n",
            "226 LoG_sigma_0_4_mm_2D_pos_IH_iqr\n",
            "227 LoG_sigma_0_4_mm_2D_pos_IH_kurtosis\n",
            "228 LoG_sigma_0_4_mm_2D_pos_IH_max\n",
            "229 LoG_sigma_0_4_mm_2D_pos_IH_maxGrad\n",
            "230 LoG_sigma_0_4_mm_2D_pos_IH_maxGradI\n",
            "231 LoG_sigma_0_4_mm_2D_pos_IH_mean\n",
            "232 LoG_sigma_0_4_mm_2D_pos_IH_meanD\n",
            "233 LoG_sigma_0_4_mm_2D_pos_IH_median\n",
            "234 LoG_sigma_0_4_mm_2D_pos_IH_medianD\n",
            "235 LoG_sigma_0_4_mm_2D_pos_IH_min\n",
            "236 LoG_sigma_0_4_mm_2D_pos_IH_minGrad\n",
            "237 LoG_sigma_0_4_mm_2D_pos_IH_minGradI\n",
            "238 LoG_sigma_0_4_mm_2D_pos_IH_mode\n",
            "239 LoG_sigma_0_4_mm_2D_pos_IH_p10\n",
            "240 LoG_sigma_0_4_mm_2D_pos_IH_p90\n",
            "241 LoG_sigma_0_4_mm_2D_pos_IH_qcod\n",
            "242 LoG_sigma_0_4_mm_2D_pos_IH_rMeanD\n",
            "243 LoG_sigma_0_4_mm_2D_pos_IH_range\n",
            "244 LoG_sigma_0_4_mm_2D_pos_IH_rms\n",
            "245 LoG_sigma_0_4_mm_2D_pos_IH_skewness\n",
            "246 LoG_sigma_0_4_mm_2D_pos_IH_std\n",
            "247 LoG_sigma_0_4_mm_2D_pos_IH_uniformity\n",
            "248 LoG_sigma_0_4_mm_2D_pos_IH_var\n",
            "249 LoG_sigma_0_4_mm_2D_pos_Stats_cov\n",
            "250 LoG_sigma_0_4_mm_2D_pos_Stats_energy\n",
            "251 LoG_sigma_0_4_mm_2D_pos_Stats_iqr\n",
            "252 LoG_sigma_0_4_mm_2D_pos_Stats_kurtosis\n",
            "253 LoG_sigma_0_4_mm_2D_pos_Stats_max\n",
            "254 LoG_sigma_0_4_mm_2D_pos_Stats_mean\n",
            "255 LoG_sigma_0_4_mm_2D_pos_Stats_meanD\n",
            "256 LoG_sigma_0_4_mm_2D_pos_Stats_median\n",
            "257 LoG_sigma_0_4_mm_2D_pos_Stats_medianD\n",
            "258 LoG_sigma_0_4_mm_2D_pos_Stats_min\n",
            "259 LoG_sigma_0_4_mm_2D_pos_Stats_p10\n",
            "260 LoG_sigma_0_4_mm_2D_pos_Stats_p90\n",
            "261 LoG_sigma_0_4_mm_2D_pos_Stats_qcod\n",
            "262 LoG_sigma_0_4_mm_2D_pos_Stats_rMeanD\n",
            "263 LoG_sigma_0_4_mm_2D_pos_Stats_range\n",
            "264 LoG_sigma_0_4_mm_2D_pos_Stats_rms\n",
            "265 LoG_sigma_0_4_mm_2D_pos_Stats_skewness\n",
            "266 LoG_sigma_0_4_mm_2D_pos_Stats_std\n",
            "267 LoG_sigma_0_4_mm_2D_pos_Stats_var\n",
            "268 LoG_sigma_0_7_mm_2D_IH_cov\n",
            "269 LoG_sigma_0_7_mm_2D_IH_energy\n",
            "270 LoG_sigma_0_7_mm_2D_IH_entropy\n",
            "271 LoG_sigma_0_7_mm_2D_IH_iqr\n",
            "272 LoG_sigma_0_7_mm_2D_IH_kurtosis\n",
            "273 LoG_sigma_0_7_mm_2D_IH_max\n",
            "274 LoG_sigma_0_7_mm_2D_IH_maxGrad\n",
            "275 LoG_sigma_0_7_mm_2D_IH_maxGradI\n",
            "276 LoG_sigma_0_7_mm_2D_IH_mean\n",
            "277 LoG_sigma_0_7_mm_2D_IH_meanD\n",
            "278 LoG_sigma_0_7_mm_2D_IH_median\n",
            "279 LoG_sigma_0_7_mm_2D_IH_medianD\n",
            "280 LoG_sigma_0_7_mm_2D_IH_min\n",
            "281 LoG_sigma_0_7_mm_2D_IH_minGrad\n",
            "282 LoG_sigma_0_7_mm_2D_IH_minGradI\n",
            "283 LoG_sigma_0_7_mm_2D_IH_mode\n",
            "284 LoG_sigma_0_7_mm_2D_IH_p10\n",
            "285 LoG_sigma_0_7_mm_2D_IH_p90\n",
            "286 LoG_sigma_0_7_mm_2D_IH_qcod\n",
            "287 LoG_sigma_0_7_mm_2D_IH_rMeanD\n",
            "288 LoG_sigma_0_7_mm_2D_IH_range\n",
            "289 LoG_sigma_0_7_mm_2D_IH_rms\n",
            "290 LoG_sigma_0_7_mm_2D_IH_skewness\n",
            "291 LoG_sigma_0_7_mm_2D_IH_std\n",
            "292 LoG_sigma_0_7_mm_2D_IH_uniformity\n",
            "293 LoG_sigma_0_7_mm_2D_IH_var\n",
            "294 LoG_sigma_0_7_mm_2D_Stats_cov\n",
            "295 LoG_sigma_0_7_mm_2D_Stats_energy\n",
            "296 LoG_sigma_0_7_mm_2D_Stats_iqr\n",
            "297 LoG_sigma_0_7_mm_2D_Stats_kurtosis\n",
            "298 LoG_sigma_0_7_mm_2D_Stats_max\n",
            "299 LoG_sigma_0_7_mm_2D_Stats_mean\n",
            "300 LoG_sigma_0_7_mm_2D_Stats_meanD\n",
            "301 LoG_sigma_0_7_mm_2D_Stats_median\n",
            "302 LoG_sigma_0_7_mm_2D_Stats_medianD\n",
            "303 LoG_sigma_0_7_mm_2D_Stats_min\n",
            "304 LoG_sigma_0_7_mm_2D_Stats_p10\n",
            "305 LoG_sigma_0_7_mm_2D_Stats_p90\n",
            "306 LoG_sigma_0_7_mm_2D_Stats_qcod\n",
            "307 LoG_sigma_0_7_mm_2D_Stats_rMeanD\n",
            "308 LoG_sigma_0_7_mm_2D_Stats_range\n",
            "309 LoG_sigma_0_7_mm_2D_Stats_rms\n",
            "310 LoG_sigma_0_7_mm_2D_Stats_skewness\n",
            "311 LoG_sigma_0_7_mm_2D_Stats_std\n",
            "312 LoG_sigma_0_7_mm_2D_Stats_var\n",
            "313 LoG_sigma_0_7_mm_2D_pos_IH_cov\n",
            "314 LoG_sigma_0_7_mm_2D_pos_IH_energy\n",
            "315 LoG_sigma_0_7_mm_2D_pos_IH_entropy\n",
            "316 LoG_sigma_0_7_mm_2D_pos_IH_iqr\n",
            "317 LoG_sigma_0_7_mm_2D_pos_IH_kurtosis\n",
            "318 LoG_sigma_0_7_mm_2D_pos_IH_max\n",
            "319 LoG_sigma_0_7_mm_2D_pos_IH_maxGrad\n",
            "320 LoG_sigma_0_7_mm_2D_pos_IH_maxGradI\n",
            "321 LoG_sigma_0_7_mm_2D_pos_IH_mean\n",
            "322 LoG_sigma_0_7_mm_2D_pos_IH_meanD\n",
            "323 LoG_sigma_0_7_mm_2D_pos_IH_median\n",
            "324 LoG_sigma_0_7_mm_2D_pos_IH_medianD\n",
            "325 LoG_sigma_0_7_mm_2D_pos_IH_min\n",
            "326 LoG_sigma_0_7_mm_2D_pos_IH_minGrad\n",
            "327 LoG_sigma_0_7_mm_2D_pos_IH_minGradI\n",
            "328 LoG_sigma_0_7_mm_2D_pos_IH_mode\n",
            "329 LoG_sigma_0_7_mm_2D_pos_IH_p10\n",
            "330 LoG_sigma_0_7_mm_2D_pos_IH_p90\n",
            "331 LoG_sigma_0_7_mm_2D_pos_IH_qcod\n",
            "332 LoG_sigma_0_7_mm_2D_pos_IH_rMeanD\n",
            "333 LoG_sigma_0_7_mm_2D_pos_IH_range\n",
            "334 LoG_sigma_0_7_mm_2D_pos_IH_rms\n",
            "335 LoG_sigma_0_7_mm_2D_pos_IH_skewness\n",
            "336 LoG_sigma_0_7_mm_2D_pos_IH_std\n",
            "337 LoG_sigma_0_7_mm_2D_pos_IH_uniformity\n",
            "338 LoG_sigma_0_7_mm_2D_pos_IH_var\n",
            "339 LoG_sigma_0_7_mm_2D_pos_Stats_cov\n",
            "340 LoG_sigma_0_7_mm_2D_pos_Stats_energy\n",
            "341 LoG_sigma_0_7_mm_2D_pos_Stats_iqr\n",
            "342 LoG_sigma_0_7_mm_2D_pos_Stats_kurtosis\n",
            "343 LoG_sigma_0_7_mm_2D_pos_Stats_max\n",
            "344 LoG_sigma_0_7_mm_2D_pos_Stats_mean\n",
            "345 LoG_sigma_0_7_mm_2D_pos_Stats_meanD\n",
            "346 LoG_sigma_0_7_mm_2D_pos_Stats_median\n",
            "347 LoG_sigma_0_7_mm_2D_pos_Stats_medianD\n",
            "348 LoG_sigma_0_7_mm_2D_pos_Stats_min\n",
            "349 LoG_sigma_0_7_mm_2D_pos_Stats_p10\n",
            "350 LoG_sigma_0_7_mm_2D_pos_Stats_p90\n",
            "351 LoG_sigma_0_7_mm_2D_pos_Stats_qcod\n",
            "352 LoG_sigma_0_7_mm_2D_pos_Stats_rMeanD\n",
            "353 LoG_sigma_0_7_mm_2D_pos_Stats_range\n",
            "354 LoG_sigma_0_7_mm_2D_pos_Stats_rms\n",
            "355 LoG_sigma_0_7_mm_2D_pos_Stats_skewness\n",
            "356 LoG_sigma_0_7_mm_2D_pos_Stats_std\n",
            "357 LoG_sigma_0_7_mm_2D_pos_Stats_var\n",
            "358 LoG_sigma_1_mm_2D_IH_cov\n",
            "359 LoG_sigma_1_mm_2D_IH_energy\n",
            "360 LoG_sigma_1_mm_2D_IH_entropy\n",
            "361 LoG_sigma_1_mm_2D_IH_iqr\n",
            "362 LoG_sigma_1_mm_2D_IH_kurtosis\n",
            "363 LoG_sigma_1_mm_2D_IH_max\n",
            "364 LoG_sigma_1_mm_2D_IH_maxGrad\n",
            "365 LoG_sigma_1_mm_2D_IH_maxGradI\n",
            "366 LoG_sigma_1_mm_2D_IH_mean\n",
            "367 LoG_sigma_1_mm_2D_IH_meanD\n",
            "368 LoG_sigma_1_mm_2D_IH_median\n",
            "369 LoG_sigma_1_mm_2D_IH_medianD\n",
            "370 LoG_sigma_1_mm_2D_IH_min\n",
            "371 LoG_sigma_1_mm_2D_IH_minGrad\n",
            "372 LoG_sigma_1_mm_2D_IH_minGradI\n",
            "373 LoG_sigma_1_mm_2D_IH_mode\n",
            "374 LoG_sigma_1_mm_2D_IH_p10\n",
            "375 LoG_sigma_1_mm_2D_IH_p90\n",
            "376 LoG_sigma_1_mm_2D_IH_qcod\n",
            "377 LoG_sigma_1_mm_2D_IH_rMeanD\n",
            "378 LoG_sigma_1_mm_2D_IH_range\n",
            "379 LoG_sigma_1_mm_2D_IH_rms\n",
            "380 LoG_sigma_1_mm_2D_IH_skewness\n",
            "381 LoG_sigma_1_mm_2D_IH_std\n",
            "382 LoG_sigma_1_mm_2D_IH_uniformity\n",
            "383 LoG_sigma_1_mm_2D_IH_var\n",
            "384 LoG_sigma_1_mm_2D_Stats_cov\n",
            "385 LoG_sigma_1_mm_2D_Stats_energy\n",
            "386 LoG_sigma_1_mm_2D_Stats_iqr\n",
            "387 LoG_sigma_1_mm_2D_Stats_kurtosis\n",
            "388 LoG_sigma_1_mm_2D_Stats_max\n",
            "389 LoG_sigma_1_mm_2D_Stats_mean\n",
            "390 LoG_sigma_1_mm_2D_Stats_meanD\n",
            "391 LoG_sigma_1_mm_2D_Stats_median\n",
            "392 LoG_sigma_1_mm_2D_Stats_medianD\n",
            "393 LoG_sigma_1_mm_2D_Stats_min\n",
            "394 LoG_sigma_1_mm_2D_Stats_p10\n",
            "395 LoG_sigma_1_mm_2D_Stats_p90\n",
            "396 LoG_sigma_1_mm_2D_Stats_qcod\n",
            "397 LoG_sigma_1_mm_2D_Stats_rMeanD\n",
            "398 LoG_sigma_1_mm_2D_Stats_range\n",
            "399 LoG_sigma_1_mm_2D_Stats_rms\n",
            "400 LoG_sigma_1_mm_2D_Stats_skewness\n",
            "401 LoG_sigma_1_mm_2D_Stats_std\n",
            "402 LoG_sigma_1_mm_2D_Stats_var\n",
            "403 LoG_sigma_1_mm_2D_pos_IH_cov\n",
            "404 LoG_sigma_1_mm_2D_pos_IH_energy\n",
            "405 LoG_sigma_1_mm_2D_pos_IH_entropy\n",
            "406 LoG_sigma_1_mm_2D_pos_IH_iqr\n",
            "407 LoG_sigma_1_mm_2D_pos_IH_kurtosis\n",
            "408 LoG_sigma_1_mm_2D_pos_IH_max\n",
            "409 LoG_sigma_1_mm_2D_pos_IH_maxGrad\n",
            "410 LoG_sigma_1_mm_2D_pos_IH_maxGradI\n",
            "411 LoG_sigma_1_mm_2D_pos_IH_mean\n",
            "412 LoG_sigma_1_mm_2D_pos_IH_meanD\n",
            "413 LoG_sigma_1_mm_2D_pos_IH_median\n",
            "414 LoG_sigma_1_mm_2D_pos_IH_medianD\n",
            "415 LoG_sigma_1_mm_2D_pos_IH_min\n",
            "416 LoG_sigma_1_mm_2D_pos_IH_minGrad\n",
            "417 LoG_sigma_1_mm_2D_pos_IH_minGradI\n",
            "418 LoG_sigma_1_mm_2D_pos_IH_mode\n",
            "419 LoG_sigma_1_mm_2D_pos_IH_p10\n",
            "420 LoG_sigma_1_mm_2D_pos_IH_p90\n",
            "421 LoG_sigma_1_mm_2D_pos_IH_qcod\n",
            "422 LoG_sigma_1_mm_2D_pos_IH_rMeanD\n",
            "423 LoG_sigma_1_mm_2D_pos_IH_range\n",
            "424 LoG_sigma_1_mm_2D_pos_IH_rms\n",
            "425 LoG_sigma_1_mm_2D_pos_IH_skewness\n",
            "426 LoG_sigma_1_mm_2D_pos_IH_std\n",
            "427 LoG_sigma_1_mm_2D_pos_IH_uniformity\n",
            "428 LoG_sigma_1_mm_2D_pos_IH_var\n",
            "429 LoG_sigma_1_mm_2D_pos_Stats_cov\n",
            "430 LoG_sigma_1_mm_2D_pos_Stats_energy\n",
            "431 LoG_sigma_1_mm_2D_pos_Stats_iqr\n",
            "432 LoG_sigma_1_mm_2D_pos_Stats_kurtosis\n",
            "433 LoG_sigma_1_mm_2D_pos_Stats_max\n",
            "434 LoG_sigma_1_mm_2D_pos_Stats_mean\n",
            "435 LoG_sigma_1_mm_2D_pos_Stats_meanD\n",
            "436 LoG_sigma_1_mm_2D_pos_Stats_median\n",
            "437 LoG_sigma_1_mm_2D_pos_Stats_medianD\n",
            "438 LoG_sigma_1_mm_2D_pos_Stats_min\n",
            "439 LoG_sigma_1_mm_2D_pos_Stats_p10\n",
            "440 LoG_sigma_1_mm_2D_pos_Stats_p90\n",
            "441 LoG_sigma_1_mm_2D_pos_Stats_qcod\n",
            "442 LoG_sigma_1_mm_2D_pos_Stats_rMeanD\n",
            "443 LoG_sigma_1_mm_2D_pos_Stats_range\n",
            "444 LoG_sigma_1_mm_2D_pos_Stats_rms\n",
            "445 LoG_sigma_1_mm_2D_pos_Stats_skewness\n",
            "446 LoG_sigma_1_mm_2D_pos_Stats_std\n",
            "447 LoG_sigma_1_mm_2D_pos_Stats_var\n",
            "448 NGLDM_DE\n",
            "449 NGLDM_DN\n",
            "450 NGLDM_DNN\n",
            "451 NGLDM_DV\n",
            "452 NGLDM_GLN\n",
            "453 NGLDM_GLNN\n",
            "454 NGLDM_GLV\n",
            "455 NGLDM_HGE\n",
            "456 NGLDM_HGLDE\n",
            "457 NGLDM_HGSDE\n",
            "458 NGLDM_LDE\n",
            "459 NGLDM_LGE\n",
            "460 NGLDM_LGLDE\n",
            "461 NGLDM_LGSDE\n",
            "462 NGLDM_SDE\n",
            "463 NGLDM_SM\n",
            "464 NGLDM_SM2\n",
            "465 NGTDM_busyness\n",
            "466 NGTDM_coarseness\n",
            "467 NGTDM_complexity\n",
            "468 NGTDM_contrast\n",
            "469 NGTDM_strength\n",
            "470 Stats_cov\n",
            "471 Stats_energy\n",
            "472 Stats_iqr\n",
            "473 Stats_kurtosis\n",
            "474 Stats_max\n",
            "475 Stats_mean\n",
            "476 Stats_meanD\n",
            "477 Stats_median\n",
            "478 Stats_medianD\n",
            "479 Stats_min\n",
            "480 Stats_p10\n",
            "481 Stats_p90\n",
            "482 Stats_qcod\n",
            "483 Stats_rMeanD\n",
            "484 Stats_range\n",
            "485 Stats_rms\n",
            "486 Stats_skewness\n",
            "487 Stats_std\n",
            "488 Stats_var\n",
            "489 Outcome\n",
            "490 outcome\n"
          ]
        }
      ],
      "source": [
        "counter = 0\n",
        "for item in data_train.columns:\n",
        "  print (counter, item)\n",
        "  counter += 1\n",
        "\n"
      ]
    },
    {
      "cell_type": "markdown",
      "metadata": {
        "id": "qMkJDNYKA7rc"
      },
      "source": [
        "And get list of the features: print features names from the provided file above\n"
      ]
    },
    {
      "cell_type": "code",
      "execution_count": null,
      "metadata": {
        "colab": {
          "base_uri": "https://localhost:8080/"
        },
        "id": "dmppgJK-A_g1",
        "outputId": "bbe43836-ec9f-4b47-c277-41eb67c43d53"
      },
      "outputs": [
        {
          "output_type": "stream",
          "name": "stdout",
          "text": [
            "491\n",
            "['ID', 'LesionID', 'discretization_method', 'discretization_value', 'modality', 'pixel_spacing_1', 'pixel_spacing_2', 'resample_method', 'resample_voxel_size', 'structure_name', 'voxel_distance', 'Fractal_average', 'Fractal_lacunarity', 'Fractal_sd', 'GLCM_autocorr', 'GLCM_average', 'GLCM_clusProm', 'GLCM_clusShade', 'GLCM_clusTend', 'GLCM_contrast', 'GLCM_correl1', 'GLCM_diffAvrg', 'GLCM_diffEntro', 'GLCM_diffVar', 'GLCM_dissimilar', 'GLCM_energy', 'GLCM_entrop2', 'GLCM_homogeneity1', 'GLCM_homogeneity2', 'GLCM_infoCorr1', 'GLCM_infoCorr2', 'GLCM_invDiffMomNor', 'GLCM_invDiffNorm', 'GLCM_inverseVar', 'GLCM_maxCorr', 'GLCM_maxProb', 'GLCM_sumAvg', 'GLCM_sumEntro', 'GLCM_sumSquares', 'GLCM_sumVar', 'GLDZM_DZE', 'GLDZM_DZN', 'GLDZM_DZNN', 'GLDZM_DZV', 'GLDZM_HIE', 'GLDZM_HILDE', 'GLDZM_HISDE', 'GLDZM_IN', 'GLDZM_INN', 'GLDZM_IV', 'GLDZM_LDE', 'GLDZM_LIE', 'GLDZM_LILDE', 'GLDZM_LISDE', 'GLDZM_SDE', 'GLDZM_ZP', 'GLRLM_GLN', 'GLRLM_GLNN', 'GLRLM_GLV', 'GLRLM_HGRE', 'GLRLM_LGRE', 'GLRLM_LRE', 'GLRLM_LRHGE', 'GLRLM_LRLGE', 'GLRLM_RE', 'GLRLM_RLN', 'GLRLM_RLNN', 'GLRLM_RLV', 'GLRLM_RP', 'GLRLM_SRE', 'GLRLM_SRHGE', 'GLRLM_SRLGE', 'GLSZM_HIE', 'GLSZM_HILAE', 'GLSZM_HISAE', 'GLSZM_IN', 'GLSZM_INN', 'GLSZM_IV', 'GLSZM_LAE', 'GLSZM_LIE', 'GLSZM_LILAE', 'GLSZM_LISAE', 'GLSZM_SAE', 'GLSZM_SZN', 'GLSZM_SZNN', 'GLSZM_SZV', 'GLSZM_ZE', 'GLSZM_ZP', 'LoG_sigma_0_1_mm_2D_IH_cov', 'LoG_sigma_0_1_mm_2D_IH_energy', 'LoG_sigma_0_1_mm_2D_IH_entropy', 'LoG_sigma_0_1_mm_2D_IH_iqr', 'LoG_sigma_0_1_mm_2D_IH_kurtosis', 'LoG_sigma_0_1_mm_2D_IH_max', 'LoG_sigma_0_1_mm_2D_IH_maxGrad', 'LoG_sigma_0_1_mm_2D_IH_maxGradI', 'LoG_sigma_0_1_mm_2D_IH_mean', 'LoG_sigma_0_1_mm_2D_IH_meanD', 'LoG_sigma_0_1_mm_2D_IH_median', 'LoG_sigma_0_1_mm_2D_IH_medianD', 'LoG_sigma_0_1_mm_2D_IH_min', 'LoG_sigma_0_1_mm_2D_IH_minGrad', 'LoG_sigma_0_1_mm_2D_IH_minGradI', 'LoG_sigma_0_1_mm_2D_IH_mode', 'LoG_sigma_0_1_mm_2D_IH_p10', 'LoG_sigma_0_1_mm_2D_IH_p90', 'LoG_sigma_0_1_mm_2D_IH_qcod', 'LoG_sigma_0_1_mm_2D_IH_rMeanD', 'LoG_sigma_0_1_mm_2D_IH_range', 'LoG_sigma_0_1_mm_2D_IH_rms', 'LoG_sigma_0_1_mm_2D_IH_skewness', 'LoG_sigma_0_1_mm_2D_IH_std', 'LoG_sigma_0_1_mm_2D_IH_uniformity', 'LoG_sigma_0_1_mm_2D_IH_var', 'LoG_sigma_0_1_mm_2D_Stats_cov', 'LoG_sigma_0_1_mm_2D_Stats_energy', 'LoG_sigma_0_1_mm_2D_Stats_iqr', 'LoG_sigma_0_1_mm_2D_Stats_kurtosis', 'LoG_sigma_0_1_mm_2D_Stats_max', 'LoG_sigma_0_1_mm_2D_Stats_mean', 'LoG_sigma_0_1_mm_2D_Stats_meanD', 'LoG_sigma_0_1_mm_2D_Stats_median', 'LoG_sigma_0_1_mm_2D_Stats_medianD', 'LoG_sigma_0_1_mm_2D_Stats_min', 'LoG_sigma_0_1_mm_2D_Stats_p10', 'LoG_sigma_0_1_mm_2D_Stats_p90', 'LoG_sigma_0_1_mm_2D_Stats_qcod', 'LoG_sigma_0_1_mm_2D_Stats_rMeanD', 'LoG_sigma_0_1_mm_2D_Stats_range', 'LoG_sigma_0_1_mm_2D_Stats_rms', 'LoG_sigma_0_1_mm_2D_Stats_skewness', 'LoG_sigma_0_1_mm_2D_Stats_std', 'LoG_sigma_0_1_mm_2D_Stats_var', 'LoG_sigma_0_1_mm_2D_pos_IH_cov', 'LoG_sigma_0_1_mm_2D_pos_IH_energy', 'LoG_sigma_0_1_mm_2D_pos_IH_entropy', 'LoG_sigma_0_1_mm_2D_pos_IH_iqr', 'LoG_sigma_0_1_mm_2D_pos_IH_kurtosis', 'LoG_sigma_0_1_mm_2D_pos_IH_max', 'LoG_sigma_0_1_mm_2D_pos_IH_maxGrad', 'LoG_sigma_0_1_mm_2D_pos_IH_maxGradI', 'LoG_sigma_0_1_mm_2D_pos_IH_mean', 'LoG_sigma_0_1_mm_2D_pos_IH_meanD', 'LoG_sigma_0_1_mm_2D_pos_IH_median', 'LoG_sigma_0_1_mm_2D_pos_IH_medianD', 'LoG_sigma_0_1_mm_2D_pos_IH_min', 'LoG_sigma_0_1_mm_2D_pos_IH_minGrad', 'LoG_sigma_0_1_mm_2D_pos_IH_minGradI', 'LoG_sigma_0_1_mm_2D_pos_IH_mode', 'LoG_sigma_0_1_mm_2D_pos_IH_p10', 'LoG_sigma_0_1_mm_2D_pos_IH_p90', 'LoG_sigma_0_1_mm_2D_pos_IH_qcod', 'LoG_sigma_0_1_mm_2D_pos_IH_rMeanD', 'LoG_sigma_0_1_mm_2D_pos_IH_range', 'LoG_sigma_0_1_mm_2D_pos_IH_rms', 'LoG_sigma_0_1_mm_2D_pos_IH_skewness', 'LoG_sigma_0_1_mm_2D_pos_IH_std', 'LoG_sigma_0_1_mm_2D_pos_IH_uniformity', 'LoG_sigma_0_1_mm_2D_pos_IH_var', 'LoG_sigma_0_1_mm_2D_pos_Stats_cov', 'LoG_sigma_0_1_mm_2D_pos_Stats_energy', 'LoG_sigma_0_1_mm_2D_pos_Stats_iqr', 'LoG_sigma_0_1_mm_2D_pos_Stats_kurtosis', 'LoG_sigma_0_1_mm_2D_pos_Stats_max', 'LoG_sigma_0_1_mm_2D_pos_Stats_mean', 'LoG_sigma_0_1_mm_2D_pos_Stats_meanD', 'LoG_sigma_0_1_mm_2D_pos_Stats_median', 'LoG_sigma_0_1_mm_2D_pos_Stats_medianD', 'LoG_sigma_0_1_mm_2D_pos_Stats_min', 'LoG_sigma_0_1_mm_2D_pos_Stats_p10', 'LoG_sigma_0_1_mm_2D_pos_Stats_p90', 'LoG_sigma_0_1_mm_2D_pos_Stats_qcod', 'LoG_sigma_0_1_mm_2D_pos_Stats_rMeanD', 'LoG_sigma_0_1_mm_2D_pos_Stats_range', 'LoG_sigma_0_1_mm_2D_pos_Stats_rms', 'LoG_sigma_0_1_mm_2D_pos_Stats_skewness', 'LoG_sigma_0_1_mm_2D_pos_Stats_std', 'LoG_sigma_0_1_mm_2D_pos_Stats_var', 'LoG_sigma_0_4_mm_2D_IH_cov', 'LoG_sigma_0_4_mm_2D_IH_energy', 'LoG_sigma_0_4_mm_2D_IH_entropy', 'LoG_sigma_0_4_mm_2D_IH_iqr', 'LoG_sigma_0_4_mm_2D_IH_kurtosis', 'LoG_sigma_0_4_mm_2D_IH_max', 'LoG_sigma_0_4_mm_2D_IH_maxGrad', 'LoG_sigma_0_4_mm_2D_IH_maxGradI', 'LoG_sigma_0_4_mm_2D_IH_mean', 'LoG_sigma_0_4_mm_2D_IH_meanD', 'LoG_sigma_0_4_mm_2D_IH_median', 'LoG_sigma_0_4_mm_2D_IH_medianD', 'LoG_sigma_0_4_mm_2D_IH_min', 'LoG_sigma_0_4_mm_2D_IH_minGrad', 'LoG_sigma_0_4_mm_2D_IH_minGradI', 'LoG_sigma_0_4_mm_2D_IH_mode', 'LoG_sigma_0_4_mm_2D_IH_p10', 'LoG_sigma_0_4_mm_2D_IH_p90', 'LoG_sigma_0_4_mm_2D_IH_qcod', 'LoG_sigma_0_4_mm_2D_IH_rMeanD', 'LoG_sigma_0_4_mm_2D_IH_range', 'LoG_sigma_0_4_mm_2D_IH_rms', 'LoG_sigma_0_4_mm_2D_IH_skewness', 'LoG_sigma_0_4_mm_2D_IH_std', 'LoG_sigma_0_4_mm_2D_IH_uniformity', 'LoG_sigma_0_4_mm_2D_IH_var', 'LoG_sigma_0_4_mm_2D_Stats_cov', 'LoG_sigma_0_4_mm_2D_Stats_energy', 'LoG_sigma_0_4_mm_2D_Stats_iqr', 'LoG_sigma_0_4_mm_2D_Stats_kurtosis', 'LoG_sigma_0_4_mm_2D_Stats_max', 'LoG_sigma_0_4_mm_2D_Stats_mean', 'LoG_sigma_0_4_mm_2D_Stats_meanD', 'LoG_sigma_0_4_mm_2D_Stats_median', 'LoG_sigma_0_4_mm_2D_Stats_medianD', 'LoG_sigma_0_4_mm_2D_Stats_min', 'LoG_sigma_0_4_mm_2D_Stats_p10', 'LoG_sigma_0_4_mm_2D_Stats_p90', 'LoG_sigma_0_4_mm_2D_Stats_qcod', 'LoG_sigma_0_4_mm_2D_Stats_rMeanD', 'LoG_sigma_0_4_mm_2D_Stats_range', 'LoG_sigma_0_4_mm_2D_Stats_rms', 'LoG_sigma_0_4_mm_2D_Stats_skewness', 'LoG_sigma_0_4_mm_2D_Stats_std', 'LoG_sigma_0_4_mm_2D_Stats_var', 'LoG_sigma_0_4_mm_2D_pos_IH_cov', 'LoG_sigma_0_4_mm_2D_pos_IH_energy', 'LoG_sigma_0_4_mm_2D_pos_IH_entropy', 'LoG_sigma_0_4_mm_2D_pos_IH_iqr', 'LoG_sigma_0_4_mm_2D_pos_IH_kurtosis', 'LoG_sigma_0_4_mm_2D_pos_IH_max', 'LoG_sigma_0_4_mm_2D_pos_IH_maxGrad', 'LoG_sigma_0_4_mm_2D_pos_IH_maxGradI', 'LoG_sigma_0_4_mm_2D_pos_IH_mean', 'LoG_sigma_0_4_mm_2D_pos_IH_meanD', 'LoG_sigma_0_4_mm_2D_pos_IH_median', 'LoG_sigma_0_4_mm_2D_pos_IH_medianD', 'LoG_sigma_0_4_mm_2D_pos_IH_min', 'LoG_sigma_0_4_mm_2D_pos_IH_minGrad', 'LoG_sigma_0_4_mm_2D_pos_IH_minGradI', 'LoG_sigma_0_4_mm_2D_pos_IH_mode', 'LoG_sigma_0_4_mm_2D_pos_IH_p10', 'LoG_sigma_0_4_mm_2D_pos_IH_p90', 'LoG_sigma_0_4_mm_2D_pos_IH_qcod', 'LoG_sigma_0_4_mm_2D_pos_IH_rMeanD', 'LoG_sigma_0_4_mm_2D_pos_IH_range', 'LoG_sigma_0_4_mm_2D_pos_IH_rms', 'LoG_sigma_0_4_mm_2D_pos_IH_skewness', 'LoG_sigma_0_4_mm_2D_pos_IH_std', 'LoG_sigma_0_4_mm_2D_pos_IH_uniformity', 'LoG_sigma_0_4_mm_2D_pos_IH_var', 'LoG_sigma_0_4_mm_2D_pos_Stats_cov', 'LoG_sigma_0_4_mm_2D_pos_Stats_energy', 'LoG_sigma_0_4_mm_2D_pos_Stats_iqr', 'LoG_sigma_0_4_mm_2D_pos_Stats_kurtosis', 'LoG_sigma_0_4_mm_2D_pos_Stats_max', 'LoG_sigma_0_4_mm_2D_pos_Stats_mean', 'LoG_sigma_0_4_mm_2D_pos_Stats_meanD', 'LoG_sigma_0_4_mm_2D_pos_Stats_median', 'LoG_sigma_0_4_mm_2D_pos_Stats_medianD', 'LoG_sigma_0_4_mm_2D_pos_Stats_min', 'LoG_sigma_0_4_mm_2D_pos_Stats_p10', 'LoG_sigma_0_4_mm_2D_pos_Stats_p90', 'LoG_sigma_0_4_mm_2D_pos_Stats_qcod', 'LoG_sigma_0_4_mm_2D_pos_Stats_rMeanD', 'LoG_sigma_0_4_mm_2D_pos_Stats_range', 'LoG_sigma_0_4_mm_2D_pos_Stats_rms', 'LoG_sigma_0_4_mm_2D_pos_Stats_skewness', 'LoG_sigma_0_4_mm_2D_pos_Stats_std', 'LoG_sigma_0_4_mm_2D_pos_Stats_var', 'LoG_sigma_0_7_mm_2D_IH_cov', 'LoG_sigma_0_7_mm_2D_IH_energy', 'LoG_sigma_0_7_mm_2D_IH_entropy', 'LoG_sigma_0_7_mm_2D_IH_iqr', 'LoG_sigma_0_7_mm_2D_IH_kurtosis', 'LoG_sigma_0_7_mm_2D_IH_max', 'LoG_sigma_0_7_mm_2D_IH_maxGrad', 'LoG_sigma_0_7_mm_2D_IH_maxGradI', 'LoG_sigma_0_7_mm_2D_IH_mean', 'LoG_sigma_0_7_mm_2D_IH_meanD', 'LoG_sigma_0_7_mm_2D_IH_median', 'LoG_sigma_0_7_mm_2D_IH_medianD', 'LoG_sigma_0_7_mm_2D_IH_min', 'LoG_sigma_0_7_mm_2D_IH_minGrad', 'LoG_sigma_0_7_mm_2D_IH_minGradI', 'LoG_sigma_0_7_mm_2D_IH_mode', 'LoG_sigma_0_7_mm_2D_IH_p10', 'LoG_sigma_0_7_mm_2D_IH_p90', 'LoG_sigma_0_7_mm_2D_IH_qcod', 'LoG_sigma_0_7_mm_2D_IH_rMeanD', 'LoG_sigma_0_7_mm_2D_IH_range', 'LoG_sigma_0_7_mm_2D_IH_rms', 'LoG_sigma_0_7_mm_2D_IH_skewness', 'LoG_sigma_0_7_mm_2D_IH_std', 'LoG_sigma_0_7_mm_2D_IH_uniformity', 'LoG_sigma_0_7_mm_2D_IH_var', 'LoG_sigma_0_7_mm_2D_Stats_cov', 'LoG_sigma_0_7_mm_2D_Stats_energy', 'LoG_sigma_0_7_mm_2D_Stats_iqr', 'LoG_sigma_0_7_mm_2D_Stats_kurtosis', 'LoG_sigma_0_7_mm_2D_Stats_max', 'LoG_sigma_0_7_mm_2D_Stats_mean', 'LoG_sigma_0_7_mm_2D_Stats_meanD', 'LoG_sigma_0_7_mm_2D_Stats_median', 'LoG_sigma_0_7_mm_2D_Stats_medianD', 'LoG_sigma_0_7_mm_2D_Stats_min', 'LoG_sigma_0_7_mm_2D_Stats_p10', 'LoG_sigma_0_7_mm_2D_Stats_p90', 'LoG_sigma_0_7_mm_2D_Stats_qcod', 'LoG_sigma_0_7_mm_2D_Stats_rMeanD', 'LoG_sigma_0_7_mm_2D_Stats_range', 'LoG_sigma_0_7_mm_2D_Stats_rms', 'LoG_sigma_0_7_mm_2D_Stats_skewness', 'LoG_sigma_0_7_mm_2D_Stats_std', 'LoG_sigma_0_7_mm_2D_Stats_var', 'LoG_sigma_0_7_mm_2D_pos_IH_cov', 'LoG_sigma_0_7_mm_2D_pos_IH_energy', 'LoG_sigma_0_7_mm_2D_pos_IH_entropy', 'LoG_sigma_0_7_mm_2D_pos_IH_iqr', 'LoG_sigma_0_7_mm_2D_pos_IH_kurtosis', 'LoG_sigma_0_7_mm_2D_pos_IH_max', 'LoG_sigma_0_7_mm_2D_pos_IH_maxGrad', 'LoG_sigma_0_7_mm_2D_pos_IH_maxGradI', 'LoG_sigma_0_7_mm_2D_pos_IH_mean', 'LoG_sigma_0_7_mm_2D_pos_IH_meanD', 'LoG_sigma_0_7_mm_2D_pos_IH_median', 'LoG_sigma_0_7_mm_2D_pos_IH_medianD', 'LoG_sigma_0_7_mm_2D_pos_IH_min', 'LoG_sigma_0_7_mm_2D_pos_IH_minGrad', 'LoG_sigma_0_7_mm_2D_pos_IH_minGradI', 'LoG_sigma_0_7_mm_2D_pos_IH_mode', 'LoG_sigma_0_7_mm_2D_pos_IH_p10', 'LoG_sigma_0_7_mm_2D_pos_IH_p90', 'LoG_sigma_0_7_mm_2D_pos_IH_qcod', 'LoG_sigma_0_7_mm_2D_pos_IH_rMeanD', 'LoG_sigma_0_7_mm_2D_pos_IH_range', 'LoG_sigma_0_7_mm_2D_pos_IH_rms', 'LoG_sigma_0_7_mm_2D_pos_IH_skewness', 'LoG_sigma_0_7_mm_2D_pos_IH_std', 'LoG_sigma_0_7_mm_2D_pos_IH_uniformity', 'LoG_sigma_0_7_mm_2D_pos_IH_var', 'LoG_sigma_0_7_mm_2D_pos_Stats_cov', 'LoG_sigma_0_7_mm_2D_pos_Stats_energy', 'LoG_sigma_0_7_mm_2D_pos_Stats_iqr', 'LoG_sigma_0_7_mm_2D_pos_Stats_kurtosis', 'LoG_sigma_0_7_mm_2D_pos_Stats_max', 'LoG_sigma_0_7_mm_2D_pos_Stats_mean', 'LoG_sigma_0_7_mm_2D_pos_Stats_meanD', 'LoG_sigma_0_7_mm_2D_pos_Stats_median', 'LoG_sigma_0_7_mm_2D_pos_Stats_medianD', 'LoG_sigma_0_7_mm_2D_pos_Stats_min', 'LoG_sigma_0_7_mm_2D_pos_Stats_p10', 'LoG_sigma_0_7_mm_2D_pos_Stats_p90', 'LoG_sigma_0_7_mm_2D_pos_Stats_qcod', 'LoG_sigma_0_7_mm_2D_pos_Stats_rMeanD', 'LoG_sigma_0_7_mm_2D_pos_Stats_range', 'LoG_sigma_0_7_mm_2D_pos_Stats_rms', 'LoG_sigma_0_7_mm_2D_pos_Stats_skewness', 'LoG_sigma_0_7_mm_2D_pos_Stats_std', 'LoG_sigma_0_7_mm_2D_pos_Stats_var', 'LoG_sigma_1_mm_2D_IH_cov', 'LoG_sigma_1_mm_2D_IH_energy', 'LoG_sigma_1_mm_2D_IH_entropy', 'LoG_sigma_1_mm_2D_IH_iqr', 'LoG_sigma_1_mm_2D_IH_kurtosis', 'LoG_sigma_1_mm_2D_IH_max', 'LoG_sigma_1_mm_2D_IH_maxGrad', 'LoG_sigma_1_mm_2D_IH_maxGradI', 'LoG_sigma_1_mm_2D_IH_mean', 'LoG_sigma_1_mm_2D_IH_meanD', 'LoG_sigma_1_mm_2D_IH_median', 'LoG_sigma_1_mm_2D_IH_medianD', 'LoG_sigma_1_mm_2D_IH_min', 'LoG_sigma_1_mm_2D_IH_minGrad', 'LoG_sigma_1_mm_2D_IH_minGradI', 'LoG_sigma_1_mm_2D_IH_mode', 'LoG_sigma_1_mm_2D_IH_p10', 'LoG_sigma_1_mm_2D_IH_p90', 'LoG_sigma_1_mm_2D_IH_qcod', 'LoG_sigma_1_mm_2D_IH_rMeanD', 'LoG_sigma_1_mm_2D_IH_range', 'LoG_sigma_1_mm_2D_IH_rms', 'LoG_sigma_1_mm_2D_IH_skewness', 'LoG_sigma_1_mm_2D_IH_std', 'LoG_sigma_1_mm_2D_IH_uniformity', 'LoG_sigma_1_mm_2D_IH_var', 'LoG_sigma_1_mm_2D_Stats_cov', 'LoG_sigma_1_mm_2D_Stats_energy', 'LoG_sigma_1_mm_2D_Stats_iqr', 'LoG_sigma_1_mm_2D_Stats_kurtosis', 'LoG_sigma_1_mm_2D_Stats_max', 'LoG_sigma_1_mm_2D_Stats_mean', 'LoG_sigma_1_mm_2D_Stats_meanD', 'LoG_sigma_1_mm_2D_Stats_median', 'LoG_sigma_1_mm_2D_Stats_medianD', 'LoG_sigma_1_mm_2D_Stats_min', 'LoG_sigma_1_mm_2D_Stats_p10', 'LoG_sigma_1_mm_2D_Stats_p90', 'LoG_sigma_1_mm_2D_Stats_qcod', 'LoG_sigma_1_mm_2D_Stats_rMeanD', 'LoG_sigma_1_mm_2D_Stats_range', 'LoG_sigma_1_mm_2D_Stats_rms', 'LoG_sigma_1_mm_2D_Stats_skewness', 'LoG_sigma_1_mm_2D_Stats_std', 'LoG_sigma_1_mm_2D_Stats_var', 'LoG_sigma_1_mm_2D_pos_IH_cov', 'LoG_sigma_1_mm_2D_pos_IH_energy', 'LoG_sigma_1_mm_2D_pos_IH_entropy', 'LoG_sigma_1_mm_2D_pos_IH_iqr', 'LoG_sigma_1_mm_2D_pos_IH_kurtosis', 'LoG_sigma_1_mm_2D_pos_IH_max', 'LoG_sigma_1_mm_2D_pos_IH_maxGrad', 'LoG_sigma_1_mm_2D_pos_IH_maxGradI', 'LoG_sigma_1_mm_2D_pos_IH_mean', 'LoG_sigma_1_mm_2D_pos_IH_meanD', 'LoG_sigma_1_mm_2D_pos_IH_median', 'LoG_sigma_1_mm_2D_pos_IH_medianD', 'LoG_sigma_1_mm_2D_pos_IH_min', 'LoG_sigma_1_mm_2D_pos_IH_minGrad', 'LoG_sigma_1_mm_2D_pos_IH_minGradI', 'LoG_sigma_1_mm_2D_pos_IH_mode', 'LoG_sigma_1_mm_2D_pos_IH_p10', 'LoG_sigma_1_mm_2D_pos_IH_p90', 'LoG_sigma_1_mm_2D_pos_IH_qcod', 'LoG_sigma_1_mm_2D_pos_IH_rMeanD', 'LoG_sigma_1_mm_2D_pos_IH_range', 'LoG_sigma_1_mm_2D_pos_IH_rms', 'LoG_sigma_1_mm_2D_pos_IH_skewness', 'LoG_sigma_1_mm_2D_pos_IH_std', 'LoG_sigma_1_mm_2D_pos_IH_uniformity', 'LoG_sigma_1_mm_2D_pos_IH_var', 'LoG_sigma_1_mm_2D_pos_Stats_cov', 'LoG_sigma_1_mm_2D_pos_Stats_energy', 'LoG_sigma_1_mm_2D_pos_Stats_iqr', 'LoG_sigma_1_mm_2D_pos_Stats_kurtosis', 'LoG_sigma_1_mm_2D_pos_Stats_max', 'LoG_sigma_1_mm_2D_pos_Stats_mean', 'LoG_sigma_1_mm_2D_pos_Stats_meanD', 'LoG_sigma_1_mm_2D_pos_Stats_median', 'LoG_sigma_1_mm_2D_pos_Stats_medianD', 'LoG_sigma_1_mm_2D_pos_Stats_min', 'LoG_sigma_1_mm_2D_pos_Stats_p10', 'LoG_sigma_1_mm_2D_pos_Stats_p90', 'LoG_sigma_1_mm_2D_pos_Stats_qcod', 'LoG_sigma_1_mm_2D_pos_Stats_rMeanD', 'LoG_sigma_1_mm_2D_pos_Stats_range', 'LoG_sigma_1_mm_2D_pos_Stats_rms', 'LoG_sigma_1_mm_2D_pos_Stats_skewness', 'LoG_sigma_1_mm_2D_pos_Stats_std', 'LoG_sigma_1_mm_2D_pos_Stats_var', 'NGLDM_DE', 'NGLDM_DN', 'NGLDM_DNN', 'NGLDM_DV', 'NGLDM_GLN', 'NGLDM_GLNN', 'NGLDM_GLV', 'NGLDM_HGE', 'NGLDM_HGLDE', 'NGLDM_HGSDE', 'NGLDM_LDE', 'NGLDM_LGE', 'NGLDM_LGLDE', 'NGLDM_LGSDE', 'NGLDM_SDE', 'NGLDM_SM', 'NGLDM_SM2', 'NGTDM_busyness', 'NGTDM_coarseness', 'NGTDM_complexity', 'NGTDM_contrast', 'NGTDM_strength', 'Stats_cov', 'Stats_energy', 'Stats_iqr', 'Stats_kurtosis', 'Stats_max', 'Stats_mean', 'Stats_meanD', 'Stats_median', 'Stats_medianD', 'Stats_min', 'Stats_p10', 'Stats_p90', 'Stats_qcod', 'Stats_rMeanD', 'Stats_range', 'Stats_rms', 'Stats_skewness', 'Stats_std', 'Stats_var', 'Outcome', 'outcome']\n"
          ]
        }
      ],
      "source": [
        "features = list(data_train.columns)\n",
        "print (len(features))\n",
        "print (features)"
      ]
    },
    {
      "cell_type": "markdown",
      "metadata": {
        "id": "LLgipVwkwlj5"
      },
      "source": [
        "Separate the features and the outcomes:"
      ]
    },
    {
      "cell_type": "code",
      "execution_count": null,
      "metadata": {
        "colab": {
          "base_uri": "https://localhost:8080/",
          "height": 488
        },
        "id": "eRAc1kzqwoQ-",
        "outputId": "e862bbdc-1ae3-4e20-c20c-4c2d1c1ac0af"
      },
      "outputs": [
        {
          "output_type": "execute_result",
          "data": {
            "text/plain": [
              "     Fractal_average  Fractal_lacunarity  Fractal_sd  GLCM_autocorr  \\\n",
              "0           2.109282            0.010447    0.215554    2067.797029   \n",
              "1           2.092324            0.013189    0.240349    3058.445449   \n",
              "2           2.150168            0.010916    0.224781    1635.345051   \n",
              "3           2.063521            0.014229    0.246219    2826.252979   \n",
              "4           2.036999            0.012901    0.231412    3746.556382   \n",
              "..               ...                 ...         ...            ...   \n",
              "336         2.100960            0.012393    0.233880    2221.622474   \n",
              "337         2.127763            0.011310    0.226349    3035.236201   \n",
              "338         2.140162            0.011835    0.232799    3505.057172   \n",
              "339         2.140218            0.011237    0.226827    2604.640174   \n",
              "340         2.139643            0.011849    0.232850    2874.124298   \n",
              "\n",
              "     GLCM_average  GLCM_clusProm  GLCM_clusShade  GLCM_clusTend  \\\n",
              "0       43.798278   1.407646e+06     7159.400380     659.846733   \n",
              "1       54.750456   4.812933e+05    -1520.370488     363.746544   \n",
              "2       39.827543   3.878116e+05      550.338057     361.060041   \n",
              "3       52.173545   1.058322e+06      456.179418     570.204419   \n",
              "4       59.727643   1.595368e+06    -7379.912876     777.424703   \n",
              "..            ...            ...             ...            ...   \n",
              "336     45.785092   1.268940e+06     6745.077260     637.488194   \n",
              "337     53.758531   1.362019e+06    -4222.473364     713.990413   \n",
              "338     58.783398   4.152072e+05     -375.705536     370.632807   \n",
              "339     50.430707   5.529747e+05    -1726.052467     413.059270   \n",
              "340     52.977933   8.940524e+05     -667.955293     556.381266   \n",
              "\n",
              "     GLCM_contrast  GLCM_correl1  ...  Stats_min  Stats_p10  Stats_p90  \\\n",
              "0        61.815929      0.828684  ...       1952     2005.0     2072.0   \n",
              "1       120.416026      0.502632  ...       1941     2003.0     2045.0   \n",
              "2       164.613393      0.373679  ...       1948     1983.0     2024.0   \n",
              "3       153.516593      0.575638  ...       1947     1991.0     2034.0   \n",
              "4        60.774660      0.854920  ...       1968     2038.0     2106.0   \n",
              "..             ...           ...  ...        ...        ...        ...   \n",
              "336     136.100367      0.648064  ...       1994     2025.0     2064.0   \n",
              "337     132.968675      0.685966  ...       1973     2025.0     2084.0   \n",
              "338     172.356402      0.365138  ...       1926     1980.0     2017.0   \n",
              "339     167.524630      0.422830  ...       1959     2001.0     2037.0   \n",
              "340     286.530433      0.320196  ...       1958     1993.0     2031.0   \n",
              "\n",
              "     Stats_qcod  Stats_rMeanD  Stats_range    Stats_rms  Stats_skewness  \\\n",
              "0      0.008593     14.702153          197  2037.443275        0.380419   \n",
              "1      0.005435      9.501333          153  2024.170365       -0.192629   \n",
              "2      0.005241      9.146604          141  2003.600820        0.061260   \n",
              "3      0.005467      9.466079          126  2011.960535        0.022882   \n",
              "4      0.009161     15.768983          179  2073.695786       -0.295346   \n",
              "..          ...           ...          ...          ...             ...   \n",
              "336    0.005138      8.544133          110  2043.806439        0.330860   \n",
              "337    0.007782     13.345616          155  2055.414637       -0.163142   \n",
              "338    0.004754      8.203036          124  1998.365225       -0.042320   \n",
              "339    0.004704      8.076171          121  2019.393275       -0.106028   \n",
              "340    0.004970      8.419451          103  2012.063099       -0.039442   \n",
              "\n",
              "     Stats_std   Stats_var  \n",
              "0    26.447025  699.445119  \n",
              "1    16.779550  281.553291  \n",
              "2    16.197340  262.353813  \n",
              "3    17.024644  289.838490  \n",
              "4    26.140395  683.320268  \n",
              "..         ...         ...  \n",
              "336  15.341589  235.364338  \n",
              "337  22.641186  512.623307  \n",
              "338  14.446493  208.701167  \n",
              "339  14.609857  213.447917  \n",
              "340  14.921726  222.657920  \n",
              "\n",
              "[341 rows x 478 columns]"
            ],
            "text/html": [
              "\n",
              "  <div id=\"df-8df8c8f9-c727-4f0d-ab52-b245436a198f\">\n",
              "    <div class=\"colab-df-container\">\n",
              "      <div>\n",
              "<style scoped>\n",
              "    .dataframe tbody tr th:only-of-type {\n",
              "        vertical-align: middle;\n",
              "    }\n",
              "\n",
              "    .dataframe tbody tr th {\n",
              "        vertical-align: top;\n",
              "    }\n",
              "\n",
              "    .dataframe thead th {\n",
              "        text-align: right;\n",
              "    }\n",
              "</style>\n",
              "<table border=\"1\" class=\"dataframe\">\n",
              "  <thead>\n",
              "    <tr style=\"text-align: right;\">\n",
              "      <th></th>\n",
              "      <th>Fractal_average</th>\n",
              "      <th>Fractal_lacunarity</th>\n",
              "      <th>Fractal_sd</th>\n",
              "      <th>GLCM_autocorr</th>\n",
              "      <th>GLCM_average</th>\n",
              "      <th>GLCM_clusProm</th>\n",
              "      <th>GLCM_clusShade</th>\n",
              "      <th>GLCM_clusTend</th>\n",
              "      <th>GLCM_contrast</th>\n",
              "      <th>GLCM_correl1</th>\n",
              "      <th>...</th>\n",
              "      <th>Stats_min</th>\n",
              "      <th>Stats_p10</th>\n",
              "      <th>Stats_p90</th>\n",
              "      <th>Stats_qcod</th>\n",
              "      <th>Stats_rMeanD</th>\n",
              "      <th>Stats_range</th>\n",
              "      <th>Stats_rms</th>\n",
              "      <th>Stats_skewness</th>\n",
              "      <th>Stats_std</th>\n",
              "      <th>Stats_var</th>\n",
              "    </tr>\n",
              "  </thead>\n",
              "  <tbody>\n",
              "    <tr>\n",
              "      <th>0</th>\n",
              "      <td>2.109282</td>\n",
              "      <td>0.010447</td>\n",
              "      <td>0.215554</td>\n",
              "      <td>2067.797029</td>\n",
              "      <td>43.798278</td>\n",
              "      <td>1.407646e+06</td>\n",
              "      <td>7159.400380</td>\n",
              "      <td>659.846733</td>\n",
              "      <td>61.815929</td>\n",
              "      <td>0.828684</td>\n",
              "      <td>...</td>\n",
              "      <td>1952</td>\n",
              "      <td>2005.0</td>\n",
              "      <td>2072.0</td>\n",
              "      <td>0.008593</td>\n",
              "      <td>14.702153</td>\n",
              "      <td>197</td>\n",
              "      <td>2037.443275</td>\n",
              "      <td>0.380419</td>\n",
              "      <td>26.447025</td>\n",
              "      <td>699.445119</td>\n",
              "    </tr>\n",
              "    <tr>\n",
              "      <th>1</th>\n",
              "      <td>2.092324</td>\n",
              "      <td>0.013189</td>\n",
              "      <td>0.240349</td>\n",
              "      <td>3058.445449</td>\n",
              "      <td>54.750456</td>\n",
              "      <td>4.812933e+05</td>\n",
              "      <td>-1520.370488</td>\n",
              "      <td>363.746544</td>\n",
              "      <td>120.416026</td>\n",
              "      <td>0.502632</td>\n",
              "      <td>...</td>\n",
              "      <td>1941</td>\n",
              "      <td>2003.0</td>\n",
              "      <td>2045.0</td>\n",
              "      <td>0.005435</td>\n",
              "      <td>9.501333</td>\n",
              "      <td>153</td>\n",
              "      <td>2024.170365</td>\n",
              "      <td>-0.192629</td>\n",
              "      <td>16.779550</td>\n",
              "      <td>281.553291</td>\n",
              "    </tr>\n",
              "    <tr>\n",
              "      <th>2</th>\n",
              "      <td>2.150168</td>\n",
              "      <td>0.010916</td>\n",
              "      <td>0.224781</td>\n",
              "      <td>1635.345051</td>\n",
              "      <td>39.827543</td>\n",
              "      <td>3.878116e+05</td>\n",
              "      <td>550.338057</td>\n",
              "      <td>361.060041</td>\n",
              "      <td>164.613393</td>\n",
              "      <td>0.373679</td>\n",
              "      <td>...</td>\n",
              "      <td>1948</td>\n",
              "      <td>1983.0</td>\n",
              "      <td>2024.0</td>\n",
              "      <td>0.005241</td>\n",
              "      <td>9.146604</td>\n",
              "      <td>141</td>\n",
              "      <td>2003.600820</td>\n",
              "      <td>0.061260</td>\n",
              "      <td>16.197340</td>\n",
              "      <td>262.353813</td>\n",
              "    </tr>\n",
              "    <tr>\n",
              "      <th>3</th>\n",
              "      <td>2.063521</td>\n",
              "      <td>0.014229</td>\n",
              "      <td>0.246219</td>\n",
              "      <td>2826.252979</td>\n",
              "      <td>52.173545</td>\n",
              "      <td>1.058322e+06</td>\n",
              "      <td>456.179418</td>\n",
              "      <td>570.204419</td>\n",
              "      <td>153.516593</td>\n",
              "      <td>0.575638</td>\n",
              "      <td>...</td>\n",
              "      <td>1947</td>\n",
              "      <td>1991.0</td>\n",
              "      <td>2034.0</td>\n",
              "      <td>0.005467</td>\n",
              "      <td>9.466079</td>\n",
              "      <td>126</td>\n",
              "      <td>2011.960535</td>\n",
              "      <td>0.022882</td>\n",
              "      <td>17.024644</td>\n",
              "      <td>289.838490</td>\n",
              "    </tr>\n",
              "    <tr>\n",
              "      <th>4</th>\n",
              "      <td>2.036999</td>\n",
              "      <td>0.012901</td>\n",
              "      <td>0.231412</td>\n",
              "      <td>3746.556382</td>\n",
              "      <td>59.727643</td>\n",
              "      <td>1.595368e+06</td>\n",
              "      <td>-7379.912876</td>\n",
              "      <td>777.424703</td>\n",
              "      <td>60.774660</td>\n",
              "      <td>0.854920</td>\n",
              "      <td>...</td>\n",
              "      <td>1968</td>\n",
              "      <td>2038.0</td>\n",
              "      <td>2106.0</td>\n",
              "      <td>0.009161</td>\n",
              "      <td>15.768983</td>\n",
              "      <td>179</td>\n",
              "      <td>2073.695786</td>\n",
              "      <td>-0.295346</td>\n",
              "      <td>26.140395</td>\n",
              "      <td>683.320268</td>\n",
              "    </tr>\n",
              "    <tr>\n",
              "      <th>...</th>\n",
              "      <td>...</td>\n",
              "      <td>...</td>\n",
              "      <td>...</td>\n",
              "      <td>...</td>\n",
              "      <td>...</td>\n",
              "      <td>...</td>\n",
              "      <td>...</td>\n",
              "      <td>...</td>\n",
              "      <td>...</td>\n",
              "      <td>...</td>\n",
              "      <td>...</td>\n",
              "      <td>...</td>\n",
              "      <td>...</td>\n",
              "      <td>...</td>\n",
              "      <td>...</td>\n",
              "      <td>...</td>\n",
              "      <td>...</td>\n",
              "      <td>...</td>\n",
              "      <td>...</td>\n",
              "      <td>...</td>\n",
              "      <td>...</td>\n",
              "    </tr>\n",
              "    <tr>\n",
              "      <th>336</th>\n",
              "      <td>2.100960</td>\n",
              "      <td>0.012393</td>\n",
              "      <td>0.233880</td>\n",
              "      <td>2221.622474</td>\n",
              "      <td>45.785092</td>\n",
              "      <td>1.268940e+06</td>\n",
              "      <td>6745.077260</td>\n",
              "      <td>637.488194</td>\n",
              "      <td>136.100367</td>\n",
              "      <td>0.648064</td>\n",
              "      <td>...</td>\n",
              "      <td>1994</td>\n",
              "      <td>2025.0</td>\n",
              "      <td>2064.0</td>\n",
              "      <td>0.005138</td>\n",
              "      <td>8.544133</td>\n",
              "      <td>110</td>\n",
              "      <td>2043.806439</td>\n",
              "      <td>0.330860</td>\n",
              "      <td>15.341589</td>\n",
              "      <td>235.364338</td>\n",
              "    </tr>\n",
              "    <tr>\n",
              "      <th>337</th>\n",
              "      <td>2.127763</td>\n",
              "      <td>0.011310</td>\n",
              "      <td>0.226349</td>\n",
              "      <td>3035.236201</td>\n",
              "      <td>53.758531</td>\n",
              "      <td>1.362019e+06</td>\n",
              "      <td>-4222.473364</td>\n",
              "      <td>713.990413</td>\n",
              "      <td>132.968675</td>\n",
              "      <td>0.685966</td>\n",
              "      <td>...</td>\n",
              "      <td>1973</td>\n",
              "      <td>2025.0</td>\n",
              "      <td>2084.0</td>\n",
              "      <td>0.007782</td>\n",
              "      <td>13.345616</td>\n",
              "      <td>155</td>\n",
              "      <td>2055.414637</td>\n",
              "      <td>-0.163142</td>\n",
              "      <td>22.641186</td>\n",
              "      <td>512.623307</td>\n",
              "    </tr>\n",
              "    <tr>\n",
              "      <th>338</th>\n",
              "      <td>2.140162</td>\n",
              "      <td>0.011835</td>\n",
              "      <td>0.232799</td>\n",
              "      <td>3505.057172</td>\n",
              "      <td>58.783398</td>\n",
              "      <td>4.152072e+05</td>\n",
              "      <td>-375.705536</td>\n",
              "      <td>370.632807</td>\n",
              "      <td>172.356402</td>\n",
              "      <td>0.365138</td>\n",
              "      <td>...</td>\n",
              "      <td>1926</td>\n",
              "      <td>1980.0</td>\n",
              "      <td>2017.0</td>\n",
              "      <td>0.004754</td>\n",
              "      <td>8.203036</td>\n",
              "      <td>124</td>\n",
              "      <td>1998.365225</td>\n",
              "      <td>-0.042320</td>\n",
              "      <td>14.446493</td>\n",
              "      <td>208.701167</td>\n",
              "    </tr>\n",
              "    <tr>\n",
              "      <th>339</th>\n",
              "      <td>2.140218</td>\n",
              "      <td>0.011237</td>\n",
              "      <td>0.226827</td>\n",
              "      <td>2604.640174</td>\n",
              "      <td>50.430707</td>\n",
              "      <td>5.529747e+05</td>\n",
              "      <td>-1726.052467</td>\n",
              "      <td>413.059270</td>\n",
              "      <td>167.524630</td>\n",
              "      <td>0.422830</td>\n",
              "      <td>...</td>\n",
              "      <td>1959</td>\n",
              "      <td>2001.0</td>\n",
              "      <td>2037.0</td>\n",
              "      <td>0.004704</td>\n",
              "      <td>8.076171</td>\n",
              "      <td>121</td>\n",
              "      <td>2019.393275</td>\n",
              "      <td>-0.106028</td>\n",
              "      <td>14.609857</td>\n",
              "      <td>213.447917</td>\n",
              "    </tr>\n",
              "    <tr>\n",
              "      <th>340</th>\n",
              "      <td>2.139643</td>\n",
              "      <td>0.011849</td>\n",
              "      <td>0.232850</td>\n",
              "      <td>2874.124298</td>\n",
              "      <td>52.977933</td>\n",
              "      <td>8.940524e+05</td>\n",
              "      <td>-667.955293</td>\n",
              "      <td>556.381266</td>\n",
              "      <td>286.530433</td>\n",
              "      <td>0.320196</td>\n",
              "      <td>...</td>\n",
              "      <td>1958</td>\n",
              "      <td>1993.0</td>\n",
              "      <td>2031.0</td>\n",
              "      <td>0.004970</td>\n",
              "      <td>8.419451</td>\n",
              "      <td>103</td>\n",
              "      <td>2012.063099</td>\n",
              "      <td>-0.039442</td>\n",
              "      <td>14.921726</td>\n",
              "      <td>222.657920</td>\n",
              "    </tr>\n",
              "  </tbody>\n",
              "</table>\n",
              "<p>341 rows × 478 columns</p>\n",
              "</div>\n",
              "      <button class=\"colab-df-convert\" onclick=\"convertToInteractive('df-8df8c8f9-c727-4f0d-ab52-b245436a198f')\"\n",
              "              title=\"Convert this dataframe to an interactive table.\"\n",
              "              style=\"display:none;\">\n",
              "        \n",
              "  <svg xmlns=\"http://www.w3.org/2000/svg\" height=\"24px\"viewBox=\"0 0 24 24\"\n",
              "       width=\"24px\">\n",
              "    <path d=\"M0 0h24v24H0V0z\" fill=\"none\"/>\n",
              "    <path d=\"M18.56 5.44l.94 2.06.94-2.06 2.06-.94-2.06-.94-.94-2.06-.94 2.06-2.06.94zm-11 1L8.5 8.5l.94-2.06 2.06-.94-2.06-.94L8.5 2.5l-.94 2.06-2.06.94zm10 10l.94 2.06.94-2.06 2.06-.94-2.06-.94-.94-2.06-.94 2.06-2.06.94z\"/><path d=\"M17.41 7.96l-1.37-1.37c-.4-.4-.92-.59-1.43-.59-.52 0-1.04.2-1.43.59L10.3 9.45l-7.72 7.72c-.78.78-.78 2.05 0 2.83L4 21.41c.39.39.9.59 1.41.59.51 0 1.02-.2 1.41-.59l7.78-7.78 2.81-2.81c.8-.78.8-2.07 0-2.86zM5.41 20L4 18.59l7.72-7.72 1.47 1.35L5.41 20z\"/>\n",
              "  </svg>\n",
              "      </button>\n",
              "      \n",
              "  <style>\n",
              "    .colab-df-container {\n",
              "      display:flex;\n",
              "      flex-wrap:wrap;\n",
              "      gap: 12px;\n",
              "    }\n",
              "\n",
              "    .colab-df-convert {\n",
              "      background-color: #E8F0FE;\n",
              "      border: none;\n",
              "      border-radius: 50%;\n",
              "      cursor: pointer;\n",
              "      display: none;\n",
              "      fill: #1967D2;\n",
              "      height: 32px;\n",
              "      padding: 0 0 0 0;\n",
              "      width: 32px;\n",
              "    }\n",
              "\n",
              "    .colab-df-convert:hover {\n",
              "      background-color: #E2EBFA;\n",
              "      box-shadow: 0px 1px 2px rgba(60, 64, 67, 0.3), 0px 1px 3px 1px rgba(60, 64, 67, 0.15);\n",
              "      fill: #174EA6;\n",
              "    }\n",
              "\n",
              "    [theme=dark] .colab-df-convert {\n",
              "      background-color: #3B4455;\n",
              "      fill: #D2E3FC;\n",
              "    }\n",
              "\n",
              "    [theme=dark] .colab-df-convert:hover {\n",
              "      background-color: #434B5C;\n",
              "      box-shadow: 0px 1px 3px 1px rgba(0, 0, 0, 0.15);\n",
              "      filter: drop-shadow(0px 1px 2px rgba(0, 0, 0, 0.3));\n",
              "      fill: #FFFFFF;\n",
              "    }\n",
              "  </style>\n",
              "\n",
              "      <script>\n",
              "        const buttonEl =\n",
              "          document.querySelector('#df-8df8c8f9-c727-4f0d-ab52-b245436a198f button.colab-df-convert');\n",
              "        buttonEl.style.display =\n",
              "          google.colab.kernel.accessAllowed ? 'block' : 'none';\n",
              "\n",
              "        async function convertToInteractive(key) {\n",
              "          const element = document.querySelector('#df-8df8c8f9-c727-4f0d-ab52-b245436a198f');\n",
              "          const dataTable =\n",
              "            await google.colab.kernel.invokeFunction('convertToInteractive',\n",
              "                                                     [key], {});\n",
              "          if (!dataTable) return;\n",
              "\n",
              "          const docLinkHtml = 'Like what you see? Visit the ' +\n",
              "            '<a target=\"_blank\" href=https://colab.research.google.com/notebooks/data_table.ipynb>data table notebook</a>'\n",
              "            + ' to learn more about interactive tables.';\n",
              "          element.innerHTML = '';\n",
              "          dataTable['output_type'] = 'display_data';\n",
              "          await google.colab.output.renderOutput(dataTable, element);\n",
              "          const docLink = document.createElement('div');\n",
              "          docLink.innerHTML = docLinkHtml;\n",
              "          element.appendChild(docLink);\n",
              "        }\n",
              "      </script>\n",
              "    </div>\n",
              "  </div>\n",
              "  "
            ]
          },
          "metadata": {},
          "execution_count": 44
        }
      ],
      "source": [
        "outcome_train = data_train['Outcome']\n",
        "outcome_test = data_test['Outcome']\n",
        "data_train = data_train.iloc[:, 11:489]\n",
        "data_test = data_test.iloc[:, 11:489]\n",
        "\n",
        "# checking how the features dataframe looks like\n",
        "data_test"
      ]
    },
    {
      "cell_type": "markdown",
      "metadata": {
        "id": "aBm8KYFpyZTW"
      },
      "source": [
        "## Exploratory data analysis\n",
        "\n",
        "Before building the models, it is always useful to perform the exploratory data analysis to have a look at the data, understand the distribution of the features, and notice some data errors. To perform these steps, we will be using precision-medicine-toolbox (https://github.com/primakov/precision-medicine-toolbox), an open-source Python package, developed in the D-Lab, Maastricht University. If something does not work, look at the error and at the already produced features reports for troubleshooting. Don't hesitate to look into the toolbox documentation to fix the problem: https://precision-medicine-toolbox.readthedocs.io/en/latest/?badge=latest. You can search for available functions to deal with NaN values + the ways to read the data, excluding some features.  \n",
        "  \n",
        "Remember that for now, everything happens in the training data. Time to discuss why this is so important!  "
      ]
    },
    {
      "cell_type": "code",
      "execution_count": null,
      "metadata": {
        "colab": {
          "base_uri": "https://localhost:8080/"
        },
        "id": "paW5Ay4lyhi4",
        "outputId": "aaab0859-4e34-405b-b280-a343c1502b58"
      },
      "outputs": [
        {
          "output_type": "stream",
          "name": "stdout",
          "text": [
            "Number of observations: 805\n",
            "Class labels: ['0' '1']\n",
            "Classes balance: [0.484472049689441, 0.515527950310559]\n"
          ]
        }
      ],
      "source": [
        "# let's list the parameters of our features dataset\n",
        "parameters = {\n",
        "    'feature_path': \"/content/AI4I_Radiomics_Experts_Data/data_features/WS2022_Experts_training.xlsx\", # path to csv/xls file with features\n",
        "    'outcome_path': \"/content/AI4I_Radiomics_Experts_Data/data_features/WS2022_Experts_training.xlsx\", #path to csv/xls file with outcome (in our case - the same file)\n",
        "    'patient_column': 'LesionID', # name of column with patient ID\n",
        "    'patient_in_outcome_column': 'LesionID', # name of column with patient ID in clinical data file\n",
        "    'outcome_column': 'Outcome', # name of outcome column\n",
        "    'feature_column': features,\n",
        "    'feature_column_to_drop': ['LoG_sigma_0_4_mm_2D_IH_max',\n",
        "                               'LoG_sigma_0_7_mm_2D_IH_max',\n",
        "                               'LoG_sigma_0_4_mm_2D_pos_IH_range',\n",
        "                               'LoG_sigma_0_4_mm_2D_pos_IH_min',\n",
        "                               'LoG_sigma_0_1_mm_2D_pos_IH_max',\n",
        "                               'LoG_sigma_1_mm_2D_IH_max',\n",
        "                               'LoG_sigma_0_7_mm_2D_IH_range',\n",
        "                               'LoG_sigma_1_mm_2D_pos_IH_max',\n",
        "                               'LoG_sigma_0_4_mm_2D_IH_min',\n",
        "                               'LoG_sigma_0_1_mm_2D_pos_IH_range',\n",
        "                               'LoG_sigma_0_1_mm_2D_IH_range',\n",
        "                               'LoG_sigma_1_mm_2D_IH_min',\n",
        "                               'LoG_sigma_0_4_mm_2D_IH_range',\n",
        "                               'LoG_sigma_1_mm_2D_pos_IH_range',\n",
        "                               'voxel_distance',\n",
        "                               'LoG_sigma_0_1_mm_2D_IH_max',\n",
        "                               'LoG_sigma_0_7_mm_2D_pos_IH_max',\n",
        "                               'LoG_sigma_1_mm_2D_IH_range',\n",
        "                               'LoG_sigma_0_4_mm_2D_pos_IH_max',\n",
        "                               'LoG_sigma_0_7_mm_2D_pos_IH_min',\n",
        "                               'LoG_sigma_1_mm_2D_pos_IH_min',\n",
        "                               'LoG_sigma_0_1_mm_2D_pos_IH_min',\n",
        "                               'LoG_sigma_0_7_mm_2D_IH_min',\n",
        "                               'LoG_sigma_0_7_mm_2D_pos_IH_range',\n",
        "                               'LoG_sigma_0_1_mm_2D_IH_min']\n",
        "}\n",
        "\n",
        "# initializing the dataset, containing features\n",
        "fs = AnalysisBox(**parameters)"
      ]
    },
    {
      "cell_type": "code",
      "execution_count": null,
      "metadata": {
        "colab": {
          "base_uri": "https://localhost:8080/"
        },
        "id": "x_pzrlmcIIIY",
        "outputId": "d4f00510-2523-40d9-8c73-832cc048fd58"
      },
      "outputs": [
        {
          "output_type": "stream",
          "name": "stdout",
          "text": [
            "Initial amount of features:  491\n",
            "Number of observations: 805\n",
            "Class labels: ['0' '1']\n",
            "Classes balance: [0.484472049689441, 0.515527950310559]\n",
            "Amount of features after exclusion of NaN values:  491\n"
          ]
        }
      ],
      "source": [
        "print('Initial amount of features: ', len(parameters['feature_column']))\n",
        "fs.handle_nan(axis=1)\n",
        "print('Amount of features after exclusion of NaN values: ', len(parameters['feature_column']))"
      ]
    },
    {
      "cell_type": "markdown",
      "metadata": {
        "id": "U_EgaYg4ykq-"
      },
      "source": [
        "Plotting feature distributions to have a visual understanding about feature distributions in classes."
      ]
    },
    {
      "cell_type": "code",
      "execution_count": null,
      "metadata": {
        "id": "G37us_8FymlQ"
      },
      "outputs": [],
      "source": [
        "fs.plot_distribution(fs._feature_column[11:489])"
      ]
    },
    {
      "cell_type": "markdown",
      "metadata": {
        "id": "DvfwDvlnyplK"
      },
      "source": [
        "What do you think about the report?\n",
        "\n",
        "Plotting the correlation matrix to have an idea about how many features are inter-correlated. Why is it important to know about the mutual feature correlation?"
      ]
    },
    {
      "cell_type": "code",
      "execution_count": null,
      "metadata": {
        "id": "igN2PiRyyrNL"
      },
      "outputs": [],
      "source": [
        "fs.plot_correlation_matrix(fs._feature_column[11:489])"
      ]
    },
    {
      "cell_type": "markdown",
      "metadata": {
        "id": "RzLIHLwNytEG"
      },
      "source": [
        "Performing Mann-Whitney U-test (with False Discovery Rate correction) to see if the feature distributions in classes are statistically different."
      ]
    },
    {
      "cell_type": "code",
      "execution_count": null,
      "metadata": {
        "id": "wbmFZWfTywa5"
      },
      "outputs": [],
      "source": [
        "fs.plot_MW_p(fs._feature_column[11:489])"
      ]
    },
    {
      "cell_type": "markdown",
      "metadata": {
        "id": "idLMYzbVyybP"
      },
      "source": [
        "Plotting univariate ROC curves and calculating AUC scores to have some estimation of the predictive power of every separate feature. Can we just build a classifer based on the best feature?"
      ]
    },
    {
      "cell_type": "code",
      "execution_count": null,
      "metadata": {
        "id": "QRfw0MIay2XS"
      },
      "outputs": [],
      "source": [
        "auc_threshold=0.70\n",
        "fs.plot_univariate_roc(fs._feature_column[11:489], auc_threshold)"
      ]
    },
    {
      "cell_type": "markdown",
      "metadata": {
        "id": "ce691Exmy8oy"
      },
      "source": [
        "Writing the basic statistics for every feature into .csv file and having a look at the resulting dataframe."
      ]
    },
    {
      "cell_type": "code",
      "execution_count": null,
      "metadata": {
        "colab": {
          "base_uri": "https://localhost:8080/",
          "height": 510
        },
        "id": "rEjH5fW9zDaV",
        "outputId": "3daaf0ff-1744-459d-9193-f459b46a3914"
      },
      "outputs": [
        {
          "output_type": "stream",
          "name": "stderr",
          "text": [
            "/usr/local/lib/python3.10/dist-packages/scipy/stats/_morestats.py:1813: UserWarning:\n",
            "\n",
            "Input data for shapiro has range zero. The results may not be accurate.\n",
            "\n"
          ]
        },
        {
          "output_type": "stream",
          "name": "stdout",
          "text": [
            "Basic statistics for each feature\n"
          ]
        },
        {
          "output_type": "execute_result",
          "data": {
            "text/plain": [
              "                             Unnamed: 0  NaN          Mean           Std  \\\n",
              "0     LoG_sigma_0_7_mm_2D_pos_IH_energy    0  3.926820e+07  5.393561e+07   \n",
              "1                       GLCM_dissimilar    0  8.780048e+00  2.486709e+00   \n",
              "2                             GLDZM_DZN    0  3.601086e+02  2.328494e+02   \n",
              "3     LoG_sigma_0_4_mm_2D_pos_Stats_p10    0  1.416982e+01  2.417120e+00   \n",
              "4      LoG_sigma_1_mm_2D_Stats_kurtosis    0  3.984657e+00  9.740350e+00   \n",
              "..                                  ...  ...           ...           ...   \n",
              "453  LoG_sigma_0_1_mm_2D_pos_IH_minGrad    0 -3.814224e+01  7.645547e+01   \n",
              "454                           GLRLM_GLN    0  5.794591e+02  1.596445e+03   \n",
              "455          LoG_sigma_0_7_mm_2D_IH_std    0  1.622515e+01  3.565417e+00   \n",
              "456          LoG_sigma_0_7_mm_2D_IH_var    0  2.759520e+02  1.142765e+02   \n",
              "457                          GLRLM_LGRE    0  8.438621e-04  4.481820e-04   \n",
              "\n",
              "               Min           Max  p_MW_corrected  univar_auc  p_shapiro_test  \n",
              "0    518632.000000  7.043464e+08    1.000000e+00    0.509608    2.835387e-41  \n",
              "1         1.348561  1.677017e+01    2.600422e-14    0.671072    1.445258e-03  \n",
              "2        53.133739  1.812547e+03    1.000000e+00    0.548681    1.965046e-32  \n",
              "3         7.023779  1.825709e+01    1.000000e+00    0.519138    3.753181e-20  \n",
              "4         1.660827  2.170905e+02    1.000000e+00    0.506642    0.000000e+00  \n",
              "..             ...           ...             ...         ...             ...  \n",
              "453   -1209.000000 -2.500000e+00    1.000000e+00    0.556271    0.000000e+00  \n",
              "454       6.578627  2.782701e+04    1.000000e+00    0.545913    0.000000e+00  \n",
              "455       1.729513  3.090779e+01    1.000000e+00    0.503160    2.338162e-07  \n",
              "456       2.991217  9.552917e+02    1.000000e+00    0.503089    2.877190e-11  \n",
              "457       0.000200  5.151991e-03    9.642058e-01    0.561449    1.022646e-36  \n",
              "\n",
              "[458 rows x 9 columns]"
            ],
            "text/html": [
              "\n",
              "  <div id=\"df-a2e4a294-c12f-4dc0-b00e-5701d8699183\">\n",
              "    <div class=\"colab-df-container\">\n",
              "      <div>\n",
              "<style scoped>\n",
              "    .dataframe tbody tr th:only-of-type {\n",
              "        vertical-align: middle;\n",
              "    }\n",
              "\n",
              "    .dataframe tbody tr th {\n",
              "        vertical-align: top;\n",
              "    }\n",
              "\n",
              "    .dataframe thead th {\n",
              "        text-align: right;\n",
              "    }\n",
              "</style>\n",
              "<table border=\"1\" class=\"dataframe\">\n",
              "  <thead>\n",
              "    <tr style=\"text-align: right;\">\n",
              "      <th></th>\n",
              "      <th>Unnamed: 0</th>\n",
              "      <th>NaN</th>\n",
              "      <th>Mean</th>\n",
              "      <th>Std</th>\n",
              "      <th>Min</th>\n",
              "      <th>Max</th>\n",
              "      <th>p_MW_corrected</th>\n",
              "      <th>univar_auc</th>\n",
              "      <th>p_shapiro_test</th>\n",
              "    </tr>\n",
              "  </thead>\n",
              "  <tbody>\n",
              "    <tr>\n",
              "      <th>0</th>\n",
              "      <td>LoG_sigma_0_7_mm_2D_pos_IH_energy</td>\n",
              "      <td>0</td>\n",
              "      <td>3.926820e+07</td>\n",
              "      <td>5.393561e+07</td>\n",
              "      <td>518632.000000</td>\n",
              "      <td>7.043464e+08</td>\n",
              "      <td>1.000000e+00</td>\n",
              "      <td>0.509608</td>\n",
              "      <td>2.835387e-41</td>\n",
              "    </tr>\n",
              "    <tr>\n",
              "      <th>1</th>\n",
              "      <td>GLCM_dissimilar</td>\n",
              "      <td>0</td>\n",
              "      <td>8.780048e+00</td>\n",
              "      <td>2.486709e+00</td>\n",
              "      <td>1.348561</td>\n",
              "      <td>1.677017e+01</td>\n",
              "      <td>2.600422e-14</td>\n",
              "      <td>0.671072</td>\n",
              "      <td>1.445258e-03</td>\n",
              "    </tr>\n",
              "    <tr>\n",
              "      <th>2</th>\n",
              "      <td>GLDZM_DZN</td>\n",
              "      <td>0</td>\n",
              "      <td>3.601086e+02</td>\n",
              "      <td>2.328494e+02</td>\n",
              "      <td>53.133739</td>\n",
              "      <td>1.812547e+03</td>\n",
              "      <td>1.000000e+00</td>\n",
              "      <td>0.548681</td>\n",
              "      <td>1.965046e-32</td>\n",
              "    </tr>\n",
              "    <tr>\n",
              "      <th>3</th>\n",
              "      <td>LoG_sigma_0_4_mm_2D_pos_Stats_p10</td>\n",
              "      <td>0</td>\n",
              "      <td>1.416982e+01</td>\n",
              "      <td>2.417120e+00</td>\n",
              "      <td>7.023779</td>\n",
              "      <td>1.825709e+01</td>\n",
              "      <td>1.000000e+00</td>\n",
              "      <td>0.519138</td>\n",
              "      <td>3.753181e-20</td>\n",
              "    </tr>\n",
              "    <tr>\n",
              "      <th>4</th>\n",
              "      <td>LoG_sigma_1_mm_2D_Stats_kurtosis</td>\n",
              "      <td>0</td>\n",
              "      <td>3.984657e+00</td>\n",
              "      <td>9.740350e+00</td>\n",
              "      <td>1.660827</td>\n",
              "      <td>2.170905e+02</td>\n",
              "      <td>1.000000e+00</td>\n",
              "      <td>0.506642</td>\n",
              "      <td>0.000000e+00</td>\n",
              "    </tr>\n",
              "    <tr>\n",
              "      <th>...</th>\n",
              "      <td>...</td>\n",
              "      <td>...</td>\n",
              "      <td>...</td>\n",
              "      <td>...</td>\n",
              "      <td>...</td>\n",
              "      <td>...</td>\n",
              "      <td>...</td>\n",
              "      <td>...</td>\n",
              "      <td>...</td>\n",
              "    </tr>\n",
              "    <tr>\n",
              "      <th>453</th>\n",
              "      <td>LoG_sigma_0_1_mm_2D_pos_IH_minGrad</td>\n",
              "      <td>0</td>\n",
              "      <td>-3.814224e+01</td>\n",
              "      <td>7.645547e+01</td>\n",
              "      <td>-1209.000000</td>\n",
              "      <td>-2.500000e+00</td>\n",
              "      <td>1.000000e+00</td>\n",
              "      <td>0.556271</td>\n",
              "      <td>0.000000e+00</td>\n",
              "    </tr>\n",
              "    <tr>\n",
              "      <th>454</th>\n",
              "      <td>GLRLM_GLN</td>\n",
              "      <td>0</td>\n",
              "      <td>5.794591e+02</td>\n",
              "      <td>1.596445e+03</td>\n",
              "      <td>6.578627</td>\n",
              "      <td>2.782701e+04</td>\n",
              "      <td>1.000000e+00</td>\n",
              "      <td>0.545913</td>\n",
              "      <td>0.000000e+00</td>\n",
              "    </tr>\n",
              "    <tr>\n",
              "      <th>455</th>\n",
              "      <td>LoG_sigma_0_7_mm_2D_IH_std</td>\n",
              "      <td>0</td>\n",
              "      <td>1.622515e+01</td>\n",
              "      <td>3.565417e+00</td>\n",
              "      <td>1.729513</td>\n",
              "      <td>3.090779e+01</td>\n",
              "      <td>1.000000e+00</td>\n",
              "      <td>0.503160</td>\n",
              "      <td>2.338162e-07</td>\n",
              "    </tr>\n",
              "    <tr>\n",
              "      <th>456</th>\n",
              "      <td>LoG_sigma_0_7_mm_2D_IH_var</td>\n",
              "      <td>0</td>\n",
              "      <td>2.759520e+02</td>\n",
              "      <td>1.142765e+02</td>\n",
              "      <td>2.991217</td>\n",
              "      <td>9.552917e+02</td>\n",
              "      <td>1.000000e+00</td>\n",
              "      <td>0.503089</td>\n",
              "      <td>2.877190e-11</td>\n",
              "    </tr>\n",
              "    <tr>\n",
              "      <th>457</th>\n",
              "      <td>GLRLM_LGRE</td>\n",
              "      <td>0</td>\n",
              "      <td>8.438621e-04</td>\n",
              "      <td>4.481820e-04</td>\n",
              "      <td>0.000200</td>\n",
              "      <td>5.151991e-03</td>\n",
              "      <td>9.642058e-01</td>\n",
              "      <td>0.561449</td>\n",
              "      <td>1.022646e-36</td>\n",
              "    </tr>\n",
              "  </tbody>\n",
              "</table>\n",
              "<p>458 rows × 9 columns</p>\n",
              "</div>\n",
              "      <button class=\"colab-df-convert\" onclick=\"convertToInteractive('df-a2e4a294-c12f-4dc0-b00e-5701d8699183')\"\n",
              "              title=\"Convert this dataframe to an interactive table.\"\n",
              "              style=\"display:none;\">\n",
              "        \n",
              "  <svg xmlns=\"http://www.w3.org/2000/svg\" height=\"24px\"viewBox=\"0 0 24 24\"\n",
              "       width=\"24px\">\n",
              "    <path d=\"M0 0h24v24H0V0z\" fill=\"none\"/>\n",
              "    <path d=\"M18.56 5.44l.94 2.06.94-2.06 2.06-.94-2.06-.94-.94-2.06-.94 2.06-2.06.94zm-11 1L8.5 8.5l.94-2.06 2.06-.94-2.06-.94L8.5 2.5l-.94 2.06-2.06.94zm10 10l.94 2.06.94-2.06 2.06-.94-2.06-.94-.94-2.06-.94 2.06-2.06.94z\"/><path d=\"M17.41 7.96l-1.37-1.37c-.4-.4-.92-.59-1.43-.59-.52 0-1.04.2-1.43.59L10.3 9.45l-7.72 7.72c-.78.78-.78 2.05 0 2.83L4 21.41c.39.39.9.59 1.41.59.51 0 1.02-.2 1.41-.59l7.78-7.78 2.81-2.81c.8-.78.8-2.07 0-2.86zM5.41 20L4 18.59l7.72-7.72 1.47 1.35L5.41 20z\"/>\n",
              "  </svg>\n",
              "      </button>\n",
              "      \n",
              "  <style>\n",
              "    .colab-df-container {\n",
              "      display:flex;\n",
              "      flex-wrap:wrap;\n",
              "      gap: 12px;\n",
              "    }\n",
              "\n",
              "    .colab-df-convert {\n",
              "      background-color: #E8F0FE;\n",
              "      border: none;\n",
              "      border-radius: 50%;\n",
              "      cursor: pointer;\n",
              "      display: none;\n",
              "      fill: #1967D2;\n",
              "      height: 32px;\n",
              "      padding: 0 0 0 0;\n",
              "      width: 32px;\n",
              "    }\n",
              "\n",
              "    .colab-df-convert:hover {\n",
              "      background-color: #E2EBFA;\n",
              "      box-shadow: 0px 1px 2px rgba(60, 64, 67, 0.3), 0px 1px 3px 1px rgba(60, 64, 67, 0.15);\n",
              "      fill: #174EA6;\n",
              "    }\n",
              "\n",
              "    [theme=dark] .colab-df-convert {\n",
              "      background-color: #3B4455;\n",
              "      fill: #D2E3FC;\n",
              "    }\n",
              "\n",
              "    [theme=dark] .colab-df-convert:hover {\n",
              "      background-color: #434B5C;\n",
              "      box-shadow: 0px 1px 3px 1px rgba(0, 0, 0, 0.15);\n",
              "      filter: drop-shadow(0px 1px 2px rgba(0, 0, 0, 0.3));\n",
              "      fill: #FFFFFF;\n",
              "    }\n",
              "  </style>\n",
              "\n",
              "      <script>\n",
              "        const buttonEl =\n",
              "          document.querySelector('#df-a2e4a294-c12f-4dc0-b00e-5701d8699183 button.colab-df-convert');\n",
              "        buttonEl.style.display =\n",
              "          google.colab.kernel.accessAllowed ? 'block' : 'none';\n",
              "\n",
              "        async function convertToInteractive(key) {\n",
              "          const element = document.querySelector('#df-a2e4a294-c12f-4dc0-b00e-5701d8699183');\n",
              "          const dataTable =\n",
              "            await google.colab.kernel.invokeFunction('convertToInteractive',\n",
              "                                                     [key], {});\n",
              "          if (!dataTable) return;\n",
              "\n",
              "          const docLinkHtml = 'Like what you see? Visit the ' +\n",
              "            '<a target=\"_blank\" href=https://colab.research.google.com/notebooks/data_table.ipynb>data table notebook</a>'\n",
              "            + ' to learn more about interactive tables.';\n",
              "          element.innerHTML = '';\n",
              "          dataTable['output_type'] = 'display_data';\n",
              "          await google.colab.output.renderOutput(dataTable, element);\n",
              "          const docLink = document.createElement('div');\n",
              "          docLink.innerHTML = docLinkHtml;\n",
              "          element.appendChild(docLink);\n",
              "        }\n",
              "      </script>\n",
              "    </div>\n",
              "  </div>\n",
              "  "
            ]
          },
          "metadata": {},
          "execution_count": 65
        }
      ],
      "source": [
        "fs.calculate_basic_stats()\n",
        "\n",
        "print('Basic statistics for each feature')\n",
        "pd.read_excel('/content/AI4I_Radiomics_Experts_Data/data_features/WS2022_Experts_training_basic_stats.xlsx')"
      ]
    },
    {
      "cell_type": "markdown",
      "metadata": {
        "id": "mjxiXEuFzENo"
      },
      "source": [
        "## Features reduction and selection\n",
        "\n",
        "Do you think we need to change somehow features list, based on the exploratory analysis?"
      ]
    },
    {
      "cell_type": "code",
      "execution_count": null,
      "metadata": {
        "colab": {
          "base_uri": "https://localhost:8080/"
        },
        "id": "8kX0JElHzXn3",
        "outputId": "75b97a01-2899-4ce8-9bd8-bffe1c476f97"
      },
      "outputs": [
        {
          "output_type": "stream",
          "name": "stdout",
          "text": [
            "Number of features without missing values:  478\n",
            "Number of features with non-zero variance:  366\n"
          ]
        }
      ],
      "source": [
        "features = features[11:489]\n",
        "features_non_nan = data_train[features].dropna(axis=1).columns\n",
        "print ('Number of features without missing values: ', len(features_non_nan))\n",
        "\n",
        "features_non_zero_var = data_train[features_non_nan].loc[:,data_train[features_non_nan].std(numeric_only = True) > 0.3].columns\n",
        "print ('Number of features with non-zero variance: ', len(features_non_zero_var))"
      ]
    },
    {
      "cell_type": "markdown",
      "metadata": {
        "id": "U5IUCHeFzak0"
      },
      "source": [
        "Removing highly correlated features is a controversial step aimed to reduce the dimensionality of the feature space. Highly correlated features needlessly inflate the dimensionality of feature space. The idea is that highly correlated features can be grouped together and represented by one representative feature.  For features pairs with a high Spearman correlation (r > 0.9) the feature with the highest mean correlation with all remaining features is removed.\n",
        "The opponents to this step argue that just because features are correlated doesn't mean that they don't individually  increase the model's performance.\n",
        "Time to discuss the pro's and con's of this step in more detail!\n",
        "\n",
        "<b>If you have time at the end of today's workshop, the cutoff is certaily a variable that can be played with.</b>"
      ]
    },
    {
      "cell_type": "code",
      "execution_count": null,
      "metadata": {
        "id": "n6b4jVyizlb4"
      },
      "outputs": [],
      "source": [
        "def selectNonIntercorrelated(df_in, ftrs, corr_th):\n",
        "\n",
        "    # selection of the features, which are not 'highly intercorrelated' (correlation is defined by Spearman coefficient);\n",
        "    # pairwise correlation between all the features is calculated,\n",
        "    # from each pair of features, considered as intercorrelated,\n",
        "    # feature with maximum sum of all the pairwise Spearman correlation coefficients is a 'candidate to be dropped'\n",
        "    # for stability of the selected features, bootstrapping approach is used:\n",
        "    # in each bootstrap split, the random subsample, stratified in relation to outcome,\n",
        "    # is formed, based on original observations from input dataset;\n",
        "    # in each bootstrap split, 'candidates to be dropped' are detected;\n",
        "    # for each input feature, its frequency to appear as 'candidate to be dropped' is calculated,\n",
        "    # features, appeared in 50 % of splits as 'candidate to be dropped', are excluded from feature set\n",
        "\n",
        "    # input:\n",
        "    # df_in - input dataframe, containing feature values (dataframe, columns = features, rows = observations),\n",
        "    # ftrs - list of dataframe features, used in analysis (list of feature names - string variables),\n",
        "    # corr_th - threshold for Spearman correlation coefficient, defining each pair of features as intercorrelated (float)\n",
        "\n",
        "    # output:\n",
        "    # non_intercorrelated_features - list of names of features, which did not appear as inter-correlated\n",
        "\n",
        "    corr_matrix = df_in.corr(method='spearman').abs()\n",
        "    mean_absolute_corr = corr_matrix.mean()\n",
        "    intercorrelated_features_set = []\n",
        "    upper = corr_matrix.where(np.triu(np.ones(corr_matrix.shape), k=1).astype(np.bool))\n",
        "    high_corrs = upper.where(upper > corr_th).dropna(how='all', axis=1).dropna(how='all', axis=0)\n",
        "\n",
        "    for feature in high_corrs.columns:\n",
        "        mean_absolute_main = mean_absolute_corr[feature]\n",
        "        correlated_with_feature = high_corrs[feature].index[pd.notnull(high_corrs[feature])]\n",
        "        for each_correlated_feature in correlated_with_feature:\n",
        "            mean_absolute = mean_absolute_corr[each_correlated_feature]\n",
        "            if mean_absolute_main > mean_absolute:\n",
        "                if feature not in intercorrelated_features_set:\n",
        "                    intercorrelated_features_set.append(feature)\n",
        "            else:\n",
        "                if each_correlated_feature not in intercorrelated_features_set:\n",
        "                    intercorrelated_features_set.append(each_correlated_feature)\n",
        "\n",
        "    non_intercorrelated_features_set = [e for e in ftrs if e not in intercorrelated_features_set]\n",
        "\n",
        "    print ('Non intercorrelated features: ', non_intercorrelated_features_set)\n",
        "\n",
        "    return non_intercorrelated_features_set"
      ]
    },
    {
      "cell_type": "markdown",
      "metadata": {
        "id": "4knIjgI6zpgf"
      },
      "source": [
        "We will use a threshold of 0.9 for absolute value of Spearmann's correlation."
      ]
    },
    {
      "cell_type": "code",
      "execution_count": null,
      "metadata": {
        "colab": {
          "base_uri": "https://localhost:8080/"
        },
        "id": "sRitM94Czsek",
        "outputId": "ac6ade8c-316e-450f-b9f5-bcd44fe23cef"
      },
      "outputs": [
        {
          "output_type": "stream",
          "name": "stderr",
          "text": [
            "<ipython-input-74-b4112132d521>:22: FutureWarning:\n",
            "\n",
            "The default value of numeric_only in DataFrame.corr is deprecated. In a future version, it will default to False. Select only valid columns or specify the value of numeric_only to silence this warning.\n",
            "\n"
          ]
        },
        {
          "output_type": "stream",
          "name": "stdout",
          "text": [
            "Non intercorrelated features:  ['GLCM_clusShade', 'GLCM_entrop2', 'GLDZM_DZE', 'GLDZM_HILDE', 'GLDZM_HISDE', 'GLDZM_LILDE', 'GLRLM_LRHGE', 'GLSZM_HILAE', 'LoG_sigma_0_1_mm_2D_IH_maxGradI', 'LoG_sigma_0_1_mm_2D_IH_medianD', 'LoG_sigma_0_1_mm_2D_IH_minGradI', 'LoG_sigma_0_1_mm_2D_IH_mode', 'LoG_sigma_0_1_mm_2D_IH_p10', 'LoG_sigma_0_1_mm_2D_IH_p90', 'LoG_sigma_0_1_mm_2D_IH_rms', 'LoG_sigma_0_1_mm_2D_IH_skewness', 'LoG_sigma_0_1_mm_2D_Stats_cov', 'LoG_sigma_0_1_mm_2D_Stats_kurtosis', 'LoG_sigma_0_1_mm_2D_Stats_mean', 'LoG_sigma_0_1_mm_2D_Stats_min', 'LoG_sigma_0_1_mm_2D_Stats_qcod', 'LoG_sigma_0_1_mm_2D_pos_IH_maxGrad', 'LoG_sigma_0_1_mm_2D_pos_IH_maxGradI', 'LoG_sigma_0_1_mm_2D_pos_IH_minGrad', 'LoG_sigma_0_1_mm_2D_pos_IH_minGradI', 'LoG_sigma_0_1_mm_2D_pos_IH_mode', 'LoG_sigma_0_1_mm_2D_pos_IH_p10', 'LoG_sigma_0_1_mm_2D_pos_Stats_max', 'LoG_sigma_0_1_mm_2D_pos_Stats_skewness', 'LoG_sigma_0_4_mm_2D_IH_maxGradI', 'LoG_sigma_0_4_mm_2D_IH_mean', 'LoG_sigma_0_4_mm_2D_IH_medianD', 'LoG_sigma_0_4_mm_2D_IH_minGradI', 'LoG_sigma_0_4_mm_2D_IH_mode', 'LoG_sigma_0_4_mm_2D_IH_p10', 'LoG_sigma_0_4_mm_2D_IH_p90', 'LoG_sigma_0_4_mm_2D_Stats_median', 'LoG_sigma_0_4_mm_2D_Stats_skewness', 'LoG_sigma_0_4_mm_2D_pos_IH_energy', 'LoG_sigma_0_4_mm_2D_pos_IH_maxGradI', 'LoG_sigma_0_4_mm_2D_pos_IH_medianD', 'LoG_sigma_0_4_mm_2D_pos_IH_minGradI', 'LoG_sigma_0_4_mm_2D_pos_IH_mode', 'LoG_sigma_0_4_mm_2D_pos_IH_p10', 'LoG_sigma_0_4_mm_2D_pos_IH_skewness', 'LoG_sigma_0_4_mm_2D_pos_Stats_kurtosis', 'LoG_sigma_0_4_mm_2D_pos_Stats_max', 'LoG_sigma_0_4_mm_2D_pos_Stats_min', 'LoG_sigma_0_4_mm_2D_pos_Stats_p10', 'LoG_sigma_0_7_mm_2D_IH_maxGradI', 'LoG_sigma_0_7_mm_2D_IH_median', 'LoG_sigma_0_7_mm_2D_IH_minGradI', 'LoG_sigma_0_7_mm_2D_IH_mode', 'LoG_sigma_0_7_mm_2D_IH_p10', 'LoG_sigma_0_7_mm_2D_IH_p90', 'LoG_sigma_0_7_mm_2D_IH_skewness', 'LoG_sigma_0_7_mm_2D_pos_IH_maxGradI', 'LoG_sigma_0_7_mm_2D_pos_IH_median', 'LoG_sigma_0_7_mm_2D_pos_IH_minGradI', 'LoG_sigma_0_7_mm_2D_pos_IH_mode', 'LoG_sigma_0_7_mm_2D_pos_IH_p10', 'LoG_sigma_0_7_mm_2D_pos_IH_skewness', 'LoG_sigma_0_7_mm_2D_pos_Stats_kurtosis', 'LoG_sigma_1_mm_2D_IH_maxGradI', 'LoG_sigma_1_mm_2D_IH_median', 'LoG_sigma_1_mm_2D_IH_minGradI', 'LoG_sigma_1_mm_2D_IH_mode', 'LoG_sigma_1_mm_2D_IH_p90', 'LoG_sigma_1_mm_2D_IH_skewness', 'LoG_sigma_1_mm_2D_Stats_iqr', 'LoG_sigma_1_mm_2D_Stats_min', 'LoG_sigma_1_mm_2D_pos_IH_minGrad', 'LoG_sigma_1_mm_2D_pos_IH_p10', 'LoG_sigma_1_mm_2D_pos_Stats_kurtosis', 'LoG_sigma_1_mm_2D_pos_Stats_p10', 'NGTDM_complexity', 'Stats_kurtosis', 'Stats_max', 'Stats_medianD', 'Stats_min', 'Stats_p10', 'Stats_range']\n",
            "Number of non-intercorrelated features:  82\n"
          ]
        },
        {
          "output_type": "stream",
          "name": "stderr",
          "text": [
            "<ipython-input-74-b4112132d521>:25: DeprecationWarning:\n",
            "\n",
            "`np.bool` is a deprecated alias for the builtin `bool`. To silence this warning, use `bool` by itself. Doing this will not modify any behavior and is safe. If you specifically wanted the numpy scalar type, use `np.bool_` here.\n",
            "Deprecated in NumPy 1.20; for more details and guidance: https://numpy.org/devdocs/release/1.20.0-notes.html#deprecations\n",
            "\n"
          ]
        }
      ],
      "source": [
        "features_non_intercorrelated = selectNonIntercorrelated(data_train,features_non_zero_var, 0.9)\n",
        "print ('Number of non-intercorrelated features: ', len(features_non_intercorrelated))"
      ]
    },
    {
      "cell_type": "markdown",
      "metadata": {
        "id": "lQ-vBI2QzuxC"
      },
      "source": [
        "We will perform feature selection using Recursive Feature Elimination (RFE). In this step, feature selection is based on the outcome, so simple models are built and those features that contribute the least to the model are removed recursively. Here you can edit the parameters.\n",
        "\n",
        "<b>You might have heard of variable normalization. Why are we not normalizing the variables (e.g. Z-score normalization)?</b>\n",
        "Hint: e.g. https://stackoverflow.com/questions/57339104/is-normalization-necessary-for-randomforest\n",
        "\n",
        "<b>How many features do we need to select with RFE?\n",
        "Time to discuss pros and cons of using many and a little features.</b>  \n",
        "  \n",
        "There are some rules of thumb on how many features we need in the end:  \n",
        "* $int(\\frac{N_{samples}}{10})$ (Abu-Mostafa, Y. S., Magdon-Ismail, M., & Lin, H. T. (2012). Learning from data (Vol. 4, p. 4). New York: AMLBook.)  \n",
        "* $\\sqrt{N_{samples}}$ (Hua, J., Xiong, Z., Lowey, J., Suh, E., & Dougherty, E. R. (2005). Optimal number of features as a function of sample size for various classification rules. Bioinformatics, 21(8), 1509-1515.)"
      ]
    },
    {
      "cell_type": "code",
      "execution_count": null,
      "metadata": {
        "colab": {
          "base_uri": "https://localhost:8080/"
        },
        "id": "8nUlfh620JIt",
        "outputId": "fe0801b3-6d0c-4835-ad4f-a581707831e5"
      },
      "outputs": [
        {
          "output_type": "stream",
          "name": "stdout",
          "text": [
            "Nmber of samples in training dataset:  805\n",
            "Number of features to select according to Abu-Mostafa:  80\n",
            "Number of features to select according to Hua:  28.372521918222215\n"
          ]
        }
      ],
      "source": [
        "print ('Nmber of samples in training dataset: ', data_train.shape[0])\n",
        "print ('Number of features to select according to Abu-Mostafa: ', int(data_train.shape[0]/10))\n",
        "print ('Number of features to select according to Hua: ', data_train.shape[0] ** 0.5)"
      ]
    },
    {
      "cell_type": "markdown",
      "metadata": {
        "id": "ggNVDDIS0j3K"
      },
      "source": [
        "Let's go for the lower number of features since our dataset is not large. Below we implement Recursive Feature Elimination, RFE (https://scikit-learn.org/stable/modules/generated/sklearn.feature_selection.RFE.html), based on Random Forest Classifier, RFC (https://scikit-learn.org/stable/modules/generated/sklearn.ensemble.RandomForestClassifier.html).\n",
        "\n",
        "Which number of features will you chose?"
      ]
    },
    {
      "cell_type": "code",
      "execution_count": null,
      "metadata": {
        "id": "san1UFHv0k8b"
      },
      "outputs": [],
      "source": [
        "estimator = RandomForestClassifier(n_estimators=100, random_state=np.random.seed(0))\n",
        "selector = RFE(estimator, n_features_to_select=20, step=1)\n",
        "selector = selector.fit(data_train[features_non_intercorrelated], outcome_train)"
      ]
    },
    {
      "cell_type": "markdown",
      "metadata": {
        "id": "8eQ0lfWX0pdA"
      },
      "source": [
        "And then select the features 'supported' by the algorithm."
      ]
    },
    {
      "cell_type": "code",
      "execution_count": null,
      "metadata": {
        "colab": {
          "base_uri": "https://localhost:8080/"
        },
        "id": "v_XsyJFs0vKe",
        "outputId": "804f5431-3ddf-4cbf-a6a5-7c79467c8b24"
      },
      "outputs": [
        {
          "output_type": "stream",
          "name": "stdout",
          "text": [
            "['GLCM_clusShade', 'GLDZM_HILDE', 'GLDZM_HISDE', 'GLDZM_LILDE', 'GLSZM_HILAE', 'LoG_sigma_0_1_mm_2D_IH_rms', 'LoG_sigma_0_1_mm_2D_IH_skewness', 'LoG_sigma_0_1_mm_2D_Stats_kurtosis', 'LoG_sigma_0_1_mm_2D_Stats_mean', 'LoG_sigma_0_1_mm_2D_Stats_min', 'LoG_sigma_0_4_mm_2D_Stats_median', 'LoG_sigma_0_4_mm_2D_pos_IH_skewness', 'LoG_sigma_0_4_mm_2D_pos_Stats_max', 'LoG_sigma_1_mm_2D_Stats_iqr', 'LoG_sigma_1_mm_2D_Stats_min', 'LoG_sigma_1_mm_2D_pos_Stats_p10', 'Stats_max', 'Stats_medianD', 'Stats_p10', 'Stats_range']\n"
          ]
        }
      ],
      "source": [
        "support = selector.get_support()\n",
        "selected_features_set = data_train[features_non_intercorrelated].loc[:, support].columns.tolist()\n",
        "\n",
        "print (selected_features_set)"
      ]
    },
    {
      "cell_type": "markdown",
      "metadata": {
        "id": "9sZe7WXF0yuI"
      },
      "source": [
        "<b>How many features give the best performance?</b>\n",
        "\n",
        "Time to discuss why we don't just use 100 features!  \n",
        "  \n",
        "The other option to select a number of features is data-driven and is based on ranking the features and then building classifier adding +1 feature at every step and checking its performance. We can evaluate the performance with some score and plot the dependence of this score from the number of the selected features."
      ]
    },
    {
      "cell_type": "code",
      "execution_count": null,
      "metadata": {
        "colab": {
          "base_uri": "https://localhost:8080/",
          "height": 472
        },
        "id": "q5Z6lqOJ2Ii8",
        "outputId": "3d3b9e61-593e-4816-8465-4afb4a6c05bd"
      },
      "outputs": [
        {
          "output_type": "display_data",
          "data": {
            "text/plain": [
              "<Figure size 640x480 with 1 Axes>"
            ],
            "image/png": "[encoded data removed]"
          },
          "metadata": {}
        }
      ],
      "source": [
        "# ranking the features based on RFE results\n",
        "\n",
        "features_ranks = pd.DataFrame({'Features': features_non_intercorrelated, 'Ranks': selector.ranking_})\n",
        "features_ranks.sort_values(by='Ranks', inplace = True)\n",
        "\n",
        "# taking one best feature first, building the RFC, estimating the performance;\n",
        "# adding +1 next feature, repeating the steps to estimate the performance\n",
        "\n",
        "ftrs_number_tuning = []\n",
        "acc_tuning = []\n",
        "\n",
        "for i in range (1, len(features_ranks)):\n",
        "\n",
        "    ftrs_number_tuning.append(i)\n",
        "    estimator_tuning = RandomForestClassifier(n_estimators=100, random_state=np.random.seed(0))\n",
        "    estimator_tuning.fit(data_train[features_ranks['Features'][:i]], outcome_train)\n",
        "    outcome_pred_tuning = estimator_tuning.predict(data_test[features_ranks['Features'][:i]])\n",
        "    acc_tuning.append(balanced_accuracy_score(outcome_test, outcome_pred_tuning))\n",
        "\n",
        "# plotting the results\n",
        "plt.plot(ftrs_number_tuning, acc_tuning)\n",
        "plt.xlabel('Number of features')\n",
        "plt.ylabel('RFC performance')\n",
        "plt.title('RFC performance depending on number of selected features')\n",
        "plt.show()"
      ]
    },
    {
      "cell_type": "markdown",
      "metadata": {
        "id": "u-7G-Ks52JVd"
      },
      "source": [
        "What can we conclude from the plot? What are the downsides of the presented implementation? Is it correct to train and evaluate the model on the same samples? Is the selected performance metric correct? What other metrics can we use?\n",
        "\n",
        "## Modeling\n",
        "\n"
      ]
    },
    {
      "cell_type": "markdown",
      "metadata": {
        "id": "dw1FY2Z7i5Mc"
      },
      "source": [
        "### MODEL 1: RFC\n",
        "\n",
        "We started with RFC while performing RFE, so let us train this model with the selected features and evaluate in on test data.  \n",
        "\n",
        "Training the model (it's possible to vary the parameters):"
      ]
    },
    {
      "cell_type": "code",
      "execution_count": null,
      "metadata": {
        "colab": {
          "base_uri": "https://localhost:8080/",
          "height": 75
        },
        "id": "26P08OHd2Tl_",
        "outputId": "1629108d-56f7-4be9-eea9-51a87c43b6b9"
      },
      "outputs": [
        {
          "output_type": "execute_result",
          "data": {
            "text/plain": [
              "RandomForestClassifier()"
            ],
            "text/html": [
              "<style>#sk-container-id-1 {color: black;background-color: white;}#sk-container-id-1 pre{padding: 0;}#sk-container-id-1 div.sk-toggleable {background-color: white;}#sk-container-id-1 label.sk-toggleable__label {cursor: pointer;display: block;width: 100%;margin-bottom: 0;padding: 0.3em;box-sizing: border-box;text-align: center;}#sk-container-id-1 label.sk-toggleable__label-arrow:before {content: \"▸\";float: left;margin-right: 0.25em;color: #696969;}#sk-container-id-1 label.sk-toggleable__label-arrow:hover:before {color: black;}#sk-container-id-1 div.sk-estimator:hover label.sk-toggleable__label-arrow:before {color: black;}#sk-container-id-1 div.sk-toggleable__content {max-height: 0;max-width: 0;overflow: hidden;text-align: left;background-color: #f0f8ff;}#sk-container-id-1 div.sk-toggleable__content pre {margin: 0.2em;color: black;border-radius: 0.25em;background-color: #f0f8ff;}#sk-container-id-1 input.sk-toggleable__control:checked~div.sk-toggleable__content {max-height: 200px;max-width: 100%;overflow: auto;}#sk-container-id-1 input.sk-toggleable__control:checked~label.sk-toggleable__label-arrow:before {content: \"▾\";}#sk-container-id-1 div.sk-estimator input.sk-toggleable__control:checked~label.sk-toggleable__label {background-color: #d4ebff;}#sk-container-id-1 div.sk-label input.sk-toggleable__control:checked~label.sk-toggleable__label {background-color: #d4ebff;}#sk-container-id-1 input.sk-hidden--visually {border: 0;clip: rect(1px 1px 1px 1px);clip: rect(1px, 1px, 1px, 1px);height: 1px;margin: -1px;overflow: hidden;padding: 0;position: absolute;width: 1px;}#sk-container-id-1 div.sk-estimator {font-family: monospace;background-color: #f0f8ff;border: 1px dotted black;border-radius: 0.25em;box-sizing: border-box;margin-bottom: 0.5em;}#sk-container-id-1 div.sk-estimator:hover {background-color: #d4ebff;}#sk-container-id-1 div.sk-parallel-item::after {content: \"\";width: 100%;border-bottom: 1px solid gray;flex-grow: 1;}#sk-container-id-1 div.sk-label:hover label.sk-toggleable__label {background-color: #d4ebff;}#sk-container-id-1 div.sk-serial::before {content: \"\";position: absolute;border-left: 1px solid gray;box-sizing: border-box;top: 0;bottom: 0;left: 50%;z-index: 0;}#sk-container-id-1 div.sk-serial {display: flex;flex-direction: column;align-items: center;background-color: white;padding-right: 0.2em;padding-left: 0.2em;position: relative;}#sk-container-id-1 div.sk-item {position: relative;z-index: 1;}#sk-container-id-1 div.sk-parallel {display: flex;align-items: stretch;justify-content: center;background-color: white;position: relative;}#sk-container-id-1 div.sk-item::before, #sk-container-id-1 div.sk-parallel-item::before {content: \"\";position: absolute;border-left: 1px solid gray;box-sizing: border-box;top: 0;bottom: 0;left: 50%;z-index: -1;}#sk-container-id-1 div.sk-parallel-item {display: flex;flex-direction: column;z-index: 1;position: relative;background-color: white;}#sk-container-id-1 div.sk-parallel-item:first-child::after {align-self: flex-end;width: 50%;}#sk-container-id-1 div.sk-parallel-item:last-child::after {align-self: flex-start;width: 50%;}#sk-container-id-1 div.sk-parallel-item:only-child::after {width: 0;}#sk-container-id-1 div.sk-dashed-wrapped {border: 1px dashed gray;margin: 0 0.4em 0.5em 0.4em;box-sizing: border-box;padding-bottom: 0.4em;background-color: white;}#sk-container-id-1 div.sk-label label {font-family: monospace;font-weight: bold;display: inline-block;line-height: 1.2em;}#sk-container-id-1 div.sk-label-container {text-align: center;}#sk-container-id-1 div.sk-container {/* jupyter's `normalize.less` sets `[hidden] { display: none; }` but bootstrap.min.css set `[hidden] { display: none !important; }` so we also need the `!important` here to be able to override the default hidden behavior on the sphinx rendered scikit-learn.org. See: https://github.com/scikit-learn/scikit-learn/issues/21755 */display: inline-block !important;position: relative;}#sk-container-id-1 div.sk-text-repr-fallback {display: none;}</style><div id=\"sk-container-id-1\" class=\"sk-top-container\"><div class=\"sk-text-repr-fallback\"><pre>RandomForestClassifier()</pre><b>In a Jupyter environment, please rerun this cell to show the HTML representation or trust the notebook. <br />On GitHub, the HTML representation is unable to render, please try loading this page with nbviewer.org.</b></div><div class=\"sk-container\" hidden><div class=\"sk-item\"><div class=\"sk-estimator sk-toggleable\"><input class=\"sk-toggleable__control sk-hidden--visually\" id=\"sk-estimator-id-1\" type=\"checkbox\" checked><label for=\"sk-estimator-id-1\" class=\"sk-toggleable__label sk-toggleable__label-arrow\">RandomForestClassifier</label><div class=\"sk-toggleable__content\"><pre>RandomForestClassifier()</pre></div></div></div></div></div>"
            ]
          },
          "metadata": {},
          "execution_count": 80
        }
      ],
      "source": [
        "rfc = RandomForestClassifier(n_estimators=100, random_state=np.random.seed(0))\n",
        "rfc.fit(data_train[selected_features_set], data_train['Outcome'])"
      ]
    },
    {
      "cell_type": "markdown",
      "metadata": {
        "id": "RKz5JUeC2YAK"
      },
      "source": [
        "Prediction for the testing set:"
      ]
    },
    {
      "cell_type": "code",
      "execution_count": null,
      "metadata": {
        "id": "Tvi88TlB2aR6"
      },
      "outputs": [],
      "source": [
        "outcome_pred_rfc = rfc.predict(data_test[selected_features_set])"
      ]
    },
    {
      "cell_type": "markdown",
      "metadata": {
        "id": "UFGcuGAi2c5_"
      },
      "source": [
        "Performance reporting on some key classification scores:"
      ]
    },
    {
      "cell_type": "code",
      "execution_count": null,
      "metadata": {
        "colab": {
          "base_uri": "https://localhost:8080/"
        },
        "id": "US3QUiD_2l5j",
        "outputId": "b5355fc7-bae9-4371-d5f0-a3050375c268"
      },
      "outputs": [
        {
          "output_type": "stream",
          "name": "stdout",
          "text": [
            "              precision    recall  f1-score   support\n",
            "\n",
            "           0       0.87      0.75      0.81       166\n",
            "           1       0.79      0.90      0.84       175\n",
            "\n",
            "    accuracy                           0.83       341\n",
            "   macro avg       0.83      0.83      0.83       341\n",
            "weighted avg       0.83      0.83      0.83       341\n",
            "\n"
          ]
        }
      ],
      "source": [
        "print (classification_report(data_test['Outcome'], outcome_pred_rfc))"
      ]
    },
    {
      "cell_type": "markdown",
      "metadata": {
        "id": "FxY5UdRS2oA7"
      },
      "source": [
        "Are precision and recall informative metrics? Why don't we report accuracy as a key metric? In which cases accuracy is not suitable scores?  \n",
        "  \n",
        "The other popular metric for classification is Receiver Operating Characteristic (ROC) curve and area under the curve (AUC). We will calculate true positive rates (TPR) and false positive rates (FPR) while varying classification threshold and plot the curve."
      ]
    },
    {
      "cell_type": "code",
      "execution_count": null,
      "metadata": {
        "colab": {
          "base_uri": "https://localhost:8080/",
          "height": 472
        },
        "id": "yZdZn37z2qPQ",
        "outputId": "c1853d31-4f53-480d-b9ba-909864024e9d"
      },
      "outputs": [
        {
          "output_type": "display_data",
          "data": {
            "text/plain": [
              "<Figure size 640x480 with 1 Axes>"
            ],
            "image/png": "[encoded data removed]"
          },
          "metadata": {}
        }
      ],
      "source": [
        "fpr, tpr, _ = roc_curve(outcome_test, rfc.predict_proba(data_test[selected_features_set])[:, 1])\n",
        "roc_auc = roc_auc_score(outcome_test,rfc.predict_proba(data_test[selected_features_set])[:, 1])\n",
        "\n",
        "plt.plot(fpr, tpr)\n",
        "plt.title('RFC ROC curve (AUC = {})'.format(roc_auc))\n",
        "plt.xlabel('FPR')\n",
        "plt.ylabel('TPR')\n",
        "plt.show()"
      ]
    },
    {
      "cell_type": "markdown",
      "metadata": {
        "id": "QneA8cJZ2sP1"
      },
      "source": [
        "In which cases this metric does not give a correct representation of the model performance? Is AUC always the best metric?\n",
        "Most cetainly not! Especially for unbalanced datasets, AUC can be meaningless.\n",
        "http://www.davidsbatista.net/blog/2018/08/19/NLP_Metrics/\n",
        "\"With imbalanced classes, it’s easy to get a high accuracy without actually making useful predictions. So, accuracy as an evaluation metrics makes sense only if the class labels are uniformly distributed\"    \n",
        "\n",
        "To have a better understanding of model behaviour, we will plot a confusion matrix."
      ]
    },
    {
      "cell_type": "code",
      "execution_count": null,
      "metadata": {
        "colab": {
          "base_uri": "https://localhost:8080/",
          "height": 452
        },
        "id": "HzW4Fgn02xoP",
        "outputId": "f320dc6f-e0a1-4436-ad22-174893dbc559"
      },
      "outputs": [
        {
          "output_type": "display_data",
          "data": {
            "text/plain": [
              "<Figure size 640x480 with 2 Axes>"
            ],
            "image/png": "[encoded data removed]"
          },
          "metadata": {}
        }
      ],
      "source": [
        "cm = confusion_matrix(data_test['Outcome'], outcome_pred_rfc)\n",
        "f = sns.heatmap(cm, annot=True)\n",
        "plt.title('Confusion matrix for RFC')\n",
        "plt.show()"
      ]
    },
    {
      "cell_type": "markdown",
      "metadata": {
        "id": "YETFriH023pW"
      },
      "source": [
        "\n",
        "\n",
        "### MODEL 2: XGBoost\n",
        "\n",
        "The second model we will build is XGBoost because recently the algorithm was successfull in many machine learning competitions.\n",
        "\n",
        "<b>XGBoost - what is it? It's always best to understand your models. </b>\n",
        "\n",
        "https://xgboost.readthedocs.io/en/stable/python/python_intro.html#\n",
        "\n",
        "Train the model: Here you can chose the max number of boosting iterations, a balance between computing time and accuracy.\n",
        "\n",
        "Presenting the data in the appropriate format for the library."
      ]
    },
    {
      "cell_type": "code",
      "execution_count": null,
      "metadata": {
        "id": "zc7V2Uxw3EzF"
      },
      "outputs": [],
      "source": [
        "dtrain = xgb.DMatrix(data_train[selected_features_set], label=data_train['Outcome'])\n",
        "dtest = xgb.DMatrix(data_test[selected_features_set], label=data_test['Outcome'])"
      ]
    },
    {
      "cell_type": "markdown",
      "metadata": {
        "id": "O0F-YNfT3G_Q"
      },
      "source": [
        "Defining the parameters: the learning objective is logistic regression for binary classification with probability output, the metric is the area under precision-recall curve (why not ROC AUC?)."
      ]
    },
    {
      "cell_type": "code",
      "execution_count": null,
      "metadata": {
        "id": "Mt119Hy83Lv-"
      },
      "outputs": [],
      "source": [
        "param = {'objective': 'binary:logistic', 'eval_metric': 'aucpr'}"
      ]
    },
    {
      "cell_type": "markdown",
      "metadata": {
        "id": "JsilJkzb3Ohc"
      },
      "source": [
        "We will train the model on the training set and evaluate on test set."
      ]
    },
    {
      "cell_type": "code",
      "execution_count": null,
      "metadata": {
        "id": "l5Vdwp5n3Q3k"
      },
      "outputs": [],
      "source": [
        "evallist = [(dtest, 'eval'), (dtrain, 'train')]"
      ]
    },
    {
      "cell_type": "markdown",
      "metadata": {
        "id": "jVkWe4n53Sq1"
      },
      "source": [
        "Training the model (number of iterations can be changed here!) and calculating outcomes for the test set."
      ]
    },
    {
      "cell_type": "code",
      "execution_count": null,
      "metadata": {
        "colab": {
          "base_uri": "https://localhost:8080/"
        },
        "id": "JjSYef5k3Vm7",
        "outputId": "ce40682b-cf6f-42dc-e33f-d732766d4716"
      },
      "outputs": [
        {
          "output_type": "stream",
          "name": "stdout",
          "text": [
            "[0]\teval-aucpr:0.75716\ttrain-aucpr:0.91104\n",
            "[1]\teval-aucpr:0.78922\ttrain-aucpr:0.94963\n",
            "[2]\teval-aucpr:0.82978\ttrain-aucpr:0.96327\n",
            "[3]\teval-aucpr:0.83746\ttrain-aucpr:0.97322\n",
            "[4]\teval-aucpr:0.82722\ttrain-aucpr:0.98234\n",
            "[5]\teval-aucpr:0.84065\ttrain-aucpr:0.98822\n",
            "[6]\teval-aucpr:0.84117\ttrain-aucpr:0.99184\n",
            "[7]\teval-aucpr:0.84958\ttrain-aucpr:0.99475\n",
            "[8]\teval-aucpr:0.85601\ttrain-aucpr:0.99659\n",
            "[9]\teval-aucpr:0.86305\ttrain-aucpr:0.99717\n"
          ]
        },
        {
          "output_type": "stream",
          "name": "stderr",
          "text": [
            "/usr/local/lib/python3.10/dist-packages/xgboost/core.py:617: FutureWarning:\n",
            "\n",
            "Pass `evals` as keyword args.\n",
            "\n"
          ]
        }
      ],
      "source": [
        "num_round = 10\n",
        "bst = xgb.train(param, dtrain, num_round, evallist)\n",
        "\n",
        "outcome_pred_xgb = bst.predict(dtest)"
      ]
    },
    {
      "cell_type": "markdown",
      "metadata": {
        "id": "FsKuk8pI3YPf"
      },
      "source": [
        "Classification report:"
      ]
    },
    {
      "cell_type": "code",
      "execution_count": null,
      "metadata": {
        "colab": {
          "base_uri": "https://localhost:8080/"
        },
        "id": "Kk4JUhKk3bKc",
        "outputId": "d69ed476-3ca4-44b1-b71a-523de2911b99"
      },
      "outputs": [
        {
          "output_type": "stream",
          "name": "stdout",
          "text": [
            "              precision    recall  f1-score   support\n",
            "\n",
            "           0       0.84      0.75      0.79       166\n",
            "           1       0.79      0.86      0.82       175\n",
            "\n",
            "    accuracy                           0.81       341\n",
            "   macro avg       0.81      0.81      0.81       341\n",
            "weighted avg       0.81      0.81      0.81       341\n",
            "\n"
          ]
        }
      ],
      "source": [
        "print (classification_report(data_test['Outcome'], outcome_pred_xgb >0.5))"
      ]
    },
    {
      "cell_type": "markdown",
      "metadata": {
        "id": "MXlktROy3c7b"
      },
      "source": [
        "ROC and ROC AUC:"
      ]
    },
    {
      "cell_type": "code",
      "execution_count": null,
      "metadata": {
        "colab": {
          "base_uri": "https://localhost:8080/",
          "height": 452
        },
        "id": "2Kg5dlpk3gEd",
        "outputId": "d2fd7bfa-3e77-477c-88d4-9564b93dcc7b"
      },
      "outputs": [
        {
          "output_type": "display_data",
          "data": {
            "text/plain": [
              "<Figure size 640x480 with 1 Axes>"
            ],
            "image/png": "[encoded data removed]"
          },
          "metadata": {}
        }
      ],
      "source": [
        "fpr, tpr, _ = roc_curve(outcome_test, outcome_pred_xgb )\n",
        "roc_auc = roc_auc_score(outcome_test, outcome_pred_xgb )\n",
        "\n",
        "plt.plot(fpr, tpr)\n",
        "plt.title('XGBoost ROC curve (AUC = {})'.format(roc_auc))\n",
        "plt.show()"
      ]
    },
    {
      "cell_type": "markdown",
      "metadata": {
        "id": "TeaigfZW3iXE"
      },
      "source": [
        "Create and display the confusion matrix and derived values for the Xgboost model."
      ]
    },
    {
      "cell_type": "code",
      "execution_count": null,
      "metadata": {
        "colab": {
          "base_uri": "https://localhost:8080/",
          "height": 430
        },
        "id": "HtPhR7Jx33CP",
        "outputId": "52d7c1f3-a2a0-41ec-d5ab-f603bce3dd49"
      },
      "outputs": [
        {
          "output_type": "display_data",
          "data": {
            "text/plain": [
              "<Figure size 640x480 with 2 Axes>"
            ],
            "image/png": "[encoded data removed]"
          },
          "metadata": {}
        }
      ],
      "source": [
        "cm = confusion_matrix(outcome_test, outcome_pred_xgb>0.5)\n",
        "f = sns.heatmap(cm, annot=True)"
      ]
    },
    {
      "cell_type": "markdown",
      "metadata": {
        "id": "UJpHgmIW36hA"
      },
      "source": [
        "<b>Almost done! You will now compare the performance of the models.</b>\n",
        "  \n",
        "Which classifier is better?  \n",
        "\n",
        "To compare ROC AUC scores, we will perform a permuation test for the probabilities obtained on the test set for the both classifiers."
      ]
    },
    {
      "cell_type": "code",
      "execution_count": null,
      "metadata": {
        "colab": {
          "base_uri": "https://localhost:8080/"
        },
        "id": "0fu8MAO44AP8",
        "outputId": "2b487bf7-e792-4ae9-c83d-bc472db69a74"
      },
      "outputs": [
        {
          "output_type": "stream",
          "name": "stdout",
          "text": [
            "Difference, p-value:  (-0.023235800344234225, 0.99)\n"
          ]
        }
      ],
      "source": [
        "# adapted from https://stackoverflow.com/questions/52373318/how-to-compare-roc-auc-scores-of-different-binary-classifiers\n",
        "#-and-assess-statist\n",
        "\n",
        "def permutation_test_between_clfs(y_test, pred_proba_1, pred_proba_2, nsamples=100):\n",
        "    auc_differences = []\n",
        "    auc1 = roc_auc_score(y_test.ravel(), pred_proba_1.ravel())\n",
        "    auc2 = roc_auc_score(y_test.ravel(), pred_proba_2.ravel())\n",
        "    observed_difference = auc1 - auc2\n",
        "    for _ in range(nsamples):\n",
        "        mask = np.random.randint(2, size=len(pred_proba_1.ravel()))\n",
        "        p1 = np.where(mask, pred_proba_1.ravel(), pred_proba_2.ravel())\n",
        "        p2 = np.where(mask, pred_proba_2.ravel(), pred_proba_1.ravel())\n",
        "        auc1 = roc_auc_score(y_test.ravel(), p1)\n",
        "        auc2 = roc_auc_score(y_test.ravel(), p2)\n",
        "        auc_differences.append(auc1 - auc2)\n",
        "    return observed_difference, np.mean(auc_differences >= observed_difference)\n",
        "\n",
        "print ('Difference, p-value: ',\n",
        "       permutation_test_between_clfs(outcome_test,\n",
        "                                     outcome_pred_xgb,\n",
        "                                     rfc.predict_proba(data_test[selected_features_set])[:,1]))"
      ]
    },
    {
      "cell_type": "markdown",
      "metadata": {
        "id": "xmqNYAaL4J8D"
      },
      "source": [
        "After this test, which classifier is better?  \n",
        "  \n",
        "<b>Time for a pre-hackathon!</b> You can go back and \"finetune\" the models (or even implement your models) by changing the parameters you feel comfortable with. See you can increase the model performance. Can you beat the other groups?"
      ]
    },
    {
      "cell_type": "code",
      "source": [
        "!pip install scikit-optimize"
      ],
      "metadata": {
        "id": "EYbact6Wd-wv",
        "outputId": "97ad1b32-447d-4a8a-bb78-e155e4c80f00",
        "colab": {
          "base_uri": "https://localhost:8080/"
        }
      },
      "execution_count": null,
      "outputs": [
        {
          "output_type": "stream",
          "name": "stdout",
          "text": [
            "Collecting scikit-optimize\n",
            "  Downloading scikit_optimize-0.9.0-py2.py3-none-any.whl (100 kB)\n",
            "\u001b[?25l     \u001b[90m━━━━━━━━━━━━━━━━━━━━━━━━━━━━━━━━━━━━━━━━\u001b[0m \u001b[32m0.0/100.3 kB\u001b[0m \u001b[31m?\u001b[0m eta \u001b[36m-:--:--\u001b[0m\r\u001b[2K     \u001b[90m━━━━━━━━━━━━━━━━━━━━━━━━━━━━━━━━━━━━━━━\u001b[0m \u001b[32m100.3/100.3 kB\u001b[0m \u001b[31m4.0 MB/s\u001b[0m eta \u001b[36m0:00:00\u001b[0m\n",
            "\u001b[?25hRequirement already satisfied: joblib>=0.11 in /usr/local/lib/python3.10/dist-packages (from scikit-optimize) (1.2.0)\n",
            "Collecting pyaml>=16.9 (from scikit-optimize)\n",
            "  Downloading pyaml-23.5.9-py3-none-any.whl (17 kB)\n",
            "Requirement already satisfied: numpy>=1.13.3 in /usr/local/lib/python3.10/dist-packages (from scikit-optimize) (1.22.4)\n",
            "Requirement already satisfied: scipy>=0.19.1 in /usr/local/lib/python3.10/dist-packages (from scikit-optimize) (1.10.1)\n",
            "Requirement already satisfied: scikit-learn>=0.20.0 in /usr/local/lib/python3.10/dist-packages (from scikit-optimize) (1.2.2)\n",
            "Requirement already satisfied: PyYAML in /usr/local/lib/python3.10/dist-packages (from pyaml>=16.9->scikit-optimize) (6.0)\n",
            "Requirement already satisfied: threadpoolctl>=2.0.0 in /usr/local/lib/python3.10/dist-packages (from scikit-learn>=0.20.0->scikit-optimize) (3.1.0)\n",
            "Installing collected packages: pyaml, scikit-optimize\n",
            "Successfully installed pyaml-23.5.9 scikit-optimize-0.9.0\n"
          ]
        }
      ]
    },
    {
      "cell_type": "code",
      "source": [
        "from sklearn.model_selection import StratifiedKFold, RandomizedSearchCV\n",
        "from sklearn.metrics import accuracy_score\n",
        "from skopt import BayesSearchCV\n",
        "\n",
        "X = data_train[selected_features_set]\n",
        "y = data_train['Outcome']\n",
        "\n",
        "# Define the number of folds for cross-validation\n",
        "n_folds = 5\n",
        "\n",
        "# Create a StratifiedKFold object for cross-validation\n",
        "skf = StratifiedKFold(n_splits=n_folds, shuffle=True, random_state=42)"
      ],
      "metadata": {
        "id": "DA3OD25NYoC-"
      },
      "execution_count": null,
      "outputs": []
    },
    {
      "cell_type": "code",
      "source": [
        "# XGBoost\n",
        "# Define the parameter space for skopt\n",
        "param_space = {\n",
        "    'max_depth': (3, 10),\n",
        "    'learning_rate': (0.01, 0.3),\n",
        "    'n_estimators': (100, 500),\n",
        "    'gamma': (0, 10),\n",
        "    'min_child_weight': (1, 10)\n",
        "}\n",
        "# Initialize a BayesSearchCV object with XGBoost classifier and the parameter space\n",
        "opt = BayesSearchCV(\n",
        "    estimator=xgb.XGBClassifier(),\n",
        "    search_spaces=param_space,\n",
        "    scoring='accuracy',\n",
        "    cv=skf,\n",
        "    n_jobs=-1,\n",
        "    random_state=42\n",
        ")"
      ],
      "metadata": {
        "id": "ju0Zvq0UgNzM"
      },
      "execution_count": null,
      "outputs": []
    },
    {
      "cell_type": "code",
      "source": [
        "# Random Forest\n",
        "# Define the parameter bounds for Bayesian optimization\n",
        "param_space = {\n",
        "    'n_estimators': (50, 200),\n",
        "    'max_depth': (5, 15),\n",
        "    'min_samples_split': (2, 10),\n",
        "    'min_samples_leaf': (1, 10),\n",
        "    'max_features': (0.1, 1.0)\n",
        "}\n",
        "\n",
        "# Initialize a BayesSearchCV object with XGBoost classifier and the parameter space\n",
        "opt = BayesSearchCV(\n",
        "    estimator=RandomForestClassifier(),\n",
        "    search_spaces=param_space,\n",
        "    scoring='accuracy',\n",
        "    cv=skf,\n",
        "    n_jobs=-1,\n",
        "    random_state=42\n",
        ")"
      ],
      "metadata": {
        "id": "HPP7KbJmgXQw"
      },
      "execution_count": null,
      "outputs": []
    },
    {
      "cell_type": "code",
      "source": [
        "# Perform the Bayesian optimization with cross-validation\n",
        "opt.fit(X, y)\n",
        "\n",
        "# Retrieve the best estimator from the optimization\n",
        "best_model = opt.best_estimator_\n",
        "\n",
        "# Print the best hyperparameters\n",
        "print(\"Best Hyperparameters:\")\n",
        "print(opt.best_params_)"
      ],
      "metadata": {
        "id": "3-z9__2wgSMA",
        "outputId": "5f3147e4-165c-4cb6-d377-158bf58c90e6",
        "colab": {
          "base_uri": "https://localhost:8080/"
        }
      },
      "execution_count": null,
      "outputs": [
        {
          "output_type": "stream",
          "name": "stderr",
          "text": [
            "/usr/local/lib/python3.10/dist-packages/skopt/optimizer/optimizer.py:449: UserWarning:\n",
            "\n",
            "The objective has been evaluated at this point before.\n",
            "\n",
            "/usr/local/lib/python3.10/dist-packages/skopt/optimizer/optimizer.py:449: UserWarning:\n",
            "\n",
            "The objective has been evaluated at this point before.\n",
            "\n",
            "/usr/local/lib/python3.10/dist-packages/skopt/optimizer/optimizer.py:449: UserWarning:\n",
            "\n",
            "The objective has been evaluated at this point before.\n",
            "\n",
            "/usr/local/lib/python3.10/dist-packages/skopt/optimizer/optimizer.py:449: UserWarning:\n",
            "\n",
            "The objective has been evaluated at this point before.\n",
            "\n"
          ]
        },
        {
          "output_type": "stream",
          "name": "stdout",
          "text": [
            "Best Hyperparameters:\n",
            "OrderedDict([('max_depth', 15), ('max_features', 0.1), ('min_samples_leaf', 1), ('min_samples_split', 2), ('n_estimators', 200)])\n"
          ]
        }
      ]
    },
    {
      "cell_type": "code",
      "source": [
        "# Predict the label y with the best model\n",
        "y_true = data_test['Outcome']\n",
        "y_score = best_model.predict_proba(data_test[selected_features_set])[:, 1]\n",
        "\n",
        "# Plot the ROC\n",
        "fpr, tpr, _ = roc_curve(y_true, y_score)\n",
        "roc_auc = roc_auc_score(y_true, y_score)\n",
        "plt.plot(fpr, tpr)\n",
        "plt.title('XGBoost ROC curve (AUC = {})'.format(roc_auc))\n",
        "plt.show()\n",
        "\n",
        "# Plot the Confusion Matrix\n",
        "cm = confusion_matrix(y_true, y_score>0.5)\n",
        "f = sns.heatmap(cm, annot=True)"
      ],
      "metadata": {
        "id": "hoGrWfX9azhc",
        "outputId": "27dc2036-fdcf-43a4-c5f0-b2815569d5ae",
        "colab": {
          "base_uri": "https://localhost:8080/",
          "height": 865
        }
      },
      "execution_count": null,
      "outputs": [
        {
          "output_type": "display_data",
          "data": {
            "text/plain": [
              "<Figure size 640x480 with 1 Axes>"
            ],
            "image/png": "[encoded data removed]"
          },
          "metadata": {}
        },
        {
          "output_type": "display_data",
          "data": {
            "text/plain": [
              "<Figure size 640x480 with 2 Axes>"
            ],
            "image/png": "[encoded data removed]"
          },
          "metadata": {}
        }
      ]
    }
  ],
  "metadata": {
    "colab": {
      "provenance": [],
      "include_colab_link": true
    },
    "kernelspec": {
      "display_name": "Python 3 (ipykernel)",
      "language": "python",
      "name": "python3"
    },
    "language_info": {
      "codemirror_mode": {
        "name": "ipython",
        "version": 3
      },
      "file_extension": ".py",
      "mimetype": "text/x-python",
      "name": "python",
      "nbconvert_exporter": "python",
      "pygments_lexer": "ipython3",
      "version": "3.8.8"
    }
  },
  "nbformat": 4,
  "nbformat_minor": 0
}